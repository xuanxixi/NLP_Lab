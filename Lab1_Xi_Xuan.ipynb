{
  "cells": [
    {
      "cell_type": "markdown",
      "metadata": {
        "id": "6ifRHlCDWAQd"
      },
      "source": [
        "# NLP Lab 2024 - LAB1: An introduction to Corpus Linguistics\n",
        "In this lab we delve directly into hands on practice with corpora and do some corpora analysis commonly used in NLP.\n",
        "\n",
        "To complete this lab you need to read the material associated to this lab; the following two book chapters (also available in the Moodle, under the Corpora and Annotation tab):\n",
        "- Corpora: McEnery, Oxford Handbook of CL, 2nd editionFile ([link here](https://elearn.uef.fi/mod/resource/view.php?id=607594))\n",
        "- Corpus annotation: Hovy, Oxford Handbook of CL, 2nd editionFile ([link here](https://elearn.uef.fi/mod/resource/view.php?id=607595))\n",
        "- Text segmentation: Mikheev, Oxford Handbook of CL, 2nd editionFile ([ADD link]())\n",
        "\n",
        "\n",
        "\n",
        "We will use Python's popular `nltk` (Natural Language Toolkit) and `matplotlib` for visualizations.\n",
        "\n",
        "#### **Overview:**\n",
        "Corpus Linguistics is the study of language based on large collections of \"real world\" texts known as corpora (the plural of corpus). It involves analyzing patterns, frequencies, and trends in language using computational methods.\n",
        "\n",
        "In this tutorial, we will:\n",
        "1. Explore basic concepts of Corpus Linguistics\n",
        "2. Learn how to work with corpora using Python and the `nltk` library\n",
        "3. Conduct basic analysis such as word frequency and collocations\n",
        "4. Hopefully, we'll get to know your own corpus interests (if there are)\n",
        "5. Questions and answers  during contact session 1\n"
      ]
    },
    {
      "cell_type": "markdown",
      "metadata": {
        "id": "SwRrSDtxio3C"
      },
      "source": [
        "## **Part 1: Introduction, Definitions and Motivation**\n",
        "\n",
        "### Corpora\n",
        "First we need to define what Corpora is. Here is an excerpt form Tony McEnery's\n",
        "\"The Oxford Handbook of Computational Linguistics 2nd edition\" (Edited by Ruslan Mitkov)\n",
        "\n",
        "\n",
        "> “[...], a slightly more refined definition of a corpus is needed than that which has been introduced so far. It has been established that __a corpus is a collection of naturally occurring language data. But is any collection of language data, from three sentences to three million words of data, a corpus?__ The term ‘corpus’ should properly only be applied to a well-organized collection of data, collected within the boundaries of a sampling frame designed to (i) allow the exploration of a certain linguistic feature (or set of features) or (ii) permit the training of an NLP tool via the data collected. A sampling frame is of crucial importance in corpus design. Sampling is inescapable. Unless the object of study is a highly restricted sublanguage or a dead language, it is quite impossible to collect all of the utterances of a natural language together within one corpus. As a consequence, the corpus should aim for balance and representativeness within a specific sampling frame, in order to allow a particular variety of language to be studied or modelled.”"
      ]
    },
    {
      "cell_type": "markdown",
      "metadata": {
        "id": "LJRCabCrZ0Nc"
      },
      "source": [
        "### Exercise 1:\n",
        "__Core concepts__\n",
        "Q1. Acording to the reading material provided, what is the difference between annotated and unannotated data? What is the utility of annotating data? Add your anwers in the following code box. Include examples."
      ]
    },
    {
      "cell_type": "code",
      "execution_count": 2,
      "metadata": {
        "id": "EnnmsCPRc39W"
      },
      "outputs": [],
      "source": [
        "# Answer to Exercise 1:\n",
        "\n",
        "# Annotated data refers to data that has been supplemented with labels, annotations, or metadata\n",
        "# to describe specific features or information within the data. For example, a text corpus may have\n",
        "# part-of-speech (POS) tags to mark the grammatical class of each word, or time-alignment markers\n",
        "# may be added to speech data. Unannotated data, on the other hand, is raw data without any added\n",
        "# information or annotations.\n",
        "\n",
        "# The primary utility of annotated data is to provide a basis for supervised learning in machine\n",
        "# learning and natural language processing tasks. For example, an annotated corpus can be used to\n",
        "# train a POS tagger, enabling a model to learn how to identify and classify different parts of speech.\n",
        "\n",
        "# Examples:\n",
        "\n",
        "# Unannotated data:\n",
        "# \"The cat sat on the mat.\"\n",
        "\n",
        "# Annotated data:\n",
        "# \"The/DET cat/NOUN sat/VERB on/ADP the/DET mat/NOUN.\"\n",
        "\n",
        "# In the example of annotated data, each word is followed by a POS tag, which provides additional\n",
        "# information for machine learning models, allowing them to learn how to annotate new data automatically.\n",
        "\n",
        "# Annotated data is very useful for many NLP tasks, such as parsing, named entity recognition (NER),\n",
        "# and sentiment analysis. By using annotated data, machine learning algorithms can more accurately\n",
        "# understand and process natural language, as they can learn specific language patterns and features.\n"
      ]
    },
    {
      "cell_type": "markdown",
      "metadata": {
        "id": "EsP0Ku23dZ1t"
      },
      "source": [
        "Q2. Shortly describe what are the following two pieces of text, and how could the tags be used?\n",
        "\n",
        "\n",
        "> • Course_NN1 reading_NN1 materials_NN2 are_VBB\n",
        "in_PRP Moodle_NP0 ,_PUN and_CJC the_AT0\n",
        "themes_NN2 are_VBB further_AV0 studied_VVN\n",
        "and_CJC discussed_VVN on_PRP lectures_NN2\n",
        "._SENT -----_PUN\n",
        "\n",
        "> • In_PRP this_DT0 so_AJ0 called_AJ0 flipped_VVD\n",
        "classroom_NN1 method_NN1\n",
        "study_NN1 materials_NN2 should_VM0 be_VBI\n",
        "read_VVN in_PRP advance_NN1 for_PRP each_DT0\n",
        "meeting_NN1 ._SENT -----_PUN\n",
        "\n"
      ]
    },
    {
      "cell_type": "code",
      "execution_count": null,
      "metadata": {
        "id": "LpXIF_Jvd2vx"
      },
      "outputs": [],
      "source": [
        "# Answer:\n",
        "# These two pieces of text are sentences annotated with part-of-speech (POS) tags. Each word is followed by a tag that identifies its grammatical category. For example:\n",
        "\n",
        "# NN1 represents a singular noun\n",
        "# VBB represents a verb (be verb, third-person plural)\n",
        "# NP0 represents a proper noun\n",
        "# PUN represents punctuation\n",
        "# These tags can be used for various NLP tasks, such as:\n",
        "\n",
        "# Syntactic Parsing: Understanding the grammatical structure of sentences, which helps in syntactic parsing.\n",
        "# Named Entity Recognition (NER): Distinguishing proper nouns (e.g., Moodle_NP0) helps identify named entities in the text.\n",
        "# Machine Translation: POS tagging helps a machine better understand the language structure, resulting in more accurate translations.\n",
        "# Information Retrieval and Text Classification: POS information can be used to extract keywords more accurately and assist in tasks like text classification.\n",
        "# These tags provide rich grammatical information about the text, enabling machine learning models to better understand and process natural language."
      ]
    },
    {
      "cell_type": "markdown",
      "metadata": {
        "id": "xQRd-mu2faNV"
      },
      "source": [
        "\n",
        "\n",
        "---\n",
        "\n",
        "## **Short Intro to Corpus Linguistics**\n",
        "\n",
        "Corpus Linguistics is a methodology used to study language. It relies on large, structured collections of texts (called corpora) to uncover patterns, frequencies, and relationships within language.\n",
        "Corpora can contain millions of words from books, articles, conversations, etc.\n",
        "\n",
        "**Key Terms:**\n",
        "- **Corpus**: A large, structured set of texts used for linguistic analysis.\n",
        "- **Concordance**: A list showing a word in its context in a corpus.\n",
        "- **Collocation**: The habitual co-occurrence of a word with other words.\n",
        "- **Frequency Analysis**: Counting how often certain words or patterns occur.\n",
        "\n"
      ]
    },
    {
      "cell_type": "markdown",
      "metadata": {
        "id": "I-FBU8kkvACD"
      },
      "source": [
        "### Exercise 2:\n",
        "__Getting Started with `nltk` in Python__\n",
        "\n",
        "NLTK (Natural Language Toolkit) is a library in Python that provides tools for working with human language data, or text. It is widely used in NLP for a variety of tasks such as text analysis, tokenization, stemming, tagging, parsing, and semantic reasoning.\n",
        "\n",
        "In this exercise, you will explore the **Gutenberg Corpus** using NLTK. You'll work with entire texts (without tokenizing them) and learn how to:\n",
        "- Access different texts in the Gutenberg Corpus.\n",
        "- Read and print excerpts from those texts.\n",
        "- Extract metadata such as word and character counts.\n",
        "- Compare the length of different works by famous authors."
      ]
    },
    {
      "cell_type": "code",
      "execution_count": 3,
      "metadata": {
        "id": "5-7DB6amjA0c"
      },
      "outputs": [],
      "source": [
        "# Install and import necessary libraries\n",
        "\n",
        "# Uncomment the line below to install nltk if you don't have it installed\n",
        "# !pip install nltk\n",
        "\n",
        "import nltk\n",
        "from nltk.corpus import gutenberg, inaugural\n",
        "from nltk import FreqDist\n",
        "import matplotlib.pyplot as plt\n"
      ]
    },
    {
      "cell_type": "markdown",
      "metadata": {
        "id": "C7UYhsD4jefD"
      },
      "source": [
        "`nltk` provides a wide variety of corpora, such as **Inaugural** (US presidents' inaugural speeches), **Brown** (with text from 15 different genres like news, fiction, essays, and science), **Movie_reviews** (reviews categorized by positive and negative sentiment), **Europarl** (multilingual European Parliament proceedings)., etc\n",
        "\n",
        "In the following code, we:\n",
        "- `nltk.download('gutenberg')`: downloads a corpus of classical literature called **Gutenberg**.\n",
        "- `gutenberg.fileids()`: gives a list of available texts to explore.\n"
      ]
    },
    {
      "cell_type": "code",
      "execution_count": 10,
      "metadata": {
        "colab": {
          "base_uri": "https://localhost:8080/"
        },
        "id": "UIP_wKOrjet5",
        "outputId": "50a6b26c-8964-4c4a-b9d8-4acb415b63a1"
      },
      "outputs": [
        {
          "output_type": "stream",
          "name": "stderr",
          "text": [
            "[nltk_data] Downloading package gutenberg to /root/nltk_data...\n",
            "[nltk_data]   Package gutenberg is already up-to-date!\n"
          ]
        }
      ],
      "source": [
        "# Download the corpora\n",
        "nltk.download('gutenberg')\n",
        "\n",
        "# Load a sample corpus (Gutenberg collection)\n",
        "texts = nltk.corpus.gutenberg.fileids()"
      ]
    },
    {
      "cell_type": "markdown",
      "metadata": {
        "id": "wHTD30G6nn2c"
      },
      "source": [
        "__Q1.__ How many texts are included in the Gutenberg corpus?\n",
        "Add your answer in the following block of code. If you want to write \"natural\" text, you will need to add it as a comment, by adding a `#`, as I did in the previous blocks.\n",
        "_Hint: you can use the `print` or the `len` functions_"
      ]
    },
    {
      "cell_type": "code",
      "execution_count": 11,
      "metadata": {
        "colab": {
          "base_uri": "https://localhost:8080/"
        },
        "id": "LC8bH6Yan4ST",
        "outputId": "4d4dcbd8-1391-4d93-a032-db6a61f773c1"
      },
      "outputs": [
        {
          "output_type": "stream",
          "name": "stdout",
          "text": [
            "Number of texts in the Gutenberg corpus: 18\n"
          ]
        }
      ],
      "source": [
        "\n",
        "# Calculate the number of texts in the Gutenberg corpus\n",
        "num_texts = len(texts)\n",
        "\n",
        "# Print the result\n",
        "print(\"Number of texts in the Gutenberg corpus:\", num_texts)"
      ]
    },
    {
      "cell_type": "markdown",
      "metadata": {
        "id": "6nzTRTsToj17"
      },
      "source": [
        "**Reading Raw Text from a File:** Pick one text from the list (e.g., *Emma* by Jane Austen: `'austen-emma.txt'`). Extract a small excerpt of the raw text (the first 500 characters) to get an idea of what it looks like.\n",
        "\n"
      ]
    },
    {
      "cell_type": "code",
      "execution_count": 12,
      "metadata": {
        "id": "NFxWUlDHpiUQ",
        "colab": {
          "base_uri": "https://localhost:8080/"
        },
        "outputId": "f2604c6c-d413-4e93-bbb3-5e71c7922346"
      },
      "outputs": [
        {
          "output_type": "stream",
          "name": "stdout",
          "text": [
            "Excerpt from 'Emma' by Jane Austen:\n",
            "[Emma by Jane Austen 1816]\n",
            "\n",
            "VOLUME I\n",
            "\n",
            "CHAPTER I\n",
            "\n",
            "\n",
            "Emma Woodhouse, handsome, clever, and rich, with a comfortable home\n",
            "and happy disposition, seemed to unite some of the best blessings\n",
            "of existence; and had lived nearly twenty-one years in the world\n",
            "with very little to distress or vex her.\n",
            "\n",
            "She was the youngest of the two daughters of a most affectionate,\n",
            "indulgent father; and had, in consequence of her sister's marriage,\n",
            "been mistress of his house from a very early period.  Her mother\n",
            "had died t\n"
          ]
        }
      ],
      "source": [
        "# Choose Jane Austen's \"Emma\" from the corpus\n",
        "emma_text = gutenberg.raw('austen-emma.txt')\n",
        "\n",
        "# Display the first 500 characters of the text\n",
        "print(\"Excerpt from 'Emma' by Jane Austen:\")\n",
        "print(emma_text[:500])\n"
      ]
    },
    {
      "cell_type": "markdown",
      "metadata": {
        "id": "Sx9aF6MYnwpP"
      },
      "source": [
        "\n",
        "**Q2.** What is the first line or paragraph of *Alice in Wonderland* by Lewis Caroll?\n",
        "\n"
      ]
    },
    {
      "cell_type": "code",
      "execution_count": 14,
      "metadata": {
        "id": "bmH86u19qFyI",
        "colab": {
          "base_uri": "https://localhost:8080/"
        },
        "outputId": "c3bd049d-d46e-4091-ab45-018ff98e26b0"
      },
      "outputs": [
        {
          "output_type": "stream",
          "name": "stderr",
          "text": [
            "[nltk_data] Downloading package punkt to /root/nltk_data...\n",
            "[nltk_data]   Unzipping tokenizers/punkt.zip.\n"
          ]
        },
        {
          "output_type": "stream",
          "name": "stdout",
          "text": [
            "The first line of 'Alice in Wonderland' by Lewis Carroll:\n",
            "[ Alice ' s Adventures in Wonderland by Lewis Carroll 1865 ]\n"
          ]
        }
      ],
      "source": [
        "# Download 'punkt' tokenizer to avoid the LookupError\n",
        "nltk.download('punkt')\n",
        "\n",
        "# Get the first line or paragraph of \"Alice in Wonderland\"\n",
        "alice_text = gutenberg.sents('carroll-alice.txt')  # Get sentences from the book\n",
        "first_sentence = \" \".join(alice_text[0])  # Join the tokens of the first sentence\n",
        "\n",
        "# Print the result\n",
        "print(\"The first line of 'Alice in Wonderland' by Lewis Carroll:\")\n",
        "print(first_sentence)\n"
      ]
    },
    {
      "cell_type": "markdown",
      "metadata": {
        "id": "wxy7hYsXqGH6"
      },
      "source": [
        "**Counting Words and Characters**: You can calculate the total number of characters and words in the raw text. For word count, you can simply split the text by spaces.\n"
      ]
    },
    {
      "cell_type": "code",
      "execution_count": null,
      "metadata": {
        "id": "jJTHEDs5qZXI",
        "colab": {
          "base_uri": "https://localhost:8080/"
        },
        "outputId": "e0cf819b-4737-49e2-db98-226f60fd118c"
      },
      "outputs": [
        {
          "output_type": "stream",
          "name": "stdout",
          "text": [
            "Total number of characters in 'Emma': 887071\n",
            "Estimated number of words in 'Emma': 158167\n"
          ]
        }
      ],
      "source": [
        "# Calculate the number of characters in the text\n",
        "num_chars = len(emma_text)\n",
        "\n",
        "# Estimate the number of words by counting spaces\n",
        "num_words = len(emma_text.split())\n",
        "\n",
        "# Print the results\n",
        "print(f\"Total number of characters in 'Emma': {num_chars}\")\n",
        "print(f\"Estimated number of words in 'Emma': {num_words}\")"
      ]
    },
    {
      "cell_type": "markdown",
      "metadata": {
        "id": "tBAIbqtQqZlf"
      },
      "source": [
        "**Q3.** How many characters and words are there in *Moby Dick* by H. Melville?\n"
      ]
    },
    {
      "cell_type": "code",
      "execution_count": 15,
      "metadata": {
        "id": "bn0xuKAiqv9P",
        "colab": {
          "base_uri": "https://localhost:8080/"
        },
        "outputId": "5498867b-8f01-442d-b33a-a542aac766e6"
      },
      "outputs": [
        {
          "output_type": "stream",
          "name": "stdout",
          "text": [
            "Number of characters in 'Moby Dick' by H. Melville: 1242990\n",
            "Number of words in 'Moby Dick' by H. Melville: 212030\n"
          ]
        }
      ],
      "source": [
        "# Get the text of \"Moby Dick\"\n",
        "moby_dick_text = gutenberg.raw('melville-moby_dick.txt')  # Get raw text from the book\n",
        "\n",
        "# Calculate the number of characters and words\n",
        "num_characters = len(moby_dick_text)  # Number of characters\n",
        "num_words = len(moby_dick_text.split())  # Number of words (splitting by whitespace)\n",
        "\n",
        "# Print the results\n",
        "print(\"Number of characters in 'Moby Dick' by H. Melville:\", num_characters)\n",
        "print(\"Number of words in 'Moby Dick' by H. Melville:\", num_words)"
      ]
    },
    {
      "cell_type": "markdown",
      "metadata": {
        "id": "B56bLTaWqwJv"
      },
      "source": [
        "\n",
        "**Compare Text Lengths of Different Works:** Now, let's compare the lengths of two other texts from the Gutenberg Corpus, such as *Moby Dick* by Herman Melville and *Hamlet* by William Shakespeare."
      ]
    },
    {
      "cell_type": "code",
      "execution_count": 16,
      "metadata": {
        "id": "rmSyufmZq9tr",
        "colab": {
          "base_uri": "https://localhost:8080/"
        },
        "outputId": "678bacd0-5bfa-4c64-d58c-c6b2a3b92cf4"
      },
      "outputs": [
        {
          "output_type": "stream",
          "name": "stdout",
          "text": [
            "\n",
            "Total number of characters in 'Moby Dick': 1242990\n",
            "Estimated number of words in 'Moby Dick': 212030\n",
            "\n",
            "Total number of characters in 'Hamlet': 162881\n",
            "Estimated number of words in 'Hamlet': 29605\n"
          ]
        }
      ],
      "source": [
        "# Get raw text from \"Moby Dick\" and \"Hamlet\"\n",
        "moby_dick_text = gutenberg.raw('melville-moby_dick.txt')\n",
        "hamlet_text = gutenberg.raw('shakespeare-hamlet.txt')\n",
        "\n",
        "# Calculate number of characters and words for each text\n",
        "moby_dick_chars = len(moby_dick_text)\n",
        "moby_dick_words = len(moby_dick_text.split())\n",
        "\n",
        "hamlet_chars = len(hamlet_text)\n",
        "hamlet_words = len(hamlet_text.split())\n",
        "\n",
        "# Print the results\n",
        "print(f\"\\nTotal number of characters in 'Moby Dick': {moby_dick_chars}\")\n",
        "print(f\"Estimated number of words in 'Moby Dick': {moby_dick_words}\")\n",
        "\n",
        "print(f\"\\nTotal number of characters in 'Hamlet': {hamlet_chars}\")\n",
        "print(f\"Estimated number of words in 'Hamlet': {hamlet_words}\")\n"
      ]
    },
    {
      "cell_type": "markdown",
      "metadata": {
        "id": "BC8ncqRdq95Y"
      },
      "source": [
        "\n",
        "**Q4.** Which book is longer: *Moby Dick* or *Emma*? How many more words does the longer book have? Which is the longest book in the Gutenberg corpus?\n"
      ]
    },
    {
      "cell_type": "code",
      "execution_count": 17,
      "metadata": {
        "id": "QBsGUItYrHWD",
        "colab": {
          "base_uri": "https://localhost:8080/"
        },
        "outputId": "9d0ee232-ded8-4d59-96f3-2327720d1fff"
      },
      "outputs": [
        {
          "output_type": "stream",
          "name": "stdout",
          "text": [
            "The longer book is 'Moby Dick', which has 53863 more words than 'Emma'.\n",
            "The longest book in the Gutenberg corpus is 'bible-kjv.txt' with 821133 words.\n"
          ]
        }
      ],
      "source": [
        "# Get the texts of \"Moby Dick\" and \"Emma\"\n",
        "moby_dick_text = gutenberg.raw('melville-moby_dick.txt')\n",
        "emma_text = gutenberg.raw('austen-emma.txt')\n",
        "\n",
        "# Calculate the number of words in each book\n",
        "num_words_moby_dick = len(moby_dick_text.split())\n",
        "num_words_emma = len(emma_text.split())\n",
        "\n",
        "# Determine which book is longer and the difference in word count\n",
        "if num_words_moby_dick > num_words_emma:\n",
        "    longer_book = \"Moby Dick\"\n",
        "    shorter_book = \"Emma\"\n",
        "    word_difference = num_words_moby_dick - num_words_emma\n",
        "else:\n",
        "    longer_book = \"Emma\"\n",
        "    shorter_book = \"Moby Dick\"\n",
        "    word_difference = num_words_emma - num_words_moby_dick\n",
        "\n",
        "# Print the result of the comparison\n",
        "print(f\"The longer book is '{longer_book}', which has {word_difference} more words than '{shorter_book}'.\")\n",
        "\n",
        "# Find the longest book in the Gutenberg corpus\n",
        "longest_book = None\n",
        "max_words = 0\n",
        "\n",
        "for book_id in gutenberg.fileids():\n",
        "    book_text = gutenberg.raw(book_id)\n",
        "    word_count = len(book_text.split())\n",
        "\n",
        "    if word_count > max_words:\n",
        "        max_words = word_count\n",
        "        longest_book = book_id\n",
        "\n",
        "# Print the longest book and its word count\n",
        "print(f\"The longest book in the Gutenberg corpus is '{longest_book}' with {max_words} words.\")"
      ]
    },
    {
      "cell_type": "markdown",
      "metadata": {
        "id": "kaR9xtJ9rHiI"
      },
      "source": [
        "**Basic Text Exploration: ** Let’s explore specific phrases or terms from the text. Search for the first occurrence of a specific phrase (e.g., \"Emma Woodhouse\") in Jane Austen’s *Emma*.\n"
      ]
    },
    {
      "cell_type": "code",
      "execution_count": 18,
      "metadata": {
        "colab": {
          "base_uri": "https://localhost:8080/"
        },
        "id": "58ejzlyIrdmc",
        "outputId": "57648b15-50e6-41c1-ce6e-802f9a48b460"
      },
      "outputs": [
        {
          "output_type": "stream",
          "name": "stdout",
          "text": [
            "\n",
            "'Emma Woodhouse' found at index 50:\n",
            "Emma Woodhouse, handsome, clever, and rich, with a comfortable home\n",
            "and happy disposition, seemed to unite some of the best blessings\n",
            "of existence; and had lived nearly twenty-one years in the world\n",
            "w\n"
          ]
        }
      ],
      "source": [
        "# Find the first occurrence of \"Emma Woodhouse\"\n",
        "search_term = \"Emma Woodhouse\"\n",
        "start_index = emma_text.find(search_term)\n",
        "\n",
        "# Print a portion of the text surrounding the search term\n",
        "if start_index != -1:\n",
        "    print(f\"\\n'{search_term}' found at index {start_index}:\")\n",
        "    print(emma_text[start_index:start_index + 200])  # Print a 200-character excerpt\n",
        "else:\n",
        "    print(f\"\\n'{search_term}' not found in the text.\")"
      ]
    },
    {
      "cell_type": "markdown",
      "metadata": {
        "id": "4I9YSO5Mre-i"
      },
      "source": [
        "\n",
        "**Q5.** Where does the term \"Emma Woodhouse\" first appear in *Emma*? Provide the first 200 characters surrounding this phrase.\n"
      ]
    },
    {
      "cell_type": "code",
      "execution_count": 19,
      "metadata": {
        "id": "rKahKUISrkso",
        "colab": {
          "base_uri": "https://localhost:8080/"
        },
        "outputId": "dc1dcc3c-7821-4b93-f7d6-c88bfc9771c4"
      },
      "outputs": [
        {
          "output_type": "stream",
          "name": "stdout",
          "text": [
            "Surrounding text around the first occurrence of 'Emma Woodhouse':\n",
            "[Emma by Jane Austen 1816]\n",
            "\n",
            "VOLUME I\n",
            "\n",
            "CHAPTER I\n",
            "\n",
            "\n",
            "Emma Woodhouse, handsome, clever, and rich, with a comfortable home\n",
            "and happy disposition, seemed to unite some of\n"
          ]
        }
      ],
      "source": [
        "# Get the text of \"Emma\"\n",
        "emma_text = gutenberg.raw('austen-emma.txt')\n",
        "\n",
        "# Find the first occurrence of \"Emma Woodhouse\"\n",
        "target_phrase = \"Emma Woodhouse\"\n",
        "first_occurrence_index = emma_text.find(target_phrase)\n",
        "\n",
        "# Calculate the starting and ending index for surrounding context (200 characters)\n",
        "start_index = max(0, first_occurrence_index - 100)\n",
        "end_index = min(len(emma_text), first_occurrence_index + len(target_phrase) + 100)\n",
        "\n",
        "# Extract the surrounding text\n",
        "surrounding_text = emma_text[start_index:end_index]\n",
        "\n",
        "# Print the result\n",
        "print(\"Surrounding text around the first occurrence of 'Emma Woodhouse':\")\n",
        "print(surrounding_text)"
      ]
    },
    {
      "cell_type": "markdown",
      "metadata": {
        "id": "rMe3zgWTrk3K"
      },
      "source": [
        "#### **Wrap-up Questions:**\n",
        "1. How can corpus linguistics help in analyzing the length and structure of literary works?\n",
        "2. What patterns did you notice about the length of different works (e.g., *Moby Dick* vs. *Hamlet*)?\n"
      ]
    },
    {
      "cell_type": "code",
      "execution_count": 20,
      "metadata": {
        "id": "N1wIf090sSJj"
      },
      "outputs": [],
      "source": [
        "# Wrap-up Questions:\n",
        "\n",
        "# How can corpus linguistics help in analyzing the length and structure of literary works?\n",
        "# Corpus linguistics provides tools to analyze large amounts of text systematically. By leveraging corpus techniques,\n",
        "# we can easily compute features such as word count, sentence length, vocabulary richness, and structural patterns\n",
        "# in literary works. For instance, measuring the frequency of certain words, phrases, or grammatical structures can\n",
        "# reveal stylistic tendencies of an author. Additionally, using part-of-speech tagging and parsing, we can study the\n",
        "# complexity of sentence structures, analyze character dialogue, and compare different works quantitatively.\n",
        "\n",
        "# What patterns did you notice about the length of different works (e.g., Moby Dick vs. Hamlet)?\n",
        "# When comparing works like \"Moby Dick\" and \"Hamlet,\" there is a noticeable difference in their length.\n",
        "# \"Moby Dick\" is significantly longer in terms of word count compared to \"Hamlet,\" which is a play and naturally shorter.\n",
        "# Long novels such as \"Moby Dick\" tend to have more descriptive passages, detailed character development, and complex plots,\n",
        "# whereas shorter works like \"Hamlet\" are concise, focusing more on dialogue and plot progression.\n",
        "# This reflects differences in genre, writing style, and the purpose of the text. Plays are designed for performance,\n",
        "# often requiring brevity, whereas novels provide the freedom for elaborate narrative descriptions.\n"
      ]
    },
    {
      "cell_type": "markdown",
      "metadata": {
        "id": "1RS7SlsvjKST"
      },
      "source": [
        "---\n",
        "## **Text Tokenization**\n",
        "So far we have explored raw text in the Gutenberg Corpus, the next step is to introduce text tokenization. Tokenization is the process of splitting text into meaningful pieces, such as words (word tokenization), sentences (sentence tokenization) or word-pieces (sub-word tokenization). This is a fundamental step in any natural language processing (NLP) task because it breaks down raw text into smaller components that are easier to analyze.\n",
        "\n"
      ]
    },
    {
      "cell_type": "markdown",
      "metadata": {
        "id": "OKXngdIZ2VqI"
      },
      "source": [
        "### Exercise 3:\n",
        "Here you will learn how to tokenize text using NLTK’s built-in tokenizers. In short, you will:\n",
        "- Use sentence tokenization to split a text into individual sentences.\n",
        "- Use word tokenization to break down sentences or text into individual words.\n",
        "- Analyze basic statistics about tokenized text, like the number of words and sentences.\n",
        "\n",
        "**Import NLTK’s Tokenizers**: Before starting, make sure to import the necessary modules from NLTK, including sent_tokenize for sentence tokenization the word_tokenize for word tokenization and download the `punkt` tokenizer.\n",
        "- Punkt is a pre-trained tokenizer model included in the NLTK library that is used for splitting text into sentences or words. Specifically, it provides unsupervised machine learning models for sentence tokenization (also known as sentence boundary detection). This means that the Punkt tokenizer can accurately identify sentence boundaries without needing prior knowledge of the language's grammar rules or syntactic structures."
      ]
    },
    {
      "cell_type": "code",
      "execution_count": 21,
      "metadata": {
        "colab": {
          "base_uri": "https://localhost:8080/"
        },
        "id": "kS6HOyLqzOPs",
        "outputId": "774974d6-643a-4ea2-bb6a-e02b1af01bd9"
      },
      "outputs": [
        {
          "output_type": "stream",
          "name": "stderr",
          "text": [
            "[nltk_data] Downloading package punkt to /root/nltk_data...\n",
            "[nltk_data]   Package punkt is already up-to-date!\n"
          ]
        }
      ],
      "source": [
        "from nltk.tokenize import sent_tokenize, word_tokenize\n",
        "nltk.download('punkt')  # Ensure the 'punkt' tokenizer is downloaded\n",
        "\n",
        "# Let's work with one book from the Gutenberg corpus: \"Emma\" by Jane Austen\n",
        "emma_text = gutenberg.raw('austen-emma.txt')\n",
        "\n",
        "# Tokenize the text into words\n",
        "emma_tokens = nltk.word_tokenize(emma_text)"
      ]
    },
    {
      "cell_type": "markdown",
      "metadata": {
        "id": "xb1R2NvmzUT7"
      },
      "source": [
        "**Q1.** What is the difference between `emma_tokens` and `emma_text`? What if you define a new variable `# emma_sents = sent_tokenize(emma_text)`? What does it contain and how it differs from the other two?"
      ]
    },
    {
      "cell_type": "code",
      "execution_count": 23,
      "metadata": {
        "id": "rWcA7RmB0ARv",
        "colab": {
          "base_uri": "https://localhost:8080/"
        },
        "outputId": "a3468b47-0ff6-4be3-bb48-8759d2bdd3f7"
      },
      "outputs": [
        {
          "output_type": "execute_result",
          "data": {
            "text/plain": [
              "['[Emma by Jane Austen 1816]\\n\\nVOLUME I\\n\\nCHAPTER I\\n\\n\\nEmma Woodhouse, handsome, clever, and rich, with a comfortable home\\nand happy disposition, seemed to unite some of the best blessings\\nof existence; and had lived nearly twenty-one years in the world\\nwith very little to distress or vex her.',\n",
              " \"She was the youngest of the two daughters of a most affectionate,\\nindulgent father; and had, in consequence of her sister's marriage,\\nbeen mistress of his house from a very early period.\",\n",
              " 'Her mother\\nhad died too long ago for her to have more than an indistinct\\nremembrance of her caresses; and her place had been supplied\\nby an excellent woman as governess, who had fallen little short\\nof a mother in affection.',\n",
              " \"Sixteen years had Miss Taylor been in Mr. Woodhouse's family,\\nless as a governess than a friend, very fond of both daughters,\\nbut particularly of Emma.\",\n",
              " 'Between _them_ it was more the intimacy\\nof sisters.',\n",
              " \"Even before Miss Taylor had ceased to hold the nominal\\noffice of governess, the mildness of her temper had hardly allowed\\nher to impose any restraint; and the shadow of authority being\\nnow long passed away, they had been living together as friend and\\nfriend very mutually attached, and Emma doing just what she liked;\\nhighly esteeming Miss Taylor's judgment, but directed chiefly by\\nher own.\",\n",
              " \"The real evils, indeed, of Emma's situation were the power of having\\nrather too much her own way, and a disposition to think a little\\ntoo well of herself; these were the disadvantages which threatened\\nalloy to her many enjoyments.\",\n",
              " 'The danger, however, was at present\\nso unperceived, that they did not by any means rank as misfortunes\\nwith her.',\n",
              " 'Sorrow came--a gentle sorrow--but not at all in the shape of any\\ndisagreeable consciousness.--Miss Taylor married.',\n",
              " \"It was Miss\\nTaylor's loss which first brought grief.\",\n",
              " 'It was on the wedding-day\\nof this beloved friend that Emma first sat in mournful thought\\nof any continuance.',\n",
              " 'The wedding over, and the bride-people gone,\\nher father and herself were left to dine together, with no prospect\\nof a third to cheer a long evening.',\n",
              " 'Her father composed himself\\nto sleep after dinner, as usual, and she had then only to sit\\nand think of what she had lost.',\n",
              " 'The event had every promise of happiness for her friend.',\n",
              " \"Mr. Weston\\nwas a man of unexceptionable character, easy fortune, suitable age,\\nand pleasant manners; and there was some satisfaction in considering\\nwith what self-denying, generous friendship she had always wished\\nand promoted the match; but it was a black morning's work for her.\",\n",
              " 'The want of Miss Taylor would be felt every hour of every day.',\n",
              " 'She recalled her past kindness--the kindness, the affection of sixteen\\nyears--how she had taught and how she had played with her from five\\nyears old--how she had devoted all her powers to attach and amuse\\nher in health--and how nursed her through the various illnesses\\nof childhood.',\n",
              " \"A large debt of gratitude was owing here; but the\\nintercourse of the last seven years, the equal footing and perfect\\nunreserve which had soon followed Isabella's marriage, on their\\nbeing left to each other, was yet a dearer, tenderer recollection.\",\n",
              " 'She had been a friend and companion such as few possessed: intelligent,\\nwell-informed, useful, gentle, knowing all the ways of the family,\\ninterested in all its concerns, and peculiarly interested in herself,\\nin every pleasure, every scheme of hers--one to whom she could speak\\nevery thought as it arose, and who had such an affection for her\\nas could never find fault.',\n",
              " 'How was she to bear the change?--It was true that her friend was\\ngoing only half a mile from them; but Emma was aware that great must\\nbe the difference between a Mrs. Weston, only half a mile from them,\\nand a Miss Taylor in the house; and with all her advantages,\\nnatural and domestic, she was now in great danger of suffering\\nfrom intellectual solitude.',\n",
              " 'She dearly loved her father, but he\\nwas no companion for her.',\n",
              " 'He could not meet her in conversation,\\nrational or playful.',\n",
              " 'The evil of the actual disparity in their ages (and Mr. Woodhouse had\\nnot married early) was much increased by his constitution and habits;\\nfor having been a valetudinarian all his life, without activity\\nof mind or body, he was a much older man in ways than in years;\\nand though everywhere beloved for the friendliness of his heart\\nand his amiable temper, his talents could not have recommended him\\nat any time.',\n",
              " 'Her sister, though comparatively but little removed by matrimony,\\nbeing settled in London, only sixteen miles off, was much beyond\\nher daily reach; and many a long October and November evening must\\nbe struggled through at Hartfield, before Christmas brought the next\\nvisit from Isabella and her husband, and their little children,\\nto fill the house, and give her pleasant society again.',\n",
              " 'Highbury, the large and populous village, almost amounting to a town,\\nto which Hartfield, in spite of its separate lawn, and shrubberies,\\nand name, did really belong, afforded her no equals.',\n",
              " 'The Woodhouses\\nwere first in consequence there.',\n",
              " 'All looked up to them.',\n",
              " 'She had\\nmany acquaintance in the place, for her father was universally civil,\\nbut not one among them who could be accepted in lieu of Miss\\nTaylor for even half a day.',\n",
              " 'It was a melancholy change; and Emma\\ncould not but sigh over it, and wish for impossible things,\\ntill her father awoke, and made it necessary to be cheerful.',\n",
              " 'His spirits required support.',\n",
              " 'He was a nervous man, easily depressed;\\nfond of every body that he was used to, and hating to part with them;\\nhating change of every kind.',\n",
              " \"Matrimony, as the origin of change,\\nwas always disagreeable; and he was by no means yet reconciled\\nto his own daughter's marrying, nor could ever speak of her but\\nwith compassion, though it had been entirely a match of affection,\\nwhen he was now obliged to part with Miss Taylor too; and from\\nhis habits of gentle selfishness, and of being never able to\\nsuppose that other people could feel differently from himself,\\nhe was very much disposed to think Miss Taylor had done as sad\\na thing for herself as for them, and would have been a great deal\\nhappier if she had spent all the rest of her life at Hartfield.\",\n",
              " 'Emma smiled and chatted as cheerfully as she could, to keep him\\nfrom such thoughts; but when tea came, it was impossible for him\\nnot to say exactly as he had said at dinner,\\n\\n\"Poor Miss Taylor!--I wish she were here again.',\n",
              " 'What a pity it\\nis that Mr. Weston ever thought of her!\"',\n",
              " '\"I cannot agree with you, papa; you know I cannot.',\n",
              " 'Mr. Weston is such\\na good-humoured, pleasant, excellent man, that he thoroughly deserves\\na good wife;--and you would not have had Miss Taylor live with us\\nfor ever, and bear all my odd humours, when she might have a house of her own?\"',\n",
              " '\"A house of her own!--But where is the advantage of a house of her own?',\n",
              " 'This is three times as large.--And you have never any odd humours,\\nmy dear.\"',\n",
              " '\"How often we shall be going to see them, and they coming to see\\nus!--We shall be always meeting!',\n",
              " '_We_ must begin; we must go and pay\\nwedding visit very soon.\"',\n",
              " '\"My dear, how am I to get so far?',\n",
              " 'Randalls is such a distance.',\n",
              " 'I could not walk half so far.\"',\n",
              " '\"No, papa, nobody thought of your walking.',\n",
              " 'We must go in the carriage,\\nto be sure.\"',\n",
              " '\"The carriage!',\n",
              " 'But James will not like to put the horses to for\\nsuch a little way;--and where are the poor horses to be while we\\nare paying our visit?\"',\n",
              " '\"They are to be put into Mr. Weston\\'s stable, papa.',\n",
              " 'You know we\\nhave settled all that already.',\n",
              " 'We talked it all over with Mr. Weston\\nlast night.',\n",
              " \"And as for James, you may be very sure he will always like\\ngoing to Randalls, because of his daughter's being housemaid there.\",\n",
              " 'I only doubt whether he will ever take us anywhere else.',\n",
              " 'That was\\nyour doing, papa.',\n",
              " 'You got Hannah that good place.',\n",
              " 'Nobody thought\\nof Hannah till you mentioned her--James is so obliged to you!\"',\n",
              " '\"I am very glad I did think of her.',\n",
              " 'It was very lucky, for I would\\nnot have had poor James think himself slighted upon any account;\\nand I am sure she will make a very good servant: she is a civil,\\npretty-spoken girl; I have a great opinion of her.',\n",
              " 'Whenever I see her,\\nshe always curtseys and asks me how I do, in a very pretty manner;\\nand when you have had her here to do needlework, I observe she\\nalways turns the lock of the door the right way and never bangs it.',\n",
              " 'I am sure she will be an excellent servant; and it will be a great\\ncomfort to poor Miss Taylor to have somebody about her that she is\\nused to see.',\n",
              " 'Whenever James goes over to see his daughter, you know,\\nshe will be hearing of us.',\n",
              " 'He will be able to tell her how we\\nall are.\"',\n",
              " 'Emma spared no exertions to maintain this happier flow of ideas,\\nand hoped, by the help of backgammon, to get her father tolerably\\nthrough the evening, and be attacked by no regrets but her own.',\n",
              " 'The backgammon-table was placed; but a visitor immediately afterwards\\nwalked in and made it unnecessary.',\n",
              " \"Mr. Knightley, a sensible man about seven or eight-and-thirty, was not\\nonly a very old and intimate friend of the family, but particularly\\nconnected with it, as the elder brother of Isabella's husband.\",\n",
              " 'He lived about a mile from Highbury, was a frequent visitor,\\nand always welcome, and at this time more welcome than usual,\\nas coming directly from their mutual connexions in London.',\n",
              " \"He had\\nreturned to a late dinner, after some days' absence, and now walked\\nup to Hartfield to say that all were well in Brunswick Square.\",\n",
              " 'It was a happy circumstance, and animated Mr. Woodhouse for some time.',\n",
              " 'Mr. Knightley had a cheerful manner, which always did him good;\\nand his many inquiries after \"poor Isabella\" and her children were\\nanswered most satisfactorily.',\n",
              " 'When this was over, Mr. Woodhouse\\ngratefully observed, \"It is very kind of you, Mr. Knightley, to come\\nout at this late hour to call upon us.',\n",
              " 'I am afraid you must have\\nhad a shocking walk.\"',\n",
              " '\"Not at all, sir.',\n",
              " 'It is a beautiful moonlight night; and so mild\\nthat I must draw back from your great fire.\"',\n",
              " '\"But you must have found it very damp and dirty.',\n",
              " 'I wish you may\\nnot catch cold.\"',\n",
              " '\"Dirty, sir!',\n",
              " 'Look at my shoes.',\n",
              " 'Not a speck on them.\"',\n",
              " '\"Well!',\n",
              " 'that is quite surprising, for we have had a vast deal\\nof rain here.',\n",
              " 'It rained dreadfully hard for half an hour\\nwhile we were at breakfast.',\n",
              " 'I wanted them to put off the wedding.\"',\n",
              " '\"By the bye--I have not wished you joy.',\n",
              " 'Being pretty well aware\\nof what sort of joy you must both be feeling, I have been in no hurry\\nwith my congratulations; but I hope it all went off tolerably well.',\n",
              " 'How did you all behave?',\n",
              " 'Who cried most?\"',\n",
              " '\"Ah!',\n",
              " 'poor Miss Taylor!',\n",
              " '\\'Tis a sad business.\"',\n",
              " '\"Poor Mr. and Miss Woodhouse, if you please; but I cannot possibly\\nsay `poor Miss Taylor.\\'',\n",
              " 'I have a great regard for you and Emma;\\nbut when it comes to the question of dependence or independence!--At\\nany rate, it must be better to have only one to please than two.\"',\n",
              " '\"Especially when _one_ of those two is such a fanciful, troublesome creature!\"',\n",
              " 'said Emma playfully.',\n",
              " '\"That is what you have in your head,\\nI know--and what you would certainly say if my father were not by.\"',\n",
              " '\"I believe it is very true, my dear, indeed,\" said Mr. Woodhouse,\\nwith a sigh.',\n",
              " '\"I am afraid I am sometimes very fanciful and troublesome.\"',\n",
              " '\"My dearest papa!',\n",
              " 'You do not think I could mean _you_, or suppose\\nMr. Knightley to mean _you_.',\n",
              " 'What a horrible idea!',\n",
              " 'Oh no!',\n",
              " 'I meant\\nonly myself.',\n",
              " 'Mr. Knightley loves to find fault with me, you know--\\nin a joke--it is all a joke.',\n",
              " 'We always say what we like to one another.\"',\n",
              " 'Mr. Knightley, in fact, was one of the few people who could see\\nfaults in Emma Woodhouse, and the only one who ever told her of them:\\nand though this was not particularly agreeable to Emma herself,\\nshe knew it would be so much less so to her father, that she would\\nnot have him really suspect such a circumstance as her not being\\nthought perfect by every body.',\n",
              " '\"Emma knows I never flatter her,\" said Mr. Knightley, \"but I\\nmeant no reflection on any body.',\n",
              " 'Miss Taylor has been used\\nto have two persons to please; she will now have but one.',\n",
              " 'The chances are that she must be a gainer.\"',\n",
              " '\"Well,\" said Emma, willing to let it pass--\"you want to hear\\nabout the wedding; and I shall be happy to tell you, for we all\\nbehaved charmingly.',\n",
              " 'Every body was punctual, every body in their\\nbest looks: not a tear, and hardly a long face to be seen.',\n",
              " 'Oh no;\\nwe all felt that we were going to be only half a mile apart,\\nand were sure of meeting every day.\"',\n",
              " '\"Dear Emma bears every thing so well,\" said her father.',\n",
              " '\"But, Mr. Knightley, she is really very sorry to lose poor Miss Taylor,\\nand I am sure she _will_ miss her more than she thinks for.\"',\n",
              " 'Emma turned away her head, divided between tears and smiles.',\n",
              " '\"It is impossible that Emma should not miss such a companion,\"\\nsaid Mr. Knightley.',\n",
              " '\"We should not like her so well as we do, sir,\\nif we could suppose it; but she knows how much the marriage is to\\nMiss Taylor\\'s advantage; she knows how very acceptable it must be,\\nat Miss Taylor\\'s time of life, to be settled in a home of her own,\\nand how important to her to be secure of a comfortable provision,\\nand therefore cannot allow herself to feel so much pain as pleasure.',\n",
              " 'Every friend of Miss Taylor must be glad to have her so happily\\nmarried.\"',\n",
              " '\"And you have forgotten one matter of joy to me,\" said Emma,\\n\"and a very considerable one--that I made the match myself.',\n",
              " 'I made the match, you know, four years ago; and to have it take place,\\nand be proved in the right, when so many people said Mr. Weston would\\nnever marry again, may comfort me for any thing.\"',\n",
              " 'Mr. Knightley shook his head at her.',\n",
              " 'Her father fondly replied,\\n\"Ah!',\n",
              " 'my dear, I wish you would not make matches and foretell things,\\nfor whatever you say always comes to pass.',\n",
              " 'Pray do not make any\\nmore matches.\"',\n",
              " '\"I promise you to make none for myself, papa; but I must, indeed,\\nfor other people.',\n",
              " 'It is the greatest amusement in the world!',\n",
              " 'And\\nafter such success, you know!--Every body said that Mr. Weston would\\nnever marry again.',\n",
              " 'Oh dear, no!',\n",
              " 'Mr. Weston, who had been a widower\\nso long, and who seemed so perfectly comfortable without a wife,\\nso constantly occupied either in his business in town or among his\\nfriends here, always acceptable wherever he went, always cheerful--\\nMr. Weston need not spend a single evening in the year alone if he did\\nnot like it.',\n",
              " 'Oh no!',\n",
              " 'Mr. Weston certainly would never marry again.',\n",
              " 'Some people even talked of a promise to his wife on her deathbed,\\nand others of the son and the uncle not letting him.',\n",
              " 'All manner\\nof solemn nonsense was talked on the subject, but I believed none\\nof it.',\n",
              " '\"Ever since the day--about four years ago--that Miss Taylor and I\\nmet with him in Broadway Lane, when, because it began to drizzle,\\nhe darted away with so much gallantry, and borrowed two umbrellas\\nfor us from Farmer Mitchell\\'s, I made up my mind on the subject.',\n",
              " 'I planned the match from that hour; and when such success has blessed\\nme in this instance, dear papa, you cannot think that I shall leave\\noff match-making.\"',\n",
              " '\"I do not understand what you mean by `success,\\'\" said Mr. Knightley.',\n",
              " '\"Success supposes endeavour.',\n",
              " 'Your time has been properly and\\ndelicately spent, if you have been endeavouring for the last four\\nyears to bring about this marriage.',\n",
              " \"A worthy employment for a young\\nlady's mind!\",\n",
              " \"But if, which I rather imagine, your making the match,\\nas you call it, means only your planning it, your saying to yourself\\none idle day, `I think it would be a very good thing for Miss Taylor\\nif Mr. Weston were to marry her,' and saying it again to yourself\\nevery now and then afterwards, why do you talk of success?\",\n",
              " 'Where\\nis your merit?',\n",
              " 'What are you proud of?',\n",
              " 'You made a lucky guess;\\nand _that_ is all that can be said.\"',\n",
              " '\"And have you never known the pleasure and triumph of a lucky guess?--\\nI pity you.--I thought you cleverer--for, depend upon it a lucky\\nguess is never merely luck.',\n",
              " 'There is always some talent in it.',\n",
              " \"And as to my poor word `success,' which you quarrel with, I do not\\nknow that I am so entirely without any claim to it.\",\n",
              " 'You have drawn\\ntwo pretty pictures; but I think there may be a third--a something\\nbetween the do-nothing and the do-all.',\n",
              " \"If I had not promoted Mr. Weston's\\nvisits here, and given many little encouragements, and smoothed\\nmany little matters, it might not have come to any thing after all.\",\n",
              " 'I think you must know Hartfield enough to comprehend that.\"',\n",
              " '\"A straightforward, open-hearted man like Weston, and a rational,\\nunaffected woman like Miss Taylor, may be safely left to manage their\\nown concerns.',\n",
              " 'You are more likely to have done harm to yourself,\\nthan good to them, by interference.\"',\n",
              " '\"Emma never thinks of herself, if she can do good to others,\"\\nrejoined Mr. Woodhouse, understanding but in part.',\n",
              " '\"But, my dear,\\npray do not make any more matches; they are silly things, and break up\\none\\'s family circle grievously.\"',\n",
              " '\"Only one more, papa; only for Mr. Elton.',\n",
              " 'Poor Mr. Elton!',\n",
              " 'You\\nlike Mr. Elton, papa,--I must look about for a wife for him.',\n",
              " 'There is nobody in Highbury who deserves him--and he has been\\nhere a whole year, and has fitted up his house so comfortably,\\nthat it would be a shame to have him single any longer--and I thought\\nwhen he was joining their hands to-day, he looked so very much as if\\nhe would like to have the same kind office done for him!',\n",
              " 'I think\\nvery well of Mr. Elton, and this is the only way I have of doing\\nhim a service.\"',\n",
              " '\"Mr. Elton is a very pretty young man, to be sure, and a very\\ngood young man, and I have a great regard for him.',\n",
              " 'But if you\\nwant to shew him any attention, my dear, ask him to come\\nand dine with us some day.',\n",
              " 'That will be a much better thing.',\n",
              " 'I dare say Mr. Knightley will be so kind as to meet him.\"',\n",
              " '\"With a great deal of pleasure, sir, at any time,\" said Mr. Knightley,\\nlaughing, \"and I agree with you entirely, that it will be a much\\nbetter thing.',\n",
              " 'Invite him to dinner, Emma, and help him to the best\\nof the fish and the chicken, but leave him to chuse his own wife.',\n",
              " 'Depend upon it, a man of six or seven-and-twenty can take care\\nof himself.\"',\n",
              " 'CHAPTER II\\n\\n\\nMr. Weston was a native of Highbury, and born of a respectable family,\\nwhich for the last two or three generations had been rising into\\ngentility and property.',\n",
              " 'He had received a good education, but,\\non succeeding early in life to a small independence, had become\\nindisposed for any of the more homely pursuits in which his brothers\\nwere engaged, and had satisfied an active, cheerful mind and social\\ntemper by entering into the militia of his county, then embodied.',\n",
              " 'Captain Weston was a general favourite; and when the chances\\nof his military life had introduced him to Miss Churchill,\\nof a great Yorkshire family, and Miss Churchill fell in love\\nwith him, nobody was surprized, except her brother and his wife,\\nwho had never seen him, and who were full of pride and importance,\\nwhich the connexion would offend.',\n",
              " 'Miss Churchill, however, being of age, and with the full command\\nof her fortune--though her fortune bore no proportion to the\\nfamily-estate--was not to be dissuaded from the marriage, and it\\ntook place, to the infinite mortification of Mr. and Mrs. Churchill,\\nwho threw her off with due decorum.',\n",
              " 'It was an unsuitable connexion,\\nand did not produce much happiness.',\n",
              " 'Mrs. Weston ought to have found\\nmore in it, for she had a husband whose warm heart and sweet temper\\nmade him think every thing due to her in return for the great goodness\\nof being in love with him; but though she had one sort of spirit,\\nshe had not the best.',\n",
              " \"She had resolution enough to pursue\\nher own will in spite of her brother, but not enough to refrain\\nfrom unreasonable regrets at that brother's unreasonable anger,\\nnor from missing the luxuries of her former home.\",\n",
              " 'They lived beyond\\ntheir income, but still it was nothing in comparison of Enscombe:\\nshe did not cease to love her husband, but she wanted at once\\nto be the wife of Captain Weston, and Miss Churchill of Enscombe.',\n",
              " \"Captain Weston, who had been considered, especially by the Churchills,\\nas making such an amazing match, was proved to have much the worst\\nof the bargain; for when his wife died, after a three years' marriage,\\nhe was rather a poorer man than at first, and with a child to maintain.\",\n",
              " 'From the expense of the child, however, he was soon relieved.',\n",
              " \"The boy had, with the additional softening claim of a lingering\\nillness of his mother's, been the means of a sort of reconciliation;\\nand Mr. and Mrs. Churchill, having no children of their own,\\nnor any other young creature of equal kindred to care for, offered to\\ntake the whole charge of the little Frank soon after her decease.\",\n",
              " 'Some scruples and some reluctance the widower-father may be supposed\\nto have felt; but as they were overcome by other considerations,\\nthe child was given up to the care and the wealth of the Churchills,\\nand he had only his own comfort to seek, and his own situation to\\nimprove as he could.',\n",
              " 'A complete change of life became desirable.',\n",
              " 'He quitted the militia\\nand engaged in trade, having brothers already established in a\\ngood way in London, which afforded him a favourable opening.',\n",
              " 'It was a concern which brought just employment enough.',\n",
              " 'He had still\\na small house in Highbury, where most of his leisure days were spent;\\nand between useful occupation and the pleasures of society,\\nthe next eighteen or twenty years of his life passed cheerfully away.',\n",
              " 'He had, by that time, realised an easy competence--enough to secure\\nthe purchase of a little estate adjoining Highbury, which he had\\nalways longed for--enough to marry a woman as portionless even\\nas Miss Taylor, and to live according to the wishes of his own\\nfriendly and social disposition.',\n",
              " 'It was now some time since Miss Taylor had begun to influence\\nhis schemes; but as it was not the tyrannic influence of youth\\non youth, it had not shaken his determination of never settling\\ntill he could purchase Randalls, and the sale of Randalls was long\\nlooked forward to; but he had gone steadily on, with these objects\\nin view, till they were accomplished.',\n",
              " 'He had made his fortune,\\nbought his house, and obtained his wife; and was beginning a new\\nperiod of existence, with every probability of greater happiness\\nthan in any yet passed through.',\n",
              " 'He had never been an unhappy man;\\nhis own temper had secured him from that, even in his first marriage;\\nbut his second must shew him how delightful a well-judging and truly\\namiable woman could be, and must give him the pleasantest proof\\nof its being a great deal better to choose than to be chosen,\\nto excite gratitude than to feel it.',\n",
              " \"He had only himself to please in his choice: his fortune was\\nhis own; for as to Frank, it was more than being tacitly brought\\nup as his uncle's heir, it had become so avowed an adoption\\nas to have him assume the name of Churchill on coming of age.\",\n",
              " \"It was most unlikely, therefore, that he should ever want his\\nfather's assistance.\",\n",
              " 'His father had no apprehension of it.',\n",
              " \"The aunt was a capricious woman, and governed her husband entirely;\\nbut it was not in Mr. Weston's nature to imagine that any caprice\\ncould be strong enough to affect one so dear, and, as he believed,\\nso deservedly dear.\",\n",
              " 'He saw his son every year in London,\\nand was proud of him; and his fond report of him as a very fine\\nyoung man had made Highbury feel a sort of pride in him too.',\n",
              " 'He was looked on as sufficiently belonging to the place to make his\\nmerits and prospects a kind of common concern.',\n",
              " 'Mr. Frank Churchill was one of the boasts of Highbury, and a lively\\ncuriosity to see him prevailed, though the compliment was so little\\nreturned that he had never been there in his life.',\n",
              " 'His coming\\nto visit his father had been often talked of but never achieved.',\n",
              " \"Now, upon his father's marriage, it was very generally proposed,\\nas a most proper attention, that the visit should take place.\",\n",
              " 'There was not a dissentient voice on the subject, either when\\nMrs. Perry drank tea with Mrs. and Miss Bates, or when Mrs. and\\nMiss Bates returned the visit.',\n",
              " 'Now was the time for Mr. Frank\\nChurchill to come among them; and the hope strengthened when it was\\nunderstood that he had written to his new mother on the occasion.',\n",
              " 'For a few days, every morning visit in Highbury included some mention\\nof the handsome letter Mrs. Weston had received.',\n",
              " '\"I suppose you\\nhave heard of the handsome letter Mr. Frank Churchill has written\\nto Mrs. Weston?',\n",
              " 'I understand it was a very handsome letter, indeed.',\n",
              " 'Mr. Woodhouse told me of it.',\n",
              " 'Mr. Woodhouse saw the letter, and he\\nsays he never saw such a handsome letter in his life.\"',\n",
              " 'It was, indeed, a highly prized letter.',\n",
              " 'Mrs. Weston had, of course,\\nformed a very favourable idea of the young man; and such a pleasing\\nattention was an irresistible proof of his great good sense,\\nand a most welcome addition to every source and every expression\\nof congratulation which her marriage had already secured.',\n",
              " 'She felt\\nherself a most fortunate woman; and she had lived long enough\\nto know how fortunate she might well be thought, where the only\\nregret was for a partial separation from friends whose friendship\\nfor her had never cooled, and who could ill bear to part with her.',\n",
              " \"She knew that at times she must be missed; and could not think,\\nwithout pain, of Emma's losing a single pleasure, or suffering\\nan hour's ennui, from the want of her companionableness: but dear\\nEmma was of no feeble character; she was more equal to her situation\\nthan most girls would have been, and had sense, and energy,\\nand spirits that might be hoped would bear her well and happily\\nthrough its little difficulties and privations.\",\n",
              " \"And then there was\\nsuch comfort in the very easy distance of Randalls from Hartfield,\\nso convenient for even solitary female walking, and in Mr. Weston's\\ndisposition and circumstances, which would make the approaching\\nseason no hindrance to their spending half the evenings in the\\nweek together.\",\n",
              " \"Her situation was altogether the subject of hours of gratitude\\nto Mrs. Weston, and of moments only of regret; and her\\nsatisfaction--her more than satisfaction--her cheerful enjoyment,\\nwas so just and so apparent, that Emma, well as she knew her father,\\nwas sometimes taken by surprize at his being still able to pity\\n`poor Miss Taylor,' when they left her at Randalls in the centre\\nof every domestic comfort, or saw her go away in the evening\\nattended by her pleasant husband to a carriage of her own.\",\n",
              " 'But never did she go without Mr. Woodhouse\\'s giving a gentle sigh,\\nand saying, \"Ah, poor Miss Taylor!',\n",
              " 'She would be very glad to stay.\"',\n",
              " 'There was no recovering Miss Taylor--nor much likelihood of\\nceasing to pity her; but a few weeks brought some alleviation\\nto Mr. Woodhouse.',\n",
              " 'The compliments of his neighbours were over;\\nhe was no longer teased by being wished joy of so sorrowful an event;\\nand the wedding-cake, which had been a great distress to him,\\nwas all eat up.',\n",
              " 'His own stomach could bear nothing rich, and he\\ncould never believe other people to be different from himself.',\n",
              " \"What was unwholesome to him he regarded as unfit for any body;\\nand he had, therefore, earnestly tried to dissuade them from having\\nany wedding-cake at all, and when that proved vain, as earnestly\\ntried to prevent any body's eating it.\",\n",
              " 'He had been at the pains\\nof consulting Mr. Perry, the apothecary, on the subject.',\n",
              " \"Mr. Perry\\nwas an intelligent, gentlemanlike man, whose frequent visits were one\\nof the comforts of Mr. Woodhouse's life; and upon being applied to,\\nhe could not but acknowledge (though it seemed rather against the\\nbias of inclination) that wedding-cake might certainly disagree\\nwith many--perhaps with most people, unless taken moderately.\",\n",
              " 'With such an opinion, in confirmation of his own, Mr. Woodhouse hoped\\nto influence every visitor of the newly married pair; but still the\\ncake was eaten; and there was no rest for his benevolent nerves till\\nit was all gone.',\n",
              " \"There was a strange rumour in Highbury of all the little Perrys\\nbeing seen with a slice of Mrs. Weston's wedding-cake in their\\nhands: but Mr. Woodhouse would never believe it.\",\n",
              " 'CHAPTER III\\n\\n\\nMr. Woodhouse was fond of society in his own way.',\n",
              " 'He liked very much\\nto have his friends come and see him; and from various united causes,\\nfrom his long residence at Hartfield, and his good nature,\\nfrom his fortune, his house, and his daughter, he could command the\\nvisits of his own little circle, in a great measure, as he liked.',\n",
              " 'He had not much intercourse with any families beyond that circle;\\nhis horror of late hours, and large dinner-parties, made him unfit\\nfor any acquaintance but such as would visit him on his own terms.',\n",
              " 'Fortunately for him, Highbury, including Randalls in the same parish,\\nand Donwell Abbey in the parish adjoining, the seat of Mr. Knightley,\\ncomprehended many such.',\n",
              " \"Not unfrequently, through Emma's persuasion,\\nhe had some of the chosen and the best to dine with him: but evening\\nparties were what he preferred; and, unless he fancied himself at any\\ntime unequal to company, there was scarcely an evening in the week\\nin which Emma could not make up a card-table for him.\",\n",
              " \"Real, long-standing regard brought the Westons and Mr. Knightley;\\nand by Mr. Elton, a young man living alone without liking it,\\nthe privilege of exchanging any vacant evening of his own blank solitude\\nfor the elegancies and society of Mr. Woodhouse's drawing-room,\\nand the smiles of his lovely daughter, was in no danger of being\\nthrown away.\",\n",
              " 'After these came a second set; among the most come-at-able\\nof whom were Mrs. and Miss Bates, and Mrs. Goddard, three ladies\\nalmost always at the service of an invitation from Hartfield,\\nand who were fetched and carried home so often, that Mr. Woodhouse\\nthought it no hardship for either James or the horses.',\n",
              " 'Had it\\ntaken place only once a year, it would have been a grievance.',\n",
              " 'Mrs. Bates, the widow of a former vicar of Highbury, was a\\nvery old lady, almost past every thing but tea and quadrille.',\n",
              " 'She lived with her single daughter in a very small way, and was\\nconsidered with all the regard and respect which a harmless old lady,\\nunder such untoward circumstances, can excite.',\n",
              " 'Her daughter enjoyed\\na most uncommon degree of popularity for a woman neither young,\\nhandsome, rich, nor married.',\n",
              " 'Miss Bates stood in the very worst\\npredicament in the world for having much of the public favour;\\nand she had no intellectual superiority to make atonement to herself,\\nor frighten those who might hate her into outward respect.',\n",
              " 'She had never boasted either beauty or cleverness.',\n",
              " 'Her youth\\nhad passed without distinction, and her middle of life was devoted\\nto the care of a failing mother, and the endeavour to make a small\\nincome go as far as possible.',\n",
              " 'And yet she was a happy woman,\\nand a woman whom no one named without good-will.',\n",
              " 'It was her own\\nuniversal good-will and contented temper which worked such wonders.',\n",
              " \"She loved every body, was interested in every body's happiness,\\nquicksighted to every body's merits; thought herself a most fortunate\\ncreature, and surrounded with blessings in such an excellent mother,\\nand so many good neighbours and friends, and a home that wanted\\nfor nothing.\",\n",
              " 'The simplicity and cheerfulness of her nature,\\nher contented and grateful spirit, were a recommendation to every body,\\nand a mine of felicity to herself.',\n",
              " 'She was a great talker upon\\nlittle matters, which exactly suited Mr. Woodhouse, full of trivial\\ncommunications and harmless gossip.',\n",
              " 'Mrs. Goddard was the mistress of a School--not of a seminary,\\nor an establishment, or any thing which professed, in long sentences of\\nrefined nonsense, to combine liberal acquirements with elegant morality,\\nupon new principles and new systems--and where young ladies for\\nenormous pay might be screwed out of health and into vanity--but\\na real, honest, old-fashioned Boarding-school, where a reasonable\\nquantity of accomplishments were sold at a reasonable price,\\nand where girls might be sent to be out of the way, and scramble\\nthemselves into a little education, without any danger of coming\\nback prodigies.',\n",
              " \"Mrs. Goddard's school was in high repute--and\\nvery deservedly; for Highbury was reckoned a particularly healthy\\nspot: she had an ample house and garden, gave the children plenty\\nof wholesome food, let them run about a great deal in the summer,\\nand in winter dressed their chilblains with her own hands.\",\n",
              " 'It was no wonder that a train of twenty young couple now walked\\nafter her to church.',\n",
              " \"She was a plain, motherly kind of woman,\\nwho had worked hard in her youth, and now thought herself entitled\\nto the occasional holiday of a tea-visit; and having formerly\\nowed much to Mr. Woodhouse's kindness, felt his particular claim\\non her to leave her neat parlour, hung round with fancy-work,\\nwhenever she could, and win or lose a few sixpences by his fireside.\",\n",
              " \"These were the ladies whom Emma found herself very frequently\\nable to collect; and happy was she, for her father's sake,\\nin the power; though, as far as she was herself concerned,\\nit was no remedy for the absence of Mrs. Weston.\",\n",
              " 'She was delighted\\nto see her father look comfortable, and very much pleased with\\nherself for contriving things so well; but the quiet prosings\\nof three such women made her feel that every evening so spent\\nwas indeed one of the long evenings she had fearfully anticipated.',\n",
              " 'As she sat one morning, looking forward to exactly such a close\\nof the present day, a note was brought from Mrs. Goddard, requesting,\\nin most respectful terms, to be allowed to bring Miss Smith with her;\\na most welcome request: for Miss Smith was a girl of seventeen,\\nwhom Emma knew very well by sight, and had long felt an interest in,\\non account of her beauty.',\n",
              " 'A very gracious invitation was returned,\\nand the evening no longer dreaded by the fair mistress of the mansion.',\n",
              " 'Harriet Smith was the natural daughter of somebody.',\n",
              " \"Somebody had\\nplaced her, several years back, at Mrs. Goddard's school,\\nand somebody had lately raised her from the condition of scholar\\nto that of parlour-boarder.\",\n",
              " 'This was all that was generally known\\nof her history.',\n",
              " 'She had no visible friends but what had been\\nacquired at Highbury, and was now just returned from a long visit\\nin the country to some young ladies who had been at school there with her.',\n",
              " 'She was a very pretty girl, and her beauty happened to be of a sort\\nwhich Emma particularly admired.',\n",
              " 'She was short, plump, and fair,\\nwith a fine bloom, blue eyes, light hair, regular features,\\nand a look of great sweetness, and, before the end of the evening,\\nEmma was as much pleased with her manners as her person, and quite\\ndetermined to continue the acquaintance.',\n",
              " \"She was not struck by any thing remarkably clever in Miss Smith's\\nconversation, but she found her altogether very engaging--not\\ninconveniently shy, not unwilling to talk--and yet so far from pushing,\\nshewing so proper and becoming a deference, seeming so pleasantly\\ngrateful for being admitted to Hartfield, and so artlessly\\nimpressed by the appearance of every thing in so superior a style\\nto what she had been used to, that she must have good sense,\\nand deserve encouragement.\",\n",
              " 'Encouragement should be given.',\n",
              " 'Those soft blue eyes, and all those natural graces, should not be\\nwasted on the inferior society of Highbury and its connexions.',\n",
              " 'The acquaintance she had already formed were unworthy of her.',\n",
              " 'The friends from whom she had just parted, though very good sort\\nof people, must be doing her harm.',\n",
              " 'They were a family of the name\\nof Martin, whom Emma well knew by character, as renting a large farm\\nof Mr. Knightley, and residing in the parish of Donwell--very creditably,\\nshe believed--she knew Mr. Knightley thought highly of them--but they\\nmust be coarse and unpolished, and very unfit to be the intimates\\nof a girl who wanted only a little more knowledge and elegance\\nto be quite perfect.',\n",
              " '_She_ would notice her; she would improve her;\\nshe would detach her from her bad acquaintance, and introduce her\\ninto good society; she would form her opinions and her manners.',\n",
              " 'It would be an interesting, and certainly a very kind undertaking;\\nhighly becoming her own situation in life, her leisure, and powers.',\n",
              " 'She was so busy in admiring those soft blue eyes, in talking\\nand listening, and forming all these schemes in the in-betweens, that\\nthe evening flew away at a very unusual rate; and the supper-table,\\nwhich always closed such parties, and for which she had been\\nused to sit and watch the due time, was all set out and ready,\\nand moved forwards to the fire, before she was aware.',\n",
              " 'With an\\nalacrity beyond the common impulse of a spirit which yet was never\\nindifferent to the credit of doing every thing well and attentively,\\nwith the real good-will of a mind delighted with its own ideas,\\ndid she then do all the honours of the meal, and help and recommend\\nthe minced chicken and scalloped oysters, with an urgency which she\\nknew would be acceptable to the early hours and civil scruples of their guests.',\n",
              " 'Upon such occasions poor Mr. Woodhouses feelings were in sad warfare.',\n",
              " 'He loved to have the cloth laid, because it had been the fashion\\nof his youth, but his conviction of suppers being very unwholesome\\nmade him rather sorry to see any thing put on it; and while his\\nhospitality would have welcomed his visitors to every thing,\\nhis care for their health made him grieve that they would eat.',\n",
              " 'Such another small basin of thin gruel as his own was all that\\nhe could, with thorough self-approbation, recommend; though he\\nmight constrain himself, while the ladies were comfortably clearing\\nthe nicer things, to say:\\n\\n\"Mrs. Bates, let me propose your venturing on one of these eggs.',\n",
              " 'An egg boiled very soft is not unwholesome.',\n",
              " 'Serle understands boiling\\nan egg better than any body.',\n",
              " 'I would not recommend an egg boiled\\nby any body else; but you need not be afraid, they are very small,\\nyou see--one of our small eggs will not hurt you.',\n",
              " 'Miss Bates,\\nlet Emma help you to a _little_ bit of tart--a _very_ little bit.',\n",
              " 'Ours are all apple-tarts.',\n",
              " 'You need not be afraid of unwholesome\\npreserves here.',\n",
              " 'I do not advise the custard.',\n",
              " 'Mrs. Goddard, what say\\nyou to _half_ a glass of wine?',\n",
              " 'A _small_ half-glass, put into a tumbler\\nof water?',\n",
              " 'I do not think it could disagree with you.\"',\n",
              " 'Emma allowed her father to talk--but supplied her visitors in\\na much more satisfactory style, and on the present evening had\\nparticular pleasure in sending them away happy.',\n",
              " 'The happiness\\nof Miss Smith was quite equal to her intentions.',\n",
              " 'Miss Woodhouse\\nwas so great a personage in Highbury, that the prospect of the\\nintroduction had given as much panic as pleasure; but the humble,\\ngrateful little girl went off with highly gratified feelings,\\ndelighted with the affability with which Miss Woodhouse had treated\\nher all the evening, and actually shaken hands with her at last!',\n",
              " \"CHAPTER IV\\n\\n\\nHarriet Smith's intimacy at Hartfield was soon a settled thing.\",\n",
              " 'Quick and decided in her ways, Emma lost no time in inviting, encouraging,\\nand telling her to come very often; and as their acquaintance increased,\\nso did their satisfaction in each other.',\n",
              " 'As a walking companion,\\nEmma had very early foreseen how useful she might find her.',\n",
              " \"In that respect Mrs. Weston's loss had been important.\",\n",
              " \"Her father\\nnever went beyond the shrubbery, where two divisions of the ground\\nsufficed him for his long walk, or his short, as the year varied;\\nand since Mrs. Weston's marriage her exercise had been too much confined.\",\n",
              " 'She had ventured once alone to Randalls, but it was not pleasant;\\nand a Harriet Smith, therefore, one whom she could summon at any\\ntime to a walk, would be a valuable addition to her privileges.',\n",
              " 'But in every respect, as she saw more of her, she approved her,\\nand was confirmed in all her kind designs.',\n",
              " 'Harriet certainly was not clever, but she had a sweet, docile,\\ngrateful disposition, was totally free from conceit, and only desiring\\nto be guided by any one she looked up to.',\n",
              " 'Her early attachment\\nto herself was very amiable; and her inclination for good company,\\nand power of appreciating what was elegant and clever, shewed that\\nthere was no want of taste, though strength of understanding must\\nnot be expected.',\n",
              " \"Altogether she was quite convinced of Harriet\\nSmith's being exactly the young friend she wanted--exactly the\\nsomething which her home required.\",\n",
              " 'Such a friend as Mrs. Weston\\nwas out of the question.',\n",
              " 'Two such could never be granted.',\n",
              " 'Two such she did not want.',\n",
              " 'It was quite a different sort of thing,\\na sentiment distinct and independent.',\n",
              " 'Mrs. Weston was the object\\nof a regard which had its basis in gratitude and esteem.',\n",
              " 'Harriet would be loved as one to whom she could be useful.',\n",
              " 'For Mrs. Weston there was nothing to be done; for Harriet every thing.',\n",
              " 'Her first attempts at usefulness were in an endeavour to find out who\\nwere the parents, but Harriet could not tell.',\n",
              " 'She was ready to tell\\nevery thing in her power, but on this subject questions were vain.',\n",
              " 'Emma was obliged to fancy what she liked--but she could never\\nbelieve that in the same situation _she_ should not have discovered\\nthe truth.',\n",
              " 'Harriet had no penetration.',\n",
              " 'She had been satisfied\\nto hear and believe just what Mrs. Goddard chose to tell her;\\nand looked no farther.',\n",
              " 'Mrs. Goddard, and the teachers, and the girls and the affairs of the\\nschool in general, formed naturally a great part of the conversation--and\\nbut for her acquaintance with the Martins of Abbey-Mill Farm,\\nit must have been the whole.',\n",
              " 'But the Martins occupied her thoughts\\na good deal; she had spent two very happy months with them,\\nand now loved to talk of the pleasures of her visit, and describe\\nthe many comforts and wonders of the place.',\n",
              " 'Emma encouraged her\\ntalkativeness--amused by such a picture of another set of beings,\\nand enjoying the youthful simplicity which could speak with so much\\nexultation of Mrs. Martin\\'s having \"_two_ parlours, two very good parlours,\\nindeed; one of them quite as large as Mrs. Goddard\\'s drawing-room;\\nand of her having an upper maid who had lived five-and-twenty years\\nwith her; and of their having eight cows, two of them Alderneys,\\nand one a little Welch cow, a very pretty little Welch cow indeed;\\nand of Mrs. Martin\\'s saying as she was so fond of it, it should be\\ncalled _her_ cow; and of their having a very handsome summer-house\\nin their garden, where some day next year they were all to drink\\ntea:--a very handsome summer-house, large enough to hold a dozen people.\"',\n",
              " 'For some time she was amused, without thinking beyond the immediate cause;\\nbut as she came to understand the family better, other feelings arose.',\n",
              " \"She had taken up a wrong idea, fancying it was a mother and daughter,\\na son and son's wife, who all lived together; but when it appeared\\nthat the Mr. Martin, who bore a part in the narrative, and was always\\nmentioned with approbation for his great good-nature in doing something\\nor other, was a single man; that there was no young Mrs. Martin,\\nno wife in the case; she did suspect danger to her poor little\\nfriend from all this hospitality and kindness, and that, if she\\nwere not taken care of, she might be required to sink herself forever.\",\n",
              " 'With this inspiriting notion, her questions increased in number\\nand meaning; and she particularly led Harriet to talk more of Mr. Martin,\\nand there was evidently no dislike to it.',\n",
              " 'Harriet was very ready\\nto speak of the share he had had in their moonlight walks and merry\\nevening games; and dwelt a good deal upon his being so very good-humoured\\nand obliging.',\n",
              " 'He had gone three miles round one day in order to bring\\nher some walnuts, because she had said how fond she was of them,\\nand in every thing else he was so very obliging.',\n",
              " \"He had his\\nshepherd's son into the parlour one night on purpose to sing to her.\",\n",
              " 'She was very fond of singing.',\n",
              " 'He could sing a little himself.',\n",
              " 'She believed he was very clever, and understood every thing.',\n",
              " 'He had a very fine flock, and, while she was with them,\\nhe had been bid more for his wool than any body in the country.',\n",
              " 'She believed every body spoke well of him.',\n",
              " 'His mother and sisters\\nwere very fond of him.',\n",
              " 'Mrs. Martin had told her one day (and there\\nwas a blush as she said it,) that it was impossible for any body\\nto be a better son, and therefore she was sure, whenever he married,\\nhe would make a good husband.',\n",
              " 'Not that she _wanted_ him to marry.',\n",
              " 'She was in no hurry at all.',\n",
              " '\"Well done, Mrs.',\n",
              " 'Martin!\"',\n",
              " 'thought Emma.',\n",
              " '\"You know what you are about.\"',\n",
              " '\"And when she had come away, Mrs. Martin was so very kind as to send\\nMrs. Goddard a beautiful goose--the finest goose Mrs. Goddard had\\never seen.',\n",
              " 'Mrs. Goddard had dressed it on a Sunday, and asked all\\nthe three teachers, Miss Nash, and Miss Prince, and Miss Richardson,\\nto sup with her.\"',\n",
              " '\"Mr. Martin, I suppose, is not a man of information beyond the line\\nof his own business?',\n",
              " 'He does not read?\"',\n",
              " '\"Oh yes!--that is, no--I do not know--but I believe he has\\nread a good deal--but not what you would think any thing of.',\n",
              " 'He reads the Agricultural Reports, and some other books that lay\\nin one of the window seats--but he reads all _them_ to himself.',\n",
              " 'But sometimes of an evening, before we went to cards, he would read\\nsomething aloud out of the Elegant Extracts, very entertaining.',\n",
              " 'And I know he has read the Vicar of Wakefield.',\n",
              " 'He never read the\\nRomance of the Forest, nor The Children of the Abbey.',\n",
              " 'He had never\\nheard of such books before I mentioned them, but he is determined\\nto get them now as soon as ever he can.\"',\n",
              " 'The next question was--\\n\\n\"What sort of looking man is Mr.',\n",
              " 'Martin?\"',\n",
              " '\"Oh!',\n",
              " 'not handsome--not at all handsome.',\n",
              " 'I thought him very plain\\nat first, but I do not think him so plain now.',\n",
              " 'One does not, you know,\\nafter a time.',\n",
              " 'But did you never see him?',\n",
              " 'He is in Highbury every\\nnow and then, and he is sure to ride through every week in his way\\nto Kingston.',\n",
              " 'He has passed you very often.\"',\n",
              " '\"That may be, and I may have seen him fifty times, but without\\nhaving any idea of his name.',\n",
              " 'A young farmer, whether on horseback\\nor on foot, is the very last sort of person to raise my curiosity.',\n",
              " 'The yeomanry are precisely the order of people with whom I feel I\\ncan have nothing to do.',\n",
              " 'A degree or two lower, and a creditable\\nappearance might interest me; I might hope to be useful to their\\nfamilies in some way or other.',\n",
              " 'But a farmer can need none of my help,\\nand is, therefore, in one sense, as much above my notice as in every\\nother he is below it.\"',\n",
              " '\"To be sure.',\n",
              " 'Oh yes!',\n",
              " 'It is not likely you should ever have\\nobserved him; but he knows you very well indeed--I mean by sight.\"',\n",
              " '\"I have no doubt of his being a very respectable young man.',\n",
              " 'I know, indeed, that he is so, and, as such, wish him well.',\n",
              " 'What do you imagine his age to be?\"',\n",
              " '\"He was four-and-twenty the 8th of last June, and my birthday is\\nthe 23rd just a fortnight and a day\\'s difference--which is very odd.\"',\n",
              " '\"Only four-and-twenty.',\n",
              " 'That is too young to settle.',\n",
              " 'His mother is\\nperfectly right not to be in a hurry.',\n",
              " 'They seem very comfortable\\nas they are, and if she were to take any pains to marry him,\\nshe would probably repent it.',\n",
              " 'Six years hence, if he could meet\\nwith a good sort of young woman in the same rank as his own,\\nwith a little money, it might be very desirable.\"',\n",
              " '\"Six years hence!',\n",
              " 'Dear Miss Woodhouse, he would be thirty years old!\"',\n",
              " '\"Well, and that is as early as most men can afford to marry,\\nwho are not born to an independence.',\n",
              " 'Mr. Martin, I imagine,\\nhas his fortune entirely to make--cannot be at all beforehand with\\nthe world.',\n",
              " 'Whatever money he might come into when his father died,\\nwhatever his share of the family property, it is, I dare say,\\nall afloat, all employed in his stock, and so forth; and though,\\nwith diligence and good luck, he may be rich in time, it is next to\\nimpossible that he should have realised any thing yet.\"',\n",
              " '\"To be sure, so it is.',\n",
              " 'But they live very comfortably.',\n",
              " 'They have no indoors man, else they do not want for any thing;\\nand Mrs. Martin talks of taking a boy another year.\"',\n",
              " '\"I wish you may not get into a scrape, Harriet, whenever he does\\nmarry;--I mean, as to being acquainted with his wife--for though\\nhis sisters, from a superior education, are not to be altogether\\nobjected to, it does not follow that he might marry any body at all fit\\nfor you to notice.',\n",
              " 'The misfortune of your birth ought to make you\\nparticularly careful as to your associates.',\n",
              " 'There can be no doubt\\nof your being a gentleman\\'s daughter, and you must support your\\nclaim to that station by every thing within your own power, or there\\nwill be plenty of people who would take pleasure in degrading you.\"',\n",
              " '\"Yes, to be sure, I suppose there are.',\n",
              " 'But while I visit\\nat Hartfield, and you are so kind to me, Miss Woodhouse,\\nI am not afraid of what any body can do.\"',\n",
              " '\"You understand the force of influence pretty well, Harriet; but I\\nwould have you so firmly established in good society, as to be\\nindependent even of Hartfield and Miss Woodhouse.',\n",
              " 'I want to see you\\npermanently well connected, and to that end it will be advisable\\nto have as few odd acquaintance as may be; and, therefore, I say\\nthat if you should still be in this country when Mr. Martin marries,\\nI wish you may not be drawn in by your intimacy with the sisters,\\nto be acquainted with the wife, who will probably be some mere\\nfarmer\\'s daughter, without education.\"',\n",
              " '\"To be sure.',\n",
              " 'Yes.',\n",
              " 'Not that I think Mr. Martin would ever marry any body\\nbut what had had some education--and been very well brought up.',\n",
              " \"However, I do not mean to set up my opinion against your's--and I\\nam sure I shall not wish for the acquaintance of his wife.\",\n",
              " 'I shall\\nalways have a great regard for the Miss Martins, especially Elizabeth,\\nand should be very sorry to give them up, for they are quite as well\\neducated as me.',\n",
              " 'But if he marries a very ignorant, vulgar woman,\\ncertainly I had better not visit her, if I can help it.\"',\n",
              " 'Emma watched her through the fluctuations of this speech,\\nand saw no alarming symptoms of love.',\n",
              " \"The young man had been\\nthe first admirer, but she trusted there was no other hold,\\nand that there would be no serious difficulty, on Harriet's side,\\nto oppose any friendly arrangement of her own.\",\n",
              " 'They met Mr. Martin the very next day, as they were walking on the\\nDonwell road.',\n",
              " 'He was on foot, and after looking very respectfully\\nat her, looked with most unfeigned satisfaction at her companion.',\n",
              " 'Emma was not sorry to have such an opportunity of survey;\\nand walking a few yards forward, while they talked together, soon made\\nher quick eye sufficiently acquainted with Mr. Robert Martin.',\n",
              " \"His appearance was very neat, and he looked like a sensible young man,\\nbut his person had no other advantage; and when he came to be\\ncontrasted with gentlemen, she thought he must lose all the ground\\nhe had gained in Harriet's inclination.\",\n",
              " \"Harriet was not insensible\\nof manner; she had voluntarily noticed her father's gentleness\\nwith admiration as well as wonder.\",\n",
              " 'Mr. Martin looked as if he\\ndid not know what manner was.',\n",
              " 'They remained but a few minutes together, as Miss Woodhouse must\\nnot be kept waiting; and Harriet then came running to her with a\\nsmiling face, and in a flutter of spirits, which Miss Woodhouse\\nhoped very soon to compose.',\n",
              " '\"Only think of our happening to meet him!--How very odd!',\n",
              " 'It was\\nquite a chance, he said, that he had not gone round by Randalls.',\n",
              " 'He did not think we ever walked this road.',\n",
              " 'He thought we walked\\ntowards Randalls most days.',\n",
              " 'He has not been able to get the\\nRomance of the Forest yet.',\n",
              " 'He was so busy the last time he was\\nat Kingston that he quite forgot it, but he goes again to-morrow.',\n",
              " 'So very odd we should happen to meet!',\n",
              " 'Well, Miss Woodhouse, is he\\nlike what you expected?',\n",
              " 'What do you think of him?',\n",
              " 'Do you think him\\nso very plain?\"',\n",
              " '\"He is very plain, undoubtedly--remarkably plain:--but that is\\nnothing compared with his entire want of gentility.',\n",
              " 'I had no\\nright to expect much, and I did not expect much; but I had no\\nidea that he could be so very clownish, so totally without air.',\n",
              " 'I had imagined him, I confess, a degree or two nearer gentility.\"',\n",
              " '\"To be sure,\" said Harriet, in a mortified voice, \"he is not\\nso genteel as real gentlemen.\"',\n",
              " '\"I think, Harriet, since your acquaintance with us, you have been\\nrepeatedly in the company of some such very real gentlemen,\\nthat you must yourself be struck with the difference in Mr. Martin.',\n",
              " 'At Hartfield, you have had very good specimens of well educated,\\nwell bred men.',\n",
              " 'I should be surprized if, after seeing them,\\nyou could be in company with Mr. Martin again without perceiving\\nhim to be a very inferior creature--and rather wondering at\\nyourself for having ever thought him at all agreeable before.',\n",
              " 'Do not you begin to feel that now?',\n",
              " 'Were not you struck?',\n",
              " 'I am sure\\nyou must have been struck by his awkward look and abrupt manner,\\nand the uncouthness of a voice which I heard to be wholly unmodulated\\nas I stood here.\"',\n",
              " '\"Certainly, he is not like Mr. Knightley.',\n",
              " 'He has not such a fine\\nair and way of walking as Mr. Knightley.',\n",
              " 'I see the difference\\nplain enough.',\n",
              " 'But Mr. Knightley is so very fine a man!\"',\n",
              " '\"Mr. Knightley\\'s air is so remarkably good that it is not fair\\nto compare Mr. Martin with _him_.',\n",
              " 'You might not see one in a hundred\\nwith _gentleman_ so plainly written as in Mr. Knightley.',\n",
              " 'But he is\\nnot the only gentleman you have been lately used to.',\n",
              " 'What say you\\nto Mr. Weston and Mr. Elton?',\n",
              " 'Compare Mr. Martin with either of _them_.',\n",
              " 'Compare their manner of carrying themselves; of walking; of speaking;\\nof being silent.',\n",
              " 'You must see the difference.\"',\n",
              " '\"Oh yes!--there is a great difference.',\n",
              " 'But Mr. Weston is almost\\nan old man.',\n",
              " 'Mr. Weston must be between forty and fifty.\"',\n",
              " '\"Which makes his good manners the more valuable.',\n",
              " 'The older a\\nperson grows, Harriet, the more important it is that their manners\\nshould not be bad; the more glaring and disgusting any loudness,\\nor coarseness, or awkwardness becomes.',\n",
              " 'What is passable in youth\\nis detestable in later age.',\n",
              " 'Mr. Martin is now awkward and abrupt;\\nwhat will he be at Mr. Weston\\'s time of life?\"',\n",
              " '\"There is no saying, indeed,\" replied Harriet rather solemnly.',\n",
              " '\"But there may be pretty good guessing.',\n",
              " 'He will be a completely gross,\\nvulgar farmer, totally inattentive to appearances, and thinking\\nof nothing but profit and loss.\"',\n",
              " '\"Will he, indeed?',\n",
              " 'That will be very bad.\"',\n",
              " '\"How much his business engrosses him already is very plain from the\\ncircumstance of his forgetting to inquire for the book you recommended.',\n",
              " 'He was a great deal too full of the market to think of any thing\\nelse--which is just as it should be, for a thriving man.',\n",
              " 'What has\\nhe to do with books?',\n",
              " 'And I have no doubt that he _will_ thrive,\\nand be a very rich man in time--and his being illiterate and coarse\\nneed not disturb _us_.\"',\n",
              " '\"I wonder he did not remember the book\"--was all Harriet\\'s answer,\\nand spoken with a degree of grave displeasure which Emma thought might\\nbe safely left to itself.',\n",
              " 'She, therefore, said no more for some time.',\n",
              " 'Her next beginning was,\\n\\n\"In one respect, perhaps, Mr. Elton\\'s manners are superior\\nto Mr. Knightley\\'s or Mr. Weston\\'s.',\n",
              " 'They have more gentleness.',\n",
              " 'They might be more safely held up as a pattern.',\n",
              " 'There is an openness,\\na quickness, almost a bluntness in Mr. Weston, which every body\\nlikes in _him_, because there is so much good-humour with it--but\\nthat would not do to be copied.',\n",
              " \"Neither would Mr. Knightley's\\ndownright, decided, commanding sort of manner, though it suits\\n_him_ very well; his figure, and look, and situation in life seem\\nto allow it; but if any young man were to set about copying him,\\nhe would not be sufferable.\",\n",
              " 'On the contrary, I think a young man\\nmight be very safely recommended to take Mr. Elton as a model.',\n",
              " 'Mr. Elton is good-humoured, cheerful, obliging, and gentle.',\n",
              " 'He seems to me to be grown particularly gentle of late.',\n",
              " 'I do not\\nknow whether he has any design of ingratiating himself with either\\nof us, Harriet, by additional softness, but it strikes me that his\\nmanners are softer than they used to be.',\n",
              " 'If he means any thing,\\nit must be to please you.',\n",
              " 'Did not I tell you what he said of you\\nthe other day?\"',\n",
              " 'She then repeated some warm personal praise which she had drawn\\nfrom Mr. Elton, and now did full justice to; and Harriet blushed\\nand smiled, and said she had always thought Mr. Elton very agreeable.',\n",
              " \"Mr. Elton was the very person fixed on by Emma for driving\\nthe young farmer out of Harriet's head.\",\n",
              " 'She thought it would\\nbe an excellent match; and only too palpably desirable, natural,\\nand probable, for her to have much merit in planning it.',\n",
              " 'She feared it was what every body else must think of and predict.',\n",
              " \"It was not likely, however, that any body should have equalled\\nher in the date of the plan, as it had entered her brain during\\nthe very first evening of Harriet's coming to Hartfield.\",\n",
              " 'The longer\\nshe considered it, the greater was her sense of its expediency.',\n",
              " \"Mr. Elton's situation was most suitable, quite the gentleman himself,\\nand without low connexions; at the same time, not of any family\\nthat could fairly object to the doubtful birth of Harriet.\",\n",
              " 'He had a\\ncomfortable home for her, and Emma imagined a very sufficient income;\\nfor though the vicarage of Highbury was not large, he was known\\nto have some independent property; and she thought very highly\\nof him as a good-humoured, well-meaning, respectable young man,\\nwithout any deficiency of useful understanding or knowledge of the world.',\n",
              " \"She had already satisfied herself that he thought Harriet a beautiful\\ngirl, which she trusted, with such frequent meetings at Hartfield,\\nwas foundation enough on his side; and on Harriet's there could be\\nlittle doubt that the idea of being preferred by him would have all\\nthe usual weight and efficacy.\",\n",
              " 'And he was really a very pleasing\\nyoung man, a young man whom any woman not fastidious might like.',\n",
              " \"He was reckoned very handsome; his person much admired in general,\\nthough not by her, there being a want of elegance of feature which\\nshe could not dispense with:--but the girl who could be gratified\\nby a Robert Martin's riding about the country to get walnuts\\nfor her might very well be conquered by Mr. Elton's admiration.\",\n",
              " 'CHAPTER V\\n\\n\\n\"I do not know what your opinion may be, Mrs. Weston,\" said Mr. Knightley, \"of\\nthis great intimacy between Emma and Harriet Smith, but I think it a bad thing.\"',\n",
              " '\"A bad thing!',\n",
              " 'Do you really think it a bad thing?--why so?\"',\n",
              " '\"I think they will neither of them do the other any good.\"',\n",
              " '\"You surprize me!',\n",
              " 'Emma must do Harriet good: and by supplying her\\nwith a new object of interest, Harriet may be said to do Emma good.',\n",
              " 'I have been seeing their intimacy with the greatest pleasure.',\n",
              " 'How very differently we feel!--Not think they will do each other any\\ngood!',\n",
              " 'This will certainly be the beginning of one of our quarrels\\nabout Emma, Mr.',\n",
              " 'Knightley.\"',\n",
              " '\"Perhaps you think I am come on purpose to quarrel with you,\\nknowing Weston to be out, and that you must still fight your own battle.\"',\n",
              " '\"Mr. Weston would undoubtedly support me, if he were here,\\nfor he thinks exactly as I do on the subject.',\n",
              " 'We were speaking\\nof it only yesterday, and agreeing how fortunate it was for Emma,\\nthat there should be such a girl in Highbury for her to associate with.',\n",
              " 'Mr. Knightley, I shall not allow you to be a fair judge in this case.',\n",
              " 'You are so much used to live alone, that you do not know the value\\nof a companion; and, perhaps no man can be a good judge of the comfort\\na woman feels in the society of one of her own sex, after being used\\nto it all her life.',\n",
              " 'I can imagine your objection to Harriet Smith.',\n",
              " \"She is not the superior young woman which Emma's friend ought to be.\",\n",
              " 'But on the other hand, as Emma wants to see her better informed,\\nit will be an inducement to her to read more herself.',\n",
              " 'They will\\nread together.',\n",
              " 'She means it, I know.\"',\n",
              " '\"Emma has been meaning to read more ever since she was twelve\\nyears old.',\n",
              " 'I have seen a great many lists of her drawing-up at\\nvarious times of books that she meant to read regularly through--and\\nvery good lists they were--very well chosen, and very neatly\\narranged--sometimes alphabetically, and sometimes by some other rule.',\n",
              " 'The list she drew up when only fourteen--I remember thinking it\\ndid her judgment so much credit, that I preserved it some time;\\nand I dare say she may have made out a very good list now.',\n",
              " 'But I\\nhave done with expecting any course of steady reading from Emma.',\n",
              " 'She will never submit to any thing requiring industry and patience,\\nand a subjection of the fancy to the understanding.',\n",
              " 'Where Miss Taylor\\nfailed to stimulate, I may safely affirm that Harriet Smith will do\\nnothing.--You never could persuade her to read half so much as you\\nwished.--You know you could not.\"',\n",
              " '\"I dare say,\" replied Mrs. Weston, smiling, \"that I thought\\nso _then_;--but since we have parted, I can never remember Emma\\'s\\nomitting to do any thing I wished.\"',\n",
              " '\"There is hardly any desiring to refresh such a memory as _that_,\"--said\\nMr. Knightley, feelingly; and for a moment or two he had done.',\n",
              " '\"But I,\"\\nhe soon added, \"who have had no such charm thrown over my senses,\\nmust still see, hear, and remember.',\n",
              " 'Emma is spoiled by being the\\ncleverest of her family.',\n",
              " 'At ten years old, she had the misfortune of\\nbeing able to answer questions which puzzled her sister at seventeen.',\n",
              " 'She was always quick and assured: Isabella slow and diffident.',\n",
              " 'And ever since she was twelve, Emma has been mistress of the house\\nand of you all.',\n",
              " 'In her mother she lost the only person able to cope\\nwith her.',\n",
              " 'She inherits her mother\\'s talents, and must have been\\nunder subjection to her.\"',\n",
              " '\"I should have been sorry, Mr. Knightley, to be dependent on\\n_your_ recommendation, had I quitted Mr. Woodhouse\\'s family and wanted\\nanother situation; I do not think you would have spoken a good word for\\nme to any body.',\n",
              " 'I am sure you always thought me unfit for the office I held.\"',\n",
              " '\"Yes,\" said he, smiling.',\n",
              " '\"You are better placed _here_; very fit\\nfor a wife, but not at all for a governess.',\n",
              " 'But you were preparing\\nyourself to be an excellent wife all the time you were at Hartfield.',\n",
              " 'You might not give Emma such a complete education as your powers would\\nseem to promise; but you were receiving a very good education from _her_,\\non the very material matrimonial point of submitting your own will,\\nand doing as you were bid; and if Weston had asked me to recommend\\nhim a wife, I should certainly have named Miss Taylor.\"',\n",
              " '\"Thank you.',\n",
              " 'There will be very little merit in making a good wife\\nto such a man as Mr.',\n",
              " 'Weston.\"',\n",
              " '\"Why, to own the truth, I am afraid you are rather thrown away,\\nand that with every disposition to bear, there will be nothing\\nto be borne.',\n",
              " 'We will not despair, however.',\n",
              " 'Weston may grow cross\\nfrom the wantonness of comfort, or his son may plague him.\"',\n",
              " '\"I hope not _that_.--It is not likely.',\n",
              " 'No, Mr. Knightley, do not\\nforetell vexation from that quarter.\"',\n",
              " '\"Not I, indeed.',\n",
              " 'I only name possibilities.',\n",
              " \"I do not pretend to Emma's\\ngenius for foretelling and guessing.\",\n",
              " 'I hope, with all my heart,\\nthe young man may be a Weston in merit, and a Churchill in fortune.--But\\nHarriet Smith--I have not half done about Harriet Smith.',\n",
              " 'I think\\nher the very worst sort of companion that Emma could possibly have.',\n",
              " 'She knows nothing herself, and looks upon Emma as knowing every thing.',\n",
              " 'She is a flatterer in all her ways; and so much the worse,\\nbecause undesigned.',\n",
              " 'Her ignorance is hourly flattery.',\n",
              " 'How can\\nEmma imagine she has any thing to learn herself, while Harriet\\nis presenting such a delightful inferiority?',\n",
              " 'And as for Harriet,\\nI will venture to say that _she_ cannot gain by the acquaintance.',\n",
              " 'Hartfield will only put her out of conceit with all the other places\\nshe belongs to.',\n",
              " 'She will grow just refined enough to be uncomfortable\\nwith those among whom birth and circumstances have placed her home.',\n",
              " 'I am much mistaken if Emma\\'s doctrines give any strength of mind,\\nor tend at all to make a girl adapt herself rationally to the varieties\\nof her situation in life.--They only give a little polish.\"',\n",
              " '\"I either depend more upon Emma\\'s good sense than you do, or am more\\nanxious for her present comfort; for I cannot lament the acquaintance.',\n",
              " 'How well she looked last night!\"',\n",
              " '\"Oh!',\n",
              " 'you would rather talk of her person than her mind, would you?',\n",
              " 'Very well; I shall not attempt to deny Emma\\'s being pretty.\"',\n",
              " '\"Pretty!',\n",
              " 'say beautiful rather.',\n",
              " 'Can you imagine any thing nearer\\nperfect beauty than Emma altogether--face and figure?\"',\n",
              " '\"I do not know what I could imagine, but I confess that I have\\nseldom seen a face or figure more pleasing to me than hers.',\n",
              " 'But I am a partial old friend.\"',\n",
              " '\"Such an eye!--the true hazle eye--and so brilliant!',\n",
              " 'regular features,\\nopen countenance, with a complexion!',\n",
              " 'oh!',\n",
              " 'what a bloom of full health,\\nand such a pretty height and size; such a firm and upright figure!',\n",
              " 'There is health, not merely in her bloom, but in her air, her head,\\nher glance.',\n",
              " \"One hears sometimes of a child being `the picture\\nof health;' now, Emma always gives me the idea of being the complete\\npicture of grown-up health.\",\n",
              " 'She is loveliness itself.',\n",
              " 'Mr. Knightley,\\nis not she?\"',\n",
              " '\"I have not a fault to find with her person,\" he replied.',\n",
              " '\"I think her all you describe.',\n",
              " 'I love to look at her; and I\\nwill add this praise, that I do not think her personally vain.',\n",
              " 'Considering how very handsome she is, she appears to be little\\noccupied with it; her vanity lies another way.',\n",
              " 'Mrs. Weston, I am\\nnot to be talked out of my dislike of Harriet Smith, or my dread\\nof its doing them both harm.\"',\n",
              " '\"And I, Mr. Knightley, am equally stout in my confidence of its\\nnot doing them any harm.',\n",
              " \"With all dear Emma's little faults,\\nshe is an excellent creature.\",\n",
              " 'Where shall we see a better daughter,\\nor a kinder sister, or a truer friend?',\n",
              " 'No, no; she has qualities\\nwhich may be trusted; she will never lead any one really wrong;\\nshe will make no lasting blunder; where Emma errs once, she is in the\\nright a hundred times.\"',\n",
              " '\"Very well; I will not plague you any more.',\n",
              " 'Emma shall be an angel,\\nand I will keep my spleen to myself till Christmas brings John\\nand Isabella.',\n",
              " 'John loves Emma with a reasonable and therefore\\nnot a blind affection, and Isabella always thinks as he does;\\nexcept when he is not quite frightened enough about the children.',\n",
              " 'I am sure of having their opinions with me.\"',\n",
              " '\"I know that you all love her really too well to be unjust or unkind;\\nbut excuse me, Mr. Knightley, if I take the liberty (I consider myself,\\nyou know, as having somewhat of the privilege of speech that Emma\\'s\\nmother might have had) the liberty of hinting that I do not think\\nany possible good can arise from Harriet Smith\\'s intimacy being made\\na matter of much discussion among you.',\n",
              " 'Pray excuse me; but supposing\\nany little inconvenience may be apprehended from the intimacy,\\nit cannot be expected that Emma, accountable to nobody but her father,\\nwho perfectly approves the acquaintance, should put an end to it,\\nso long as it is a source of pleasure to herself.',\n",
              " 'It has been so\\nmany years my province to give advice, that you cannot be surprized,\\nMr. Knightley, at this little remains of office.\"',\n",
              " '\"Not at all,\" cried he; \"I am much obliged to you for it.',\n",
              " 'It is very good advice, and it shall have a better fate than your\\nadvice has often found; for it shall be attended to.\"',\n",
              " '\"Mrs. John Knightley is easily alarmed, and might be made unhappy\\nabout her sister.\"',\n",
              " '\"Be satisfied,\" said he, \"I will not raise any outcry.',\n",
              " 'I will keep\\nmy ill-humour to myself.',\n",
              " 'I have a very sincere interest in Emma.',\n",
              " 'Isabella does not seem more my sister; has never excited a\\ngreater interest; perhaps hardly so great.',\n",
              " 'There is an anxiety,\\na curiosity in what one feels for Emma.',\n",
              " 'I wonder what will become\\nof her!\"',\n",
              " '\"So do I,\" said Mrs. Weston gently, \"very much.\"',\n",
              " '\"She always declares she will never marry, which, of course,\\nmeans just nothing at all.',\n",
              " 'But I have no idea that she has yet\\never seen a man she cared for.',\n",
              " 'It would not be a bad thing for her\\nto be very much in love with a proper object.',\n",
              " 'I should like to see\\nEmma in love, and in some doubt of a return; it would do her good.',\n",
              " 'But there is nobody hereabouts to attach her; and she goes so seldom\\nfrom home.\"',\n",
              " '\"There does, indeed, seem as little to tempt her to break\\nher resolution at present,\" said Mrs. Weston, \"as can well be;\\nand while she is so happy at Hartfield, I cannot wish her to be\\nforming any attachment which would be creating such difficulties\\non poor Mr. Woodhouse\\'s account.',\n",
              " 'I do not recommend matrimony\\nat present to Emma, though I mean no slight to the state, I assure you.\"',\n",
              " \"Part of her meaning was to conceal some favourite thoughts of\\nher own and Mr. Weston's on the subject, as much as possible.\",\n",
              " 'There were wishes at Randalls respecting Emma\\'s destiny, but it\\nwas not desirable to have them suspected; and the quiet transition\\nwhich Mr. Knightley soon afterwards made to \"What does Weston\\nthink of the weather; shall we have rain?\"',\n",
              " 'convinced her that he\\nhad nothing more to say or surmise about Hartfield.',\n",
              " \"CHAPTER VI\\n\\n\\nEmma could not feel a doubt of having given Harriet's fancy\\na proper direction and raised the gratitude of her young vanity\\nto a very good purpose, for she found her decidedly more sensible\\nthan before of Mr. Elton's being a remarkably handsome man, with most\\nagreeable manners; and as she had no hesitation in following up\\nthe assurance of his admiration by agreeable hints, she was soon\\npretty confident of creating as much liking on Harriet's side,\\nas there could be any occasion for.\",\n",
              " \"She was quite convinced\\nof Mr. Elton's being in the fairest way of falling in love,\\nif not in love already.\",\n",
              " 'She had no scruple with regard to him.',\n",
              " 'He talked of Harriet, and praised her so warmly, that she could\\nnot suppose any thing wanting which a little time would not add.',\n",
              " \"His perception of the striking improvement of Harriet's manner,\\nsince her introduction at Hartfield, was not one of the least\\nagreeable proofs of his growing attachment.\",\n",
              " '\"You have given Miss Smith all that she required,\" said he;\\n\"you have made her graceful and easy.',\n",
              " 'She was a beautiful creature\\nwhen she came to you, but, in my opinion, the attractions you have\\nadded are infinitely superior to what she received from nature.\"',\n",
              " '\"I am glad you think I have been useful to her; but Harriet\\nonly wanted drawing out, and receiving a few, very few hints.',\n",
              " 'She had all the natural grace of sweetness of temper and artlessness\\nin herself.',\n",
              " 'I have done very little.\"',\n",
              " '\"If it were admissible to contradict a lady,\" said the gallant\\nMr. Elton--\\n\\n\"I have perhaps given her a little more decision of character,\\nhave taught her to think on points which had not fallen in her\\nway before.\"',\n",
              " '\"Exactly so; that is what principally strikes me.',\n",
              " 'So much superadded\\ndecision of character!',\n",
              " 'Skilful has been the hand!\"',\n",
              " '\"Great has been the pleasure, I am sure.',\n",
              " 'I never met with\\na disposition more truly amiable.\"',\n",
              " '\"I have no doubt of it.\"',\n",
              " 'And it was spoken with a sort\\nof sighing animation, which had a vast deal of the lover.',\n",
              " \"She was not less pleased another day with the manner\\nin which he seconded a sudden wish of hers, to have Harriet's picture.\",\n",
              " '\"Did you ever have your likeness taken, Harriet?\"',\n",
              " 'said she: \"did\\nyou ever sit for your picture?\"',\n",
              " 'Harriet was on the point of leaving the room, and only stopt to say,\\nwith a very interesting naivete,\\n\\n\"Oh!',\n",
              " 'dear, no, never.\"',\n",
              " 'No sooner was she out of sight, than Emma exclaimed,\\n\\n\"What an exquisite possession a good picture of her would be!',\n",
              " 'I would\\ngive any money for it.',\n",
              " 'I almost long to attempt her likeness myself.',\n",
              " 'You do not know it I dare say, but two or three years ago I had\\na great passion for taking likenesses, and attempted several of\\nmy friends, and was thought to have a tolerable eye in general.',\n",
              " 'But from one cause or another, I gave it up in disgust.',\n",
              " 'But really, I could almost venture, if Harriet would sit to me.',\n",
              " 'It would be such a delight to have her picture!\"',\n",
              " '\"Let me entreat you,\" cried Mr. Elton; \"it would indeed be a delight!',\n",
              " 'Let me entreat you, Miss Woodhouse, to exercise so charming a\\ntalent in favour of your friend.',\n",
              " 'I know what your drawings are.',\n",
              " 'How could you suppose me ignorant?',\n",
              " 'Is not this room rich in\\nspecimens of your landscapes and flowers; and has not Mrs. Weston\\nsome inimitable figure-pieces in her drawing-room, at Randalls?\"',\n",
              " 'Yes, good man!--thought Emma--but what has all that to do with taking\\nlikenesses?',\n",
              " 'You know nothing of drawing.',\n",
              " \"Don't pretend to be\\nin raptures about mine.\",\n",
              " \"Keep your raptures for Harriet's face.\",\n",
              " '\"Well, if you give me such kind encouragement, Mr. Elton, I believe\\nI shall try what I can do.',\n",
              " 'Harriet\\'s features are very delicate,\\nwhich makes a likeness difficult; and yet there is a peculiarity\\nin the shape of the eye and the lines about the mouth which one ought\\nto catch.\"',\n",
              " '\"Exactly so--The shape of the eye and the lines about the mouth--I\\nhave not a doubt of your success.',\n",
              " 'Pray, pray attempt it.',\n",
              " 'As you will do it, it will indeed, to use your own words,\\nbe an exquisite possession.\"',\n",
              " '\"But I am afraid, Mr. Elton, Harriet will not like to sit.',\n",
              " 'She thinks so little of her own beauty.',\n",
              " 'Did not you observe her\\nmanner of answering me?',\n",
              " 'How completely it meant, `why should my\\npicture be drawn?\\'\"',\n",
              " '\"Oh!',\n",
              " 'yes, I observed it, I assure you.',\n",
              " 'It was not lost on me.',\n",
              " 'But still I cannot imagine she would not be persuaded.\"',\n",
              " 'Harriet was soon back again, and the proposal almost immediately made;\\nand she had no scruples which could stand many minutes against the earnest\\npressing of both the others.',\n",
              " 'Emma wished to go to work directly,\\nand therefore produced the portfolio containing her various attempts\\nat portraits, for not one of them had ever been finished, that they\\nmight decide together on the best size for Harriet.',\n",
              " 'Her many\\nbeginnings were displayed.',\n",
              " 'Miniatures, half-lengths, whole-lengths,\\npencil, crayon, and water-colours had been all tried in turn.',\n",
              " 'She had always wanted to do every thing, and had made more progress\\nboth in drawing and music than many might have done with so little\\nlabour as she would ever submit to.',\n",
              " 'She played and sang;--and drew\\nin almost every style; but steadiness had always been wanting;\\nand in nothing had she approached the degree of excellence which she\\nwould have been glad to command, and ought not to have failed of.',\n",
              " 'She was not much deceived as to her own skill either as an artist\\nor a musician, but she was not unwilling to have others deceived,\\nor sorry to know her reputation for accomplishment often higher\\nthan it deserved.',\n",
              " 'There was merit in every drawing--in the least finished, perhaps the most;\\nher style was spirited; but had there been much less, or had there\\nbeen ten times more, the delight and admiration of her two companions\\nwould have been the same.',\n",
              " 'They were both in ecstasies.',\n",
              " \"A likeness\\npleases every body; and Miss Woodhouse's performances must be capital.\",\n",
              " '\"No great variety of faces for you,\" said Emma.',\n",
              " '\"I had only my\\nown family to study from.',\n",
              " 'There is my father--another of my\\nfather--but the idea of sitting for his picture made him so nervous,\\nthat I could only take him by stealth; neither of them very\\nlike therefore.',\n",
              " 'Mrs. Weston again, and again, and again, you see.',\n",
              " 'Dear Mrs. Weston!',\n",
              " 'always my kindest friend on every occasion.',\n",
              " 'She would sit whenever I asked her.',\n",
              " 'There is my sister; and really\\nquite her own little elegant figure!--and the face not unlike.',\n",
              " 'I should have made a good likeness of her, if she would have\\nsat longer, but she was in such a hurry to have me draw her four\\nchildren that she would not be quiet.',\n",
              " 'Then, here come all my\\nattempts at three of those four children;--there they are,\\nHenry and John and Bella, from one end of the sheet to the other,\\nand any one of them might do for any one of the rest.',\n",
              " \"She was so\\neager to have them drawn that I could not refuse; but there is no\\nmaking children of three or four years old stand still you know;\\nnor can it be very easy to take any likeness of them, beyond the\\nair and complexion, unless they are coarser featured than any\\nof mama's children ever were.\",\n",
              " 'Here is my sketch of the fourth,\\nwho was a baby.',\n",
              " 'I took him as he was sleeping on the sofa, and it\\nis as strong a likeness of his cockade as you would wish to see.',\n",
              " 'He had nestled down his head most conveniently.',\n",
              " \"That's very like.\",\n",
              " 'I am rather proud of little George.',\n",
              " 'The corner of the sofa is very good.',\n",
              " 'Then here is my last,\"--unclosing a pretty sketch of a gentleman\\nin small size, whole-length--\"my last and my best--my brother,\\nMr. John Knightley.--This did not want much of being finished, when I\\nput it away in a pet, and vowed I would never take another likeness.',\n",
              " 'I could not help being provoked; for after all my pains, and when I\\nhad really made a very good likeness of it--(Mrs. Weston and I\\nwere quite agreed in thinking it _very_ like)--only too handsome--too\\nflattering--but that was a fault on the right side--after\\nall this, came poor dear Isabella\\'s cold approbation of--\"Yes,\\nit was a little like--but to be sure it did not do him justice.\"',\n",
              " 'We had had a great deal of trouble in persuading him to sit at all.',\n",
              " 'It was made a great favour of; and altogether it was more than I\\ncould bear; and so I never would finish it, to have it apologised\\nover as an unfavourable likeness, to every morning visitor in\\nBrunswick Square;--and, as I said, I did then forswear ever drawing\\nany body again.',\n",
              " 'But for Harriet\\'s sake, or rather for my own,\\nand as there are no husbands and wives in the case _at_ _present_,\\nI will break my resolution now.\"',\n",
              " 'Mr. Elton seemed very properly struck and delighted by the idea,\\nand was repeating, \"No husbands and wives in the case at present\\nindeed, as you observe.',\n",
              " 'Exactly so.',\n",
              " 'No husbands and wives,\"\\nwith so interesting a consciousness, that Emma began to consider\\nwhether she had not better leave them together at once.',\n",
              " 'But as she\\nwanted to be drawing, the declaration must wait a little longer.',\n",
              " 'She had soon fixed on the size and sort of portrait.',\n",
              " \"It was to be a whole-length in water-colours, like Mr. John\\nKnightley's, and was destined, if she could please herself,\\nto hold a very honourable station over the mantelpiece.\",\n",
              " 'The sitting began; and Harriet, smiling and blushing, and afraid\\nof not keeping her attitude and countenance, presented a very sweet\\nmixture of youthful expression to the steady eyes of the artist.',\n",
              " 'But there was no doing any thing, with Mr. Elton fidgeting behind\\nher and watching every touch.',\n",
              " 'She gave him credit for stationing\\nhimself where he might gaze and gaze again without offence;\\nbut was really obliged to put an end to it, and request him to\\nplace himself elsewhere.',\n",
              " 'It then occurred to her to employ him\\nin reading.',\n",
              " '\"If he would be so good as to read to them, it would be a kindness\\nindeed!',\n",
              " 'It would amuse away the difficulties of her part, and lessen\\nthe irksomeness of Miss Smith\\'s.\"',\n",
              " 'Mr. Elton was only too happy.',\n",
              " 'Harriet listened, and Emma drew\\nin peace.',\n",
              " 'She must allow him to be still frequently coming to look;\\nany thing less would certainly have been too little in a lover;\\nand he was ready at the smallest intermission of the pencil,\\nto jump up and see the progress, and be charmed.--There was no\\nbeing displeased with such an encourager, for his admiration\\nmade him discern a likeness almost before it was possible.',\n",
              " 'She could not respect his eye, but his love and his complaisance\\nwere unexceptionable.',\n",
              " \"The sitting was altogether very satisfactory; she was quite\\nenough pleased with the first day's sketch to wish to go on.\",\n",
              " \"There was no want of likeness, she had been fortunate in the attitude,\\nand as she meant to throw in a little improvement to the figure,\\nto give a little more height, and considerably more elegance, she had\\ngreat confidence of its being in every way a pretty drawing at last,\\nand of its filling its destined place with credit to them both--a\\nstanding memorial of the beauty of one, the skill of the other,\\nand the friendship of both; with as many other agreeable associations\\nas Mr. Elton's very promising attachment was likely to add.\",\n",
              " 'Harriet was to sit again the next day; and Mr. Elton, just as he ought,\\nentreated for the permission of attending and reading to them again.',\n",
              " '\"By all means.',\n",
              " 'We shall be most happy to consider you as one\\nof the party.\"',\n",
              " 'The same civilities and courtesies, the same success and satisfaction,\\ntook place on the morrow, and accompanied the whole progress\\nof the picture, which was rapid and happy.',\n",
              " 'Every body who saw it\\nwas pleased, but Mr. Elton was in continual raptures, and defended\\nit through every criticism.',\n",
              " '\"Miss Woodhouse has given her friend the only beauty she\\nwanted,\"--observed Mrs. Weston to him--not in the least suspecting\\nthat she was addressing a lover.--\"The expression of the eye is\\nmost correct, but Miss Smith has not those eyebrows and eyelashes.',\n",
              " 'It is the fault of her face that she has them not.\"',\n",
              " '\"Do you think so?\"',\n",
              " 'replied he.',\n",
              " '\"I cannot agree with you.',\n",
              " 'It appears to me a most perfect resemblance in every feature.',\n",
              " 'I never saw such a likeness in my life.',\n",
              " 'We must allow for the effect\\nof shade, you know.\"',\n",
              " '\"You have made her too tall, Emma,\" said Mr. Knightley.',\n",
              " 'Emma knew that she had, but would not own it; and Mr. Elton warmly added,\\n\\n\"Oh no!',\n",
              " 'certainly not too tall; not in the least too tall.',\n",
              " 'Consider,\\nshe is sitting down--which naturally presents a different--which\\nin short gives exactly the idea--and the proportions must\\nbe preserved, you know.',\n",
              " 'Proportions, fore-shortening.--Oh no!',\n",
              " \"it\\ngives one exactly the idea of such a height as Miss Smith's.\",\n",
              " 'Exactly so indeed!\"',\n",
              " '\"It is very pretty,\" said Mr. Woodhouse.',\n",
              " '\"So prettily done!',\n",
              " 'Just\\nas your drawings always are, my dear.',\n",
              " 'I do not know any body who draws\\nso well as you do.',\n",
              " 'The only thing I do not thoroughly like is,\\nthat she seems to be sitting out of doors, with only a little shawl\\nover her shoulders--and it makes one think she must catch cold.\"',\n",
              " '\"But, my dear papa, it is supposed to be summer; a warm day in summer.',\n",
              " 'Look at the tree.\"',\n",
              " '\"But it is never safe to sit out of doors, my dear.\"',\n",
              " '\"You, sir, may say any thing,\" cried Mr. Elton, \"but I must confess\\nthat I regard it as a most happy thought, the placing of Miss\\nSmith out of doors; and the tree is touched with such inimitable\\nspirit!',\n",
              " 'Any other situation would have been much less in character.',\n",
              " \"The naivete of Miss Smith's manners--and altogether--Oh, it is\\nmost admirable!\",\n",
              " 'I cannot keep my eyes from it.',\n",
              " 'I never saw such\\na likeness.\"',\n",
              " 'The next thing wanted was to get the picture framed; and here were a\\nfew difficulties.',\n",
              " 'It must be done directly; it must be done in London;\\nthe order must go through the hands of some intelligent person whose taste\\ncould be depended on; and Isabella, the usual doer of all commissions,\\nmust not be applied to, because it was December, and Mr. Woodhouse\\ncould not bear the idea of her stirring out of her house in the fogs\\nof December.',\n",
              " 'But no sooner was the distress known to Mr. Elton,\\nthan it was removed.',\n",
              " 'His gallantry was always on the alert.',\n",
              " '\"Might he be trusted with the commission, what infinite pleasure\\nshould he have in executing it!',\n",
              " 'he could ride to London at any time.',\n",
              " 'It was impossible to say how much he should be gratified by being\\nemployed on such an errand.\"',\n",
              " '\"He was too good!--she could not endure the thought!--she would\\nnot give him such a troublesome office for the world,\"--brought\\non the desired repetition of entreaties and assurances,--and\\na very few minutes settled the business.',\n",
              " 'Mr. Elton was to take the drawing to London, chuse the frame,\\nand give the directions; and Emma thought she could so pack it\\nas to ensure its safety without much incommoding him, while he\\nseemed mostly fearful of not being incommoded enough.',\n",
              " '\"What a precious deposit!\"',\n",
              " 'said he with a tender sigh, as he\\nreceived it.',\n",
              " '\"This man is almost too gallant to be in love,\" thought Emma.',\n",
              " '\"I should say so, but that I suppose there may be a hundred different\\nways of being in love.',\n",
              " \"He is an excellent young man, and will suit\\nHarriet exactly; it will be an `Exactly so,' as he says himself;\\nbut he does sigh and languish, and study for compliments rather more\\nthan I could endure as a principal.\",\n",
              " 'I come in for a pretty good\\nshare as a second.',\n",
              " 'But it is his gratitude on Harriet\\'s account.\"',\n",
              " \"CHAPTER VII\\n\\n\\nThe very day of Mr. Elton's going to London produced a fresh occasion\\nfor Emma's services towards her friend.\",\n",
              " 'Harriet had been at Hartfield,\\nas usual, soon after breakfast; and, after a time, had gone home\\nto return again to dinner: she returned, and sooner than had been\\ntalked of, and with an agitated, hurried look, announcing something\\nextraordinary to have happened which she was longing to tell.',\n",
              " 'Half a minute brought it all out.',\n",
              " \"She had heard, as soon as she got\\nback to Mrs. Goddard's, that Mr. Martin had been there an hour before,\\nand finding she was not at home, nor particularly expected, had left\\na little parcel for her from one of his sisters, and gone away;\\nand on opening this parcel, she had actually found, besides the two\\nsongs which she had lent Elizabeth to copy, a letter to herself;\\nand this letter was from him, from Mr. Martin, and contained a direct\\nproposal of marriage.\",\n",
              " '\"Who could have thought it?',\n",
              " 'She was so surprized\\nshe did not know what to do.',\n",
              " 'Yes, quite a proposal of marriage;\\nand a very good letter, at least she thought so.',\n",
              " 'And he wrote\\nas if he really loved her very much--but she did not know--and so,\\nshe was come as fast as she could to ask Miss Woodhouse what she\\nshould do.--\" Emma was half-ashamed of her friend for seeming so\\npleased and so doubtful.',\n",
              " '\"Upon my word,\" she cried, \"the young man is determined not to lose\\nany thing for want of asking.',\n",
              " 'He will connect himself well if he can.\"',\n",
              " '\"Will you read the letter?\"',\n",
              " 'cried Harriet.',\n",
              " '\"Pray do.',\n",
              " 'I\\'d rather\\nyou would.\"',\n",
              " 'Emma was not sorry to be pressed.',\n",
              " 'She read, and was surprized.',\n",
              " 'The style of the letter was much above her expectation.',\n",
              " 'There were not merely no grammatical errors, but as a composition it\\nwould not have disgraced a gentleman; the language, though plain,\\nwas strong and unaffected, and the sentiments it conveyed very much\\nto the credit of the writer.',\n",
              " 'It was short, but expressed good sense,\\nwarm attachment, liberality, propriety, even delicacy of feeling.',\n",
              " 'She paused over it, while Harriet stood anxiously watching for\\nher opinion, with a \"Well, well,\" and was at last forced to add,\\n\"Is it a good letter?',\n",
              " 'or is it too short?\"',\n",
              " '\"Yes, indeed, a very good letter,\" replied Emma rather slowly--\"so\\ngood a letter, Harriet, that every thing considered, I think one of\\nhis sisters must have helped him.',\n",
              " 'I can hardly imagine the young\\nman whom I saw talking with you the other day could express himself\\nso well, if left quite to his own powers, and yet it is not the\\nstyle of a woman; no, certainly, it is too strong and concise;\\nnot diffuse enough for a woman.',\n",
              " 'No doubt he is a sensible man,\\nand I suppose may have a natural talent for--thinks strongly and\\nclearly--and when he takes a pen in hand, his thoughts naturally find\\nproper words.',\n",
              " 'It is so with some men.',\n",
              " 'Yes, I understand the sort\\nof mind.',\n",
              " 'Vigorous, decided, with sentiments to a certain point,\\nnot coarse.',\n",
              " 'A better written letter, Harriet (returning it,)\\nthan I had expected.\"',\n",
              " '\"Well,\" said the still waiting Harriet;--\"well--and--and what\\nshall I do?\"',\n",
              " '\"What shall you do!',\n",
              " 'In what respect?',\n",
              " 'Do you mean with regard\\nto this letter?\"',\n",
              " '\"Yes.\"',\n",
              " '\"But what are you in doubt of?',\n",
              " 'You must answer it of course--and speedily.\"',\n",
              " '\"Yes.',\n",
              " 'But what shall I say?',\n",
              " 'Dear Miss Woodhouse, do advise me.\"',\n",
              " '\"Oh no, no!',\n",
              " 'the letter had much better be all your own.',\n",
              " 'You will\\nexpress yourself very properly, I am sure.',\n",
              " 'There is no danger of your\\nnot being intelligible, which is the first thing.',\n",
              " 'Your meaning must\\nbe unequivocal; no doubts or demurs: and such expressions of gratitude\\nand concern for the pain you are inflicting as propriety requires,\\nwill present themselves unbidden to _your_ mind, I am persuaded.',\n",
              " 'You need not be prompted to write with the appearance of sorrow\\nfor his disappointment.\"',\n",
              " '\"You think I ought to refuse him then,\" said Harriet, looking down.',\n",
              " '\"Ought to refuse him!',\n",
              " 'My dear Harriet, what do you mean?',\n",
              " 'Are you\\nin any doubt as to that?',\n",
              " 'I thought--but I beg your pardon, perhaps I\\nhave been under a mistake.',\n",
              " 'I certainly have been misunderstanding\\nyou, if you feel in doubt as to the _purport_ of your answer.',\n",
              " 'I had imagined you were consulting me only as to the wording of it.\"',\n",
              " 'Harriet was silent.',\n",
              " 'With a little reserve of manner, Emma continued:\\n\\n\"You mean to return a favourable answer, I collect.\"',\n",
              " '\"No, I do not; that is, I do not mean--What shall I do?',\n",
              " 'What would\\nyou advise me to do?',\n",
              " 'Pray, dear Miss Woodhouse, tell me what I\\nought to do.\"',\n",
              " '\"I shall not give you any advice, Harriet.',\n",
              " 'I will have nothing to\\ndo with it.',\n",
              " 'This is a point which you must settle with your feelings.\"',\n",
              " '\"I had no notion that he liked me so very much,\" said Harriet,\\ncontemplating the letter.',\n",
              " 'For a little while Emma persevered\\nin her silence; but beginning to apprehend the bewitching flattery\\nof that letter might be too powerful, she thought it best to say,\\n\\n\"I lay it down as a general rule, Harriet, that if a woman _doubts_\\nas to whether she should accept a man or not, she certainly ought\\nto refuse him.',\n",
              " \"If she can hesitate as to `Yes,' she ought to say\\n`No' directly.\",\n",
              " 'It is not a state to be safely entered into\\nwith doubtful feelings, with half a heart.',\n",
              " 'I thought it my duty\\nas a friend, and older than yourself, to say thus much to you.',\n",
              " 'But do not imagine that I want to influence you.\"',\n",
              " '\"Oh!',\n",
              " 'no, I am sure you are a great deal too kind to--but if you\\nwould just advise me what I had best do--No, no, I do not mean\\nthat--As you say, one\\'s mind ought to be quite made up--One should\\nnot be hesitating--It is a very serious thing.--It will be safer\\nto say `No,\\' perhaps.--Do you think I had better say `No?\\'\"',\n",
              " '\"Not for the world,\" said Emma, smiling graciously, \"would I advise\\nyou either way.',\n",
              " 'You must be the best judge of your own happiness.',\n",
              " 'If you prefer Mr. Martin to every other person; if you think him\\nthe most agreeable man you have ever been in company with, why should\\nyou hesitate?',\n",
              " 'You blush, Harriet.--Does any body else occur to you\\nat this moment under such a definition?',\n",
              " 'Harriet, Harriet, do not\\ndeceive yourself; do not be run away with by gratitude and compassion.',\n",
              " 'At this moment whom are you thinking of?\"',\n",
              " 'The symptoms were favourable.--Instead of answering, Harriet turned\\naway confused, and stood thoughtfully by the fire; and though\\nthe letter was still in her hand, it was now mechanically twisted\\nabout without regard.',\n",
              " 'Emma waited the result with impatience,\\nbut not without strong hopes.',\n",
              " 'At last, with some hesitation,\\nHarriet said--\\n\\n\"Miss Woodhouse, as you will not give me your opinion, I must\\ndo as well as I can by myself; and I have now quite determined,\\nand really almost made up my mind--to refuse Mr. Martin.',\n",
              " 'Do you\\nthink I am right?\"',\n",
              " '\"Perfectly, perfectly right, my dearest Harriet; you are doing just\\nwhat you ought.',\n",
              " 'While you were at all in suspense I kept my feelings\\nto myself, but now that you are so completely decided I have no\\nhesitation in approving.',\n",
              " 'Dear Harriet, I give myself joy of this.',\n",
              " 'It would have grieved me to lose your acquaintance, which must have\\nbeen the consequence of your marrying Mr. Martin.',\n",
              " 'While you were in\\nthe smallest degree wavering, I said nothing about it, because I would\\nnot influence; but it would have been the loss of a friend to me.',\n",
              " 'I could not have visited Mrs. Robert Martin, of Abbey-Mill Farm.',\n",
              " 'Now I am secure of you for ever.\"',\n",
              " 'Harriet had not surmised her own danger, but the idea of it struck\\nher forcibly.',\n",
              " '\"You could not have visited me!\"',\n",
              " 'she cried, looking aghast.',\n",
              " '\"No, to be sure you could not; but I never thought of that before.',\n",
              " 'That would have been too dreadful!--What an escape!--Dear Miss Woodhouse,\\nI would not give up the pleasure and honour of being intimate with you\\nfor any thing in the world.\"',\n",
              " '\"Indeed, Harriet, it would have been a severe pang to lose you;\\nbut it must have been.',\n",
              " 'You would have thrown yourself out of all\\ngood society.',\n",
              " 'I must have given you up.\"',\n",
              " '\"Dear me!--How should I ever have borne it!',\n",
              " 'It would have killed\\nme never to come to Hartfield any more!\"',\n",
              " '\"Dear affectionate creature!--_You_ banished to Abbey-Mill Farm!--_You_\\nconfined to the society of the illiterate and vulgar all your life!',\n",
              " 'I wonder how the young man could have the assurance to ask it.',\n",
              " 'He must have a pretty good opinion of himself.\"',\n",
              " '\"I do not think he is conceited either, in general,\" said Harriet,\\nher conscience opposing such censure; \"at least, he is very good natured,\\nand I shall always feel much obliged to him, and have a great regard\\nfor--but that is quite a different thing from--and you know,\\nthough he may like me, it does not follow that I should--and\\ncertainly I must confess that since my visiting here I have seen\\npeople--and if one comes to compare them, person and manners,\\nthere is no comparison at all, _one_ is so very handsome and agreeable.',\n",
              " 'However, I do really think Mr. Martin a very amiable young man,\\nand have a great opinion of him; and his being so much attached\\nto me--and his writing such a letter--but as to leaving you,\\nit is what I would not do upon any consideration.\"',\n",
              " '\"Thank you, thank you, my own sweet little friend.',\n",
              " 'We will not\\nbe parted.',\n",
              " 'A woman is not to marry a man merely because she is asked,\\nor because he is attached to her, and can write a tolerable letter.\"',\n",
              " '\"Oh no;--and it is but a short letter too.\"',\n",
              " 'Emma felt the bad taste of her friend, but let it pass with a\\n\"very true; and it would be a small consolation to her, for the\\nclownish manner which might be offending her every hour of the day,\\nto know that her husband could write a good letter.\"',\n",
              " '\"Oh!',\n",
              " 'yes, very.',\n",
              " 'Nobody cares for a letter; the thing is, to be always\\nhappy with pleasant companions.',\n",
              " 'I am quite determined to refuse him.',\n",
              " 'But how shall I do?',\n",
              " 'What shall I say?\"',\n",
              " 'Emma assured her there would be no difficulty in the answer,\\nand advised its being written directly, which was agreed to,\\nin the hope of her assistance; and though Emma continued to protest\\nagainst any assistance being wanted, it was in fact given in the\\nformation of every sentence.',\n",
              " 'The looking over his letter again,\\nin replying to it, had such a softening tendency, that it was\\nparticularly necessary to brace her up with a few decisive expressions;\\nand she was so very much concerned at the idea of making him unhappy,\\nand thought so much of what his mother and sisters would think and say,\\nand was so anxious that they should not fancy her ungrateful,\\nthat Emma believed if the young man had come in her way at that moment,\\nhe would have been accepted after all.',\n",
              " 'This letter, however, was written, and sealed, and sent.',\n",
              " 'The business was finished, and Harriet safe.',\n",
              " 'She was rather low\\nall the evening, but Emma could allow for her amiable regrets,\\nand sometimes relieved them by speaking of her own affection,\\nsometimes by bringing forward the idea of Mr. Elton.',\n",
              " '\"I shall never be invited to Abbey-Mill again,\" was said in rather\\na sorrowful tone.',\n",
              " '\"Nor, if you were, could I ever bear to part with you, my Harriet.',\n",
              " 'You are a great deal too necessary at Hartfield to be spared\\nto Abbey-Mill.\"',\n",
              " '\"And I am sure I should never want to go there; for I am never happy\\nbut at Hartfield.\"',\n",
              " 'Some time afterwards it was, \"I think Mrs. Goddard would be very\\nmuch surprized if she knew what had happened.',\n",
              " 'I am sure Miss Nash\\nwould--for Miss Nash thinks her own sister very well married,\\nand it is only a linen-draper.\"',\n",
              " '\"One should be sorry to see greater pride or refinement in the\\nteacher of a school, Harriet.',\n",
              " 'I dare say Miss Nash would envy you\\nsuch an opportunity as this of being married.',\n",
              " 'Even this conquest\\nwould appear valuable in her eyes.',\n",
              " 'As to any thing superior for you,\\nI suppose she is quite in the dark.',\n",
              " 'The attentions of a certain\\nperson can hardly be among the tittle-tattle of Highbury yet.',\n",
              " 'Hitherto I fancy you and I are the only people to whom his looks\\nand manners have explained themselves.\"',\n",
              " 'Harriet blushed and smiled, and said something about wondering\\nthat people should like her so much.',\n",
              " 'The idea of Mr. Elton was\\ncertainly cheering; but still, after a time, she was tender-hearted\\nagain towards the rejected Mr. Martin.',\n",
              " '\"Now he has got my letter,\" said she softly.',\n",
              " '\"I wonder what they\\nare all doing--whether his sisters know--if he is unhappy,\\nthey will be unhappy too.',\n",
              " 'I hope he will not mind it so very much.\"',\n",
              " '\"Let us think of those among our absent friends who are more\\ncheerfully employed,\" cried Emma.',\n",
              " '\"At this moment, perhaps, Mr. Elton\\nis shewing your picture to his mother and sisters, telling how much\\nmore beautiful is the original, and after being asked for it five\\nor six times, allowing them to hear your name, your own dear name.\"',\n",
              " '\"My picture!--But he has left my picture in Bond-street.\"',\n",
              " '\"Has he so!--Then I know nothing of Mr. Elton.',\n",
              " 'No, my dear\\nlittle modest Harriet, depend upon it the picture will not be\\nin Bond-street till just before he mounts his horse to-morrow.',\n",
              " 'It is his companion all this evening, his solace, his delight.',\n",
              " 'It opens his designs to his family, it introduces you among them,\\nit diffuses through the party those pleasantest feelings of our nature,\\neager curiosity and warm prepossession.',\n",
              " 'How cheerful, how animated,\\nhow suspicious, how busy their imaginations all are!\"',\n",
              " 'Harriet smiled again, and her smiles grew stronger.',\n",
              " 'CHAPTER VIII\\n\\n\\nHarriet slept at Hartfield that night.',\n",
              " 'For some weeks past she\\nhad been spending more than half her time there, and gradually\\ngetting to have a bed-room appropriated to herself; and Emma\\njudged it best in every respect, safest and kindest, to keep her\\nwith them as much as possible just at present.',\n",
              " \"She was obliged\\nto go the next morning for an hour or two to Mrs. Goddard's,\\nbut it was then to be settled that she should return to Hartfield,\\nto make a regular visit of some days.\",\n",
              " 'While she was gone, Mr. Knightley called, and sat some time with\\nMr. Woodhouse and Emma, till Mr. Woodhouse, who had previously made up\\nhis mind to walk out, was persuaded by his daughter not to defer it,\\nand was induced by the entreaties of both, though against the scruples\\nof his own civility, to leave Mr. Knightley for that purpose.',\n",
              " 'Mr. Knightley, who had nothing of ceremony about him, was offering\\nby his short, decided answers, an amusing contrast to the protracted\\napologies and civil hesitations of the other.',\n",
              " '\"Well, I believe, if you will excuse me, Mr. Knightley, if you\\nwill not consider me as doing a very rude thing, I shall take\\nEmma\\'s advice and go out for a quarter of an hour.',\n",
              " 'As the sun\\nis out, I believe I had better take my three turns while I can.',\n",
              " 'I treat you without ceremony, Mr. Knightley.',\n",
              " 'We invalids think we\\nare privileged people.\"',\n",
              " '\"My dear sir, do not make a stranger of me.\"',\n",
              " '\"I leave an excellent substitute in my daughter.',\n",
              " 'Emma will be happy\\nto entertain you.',\n",
              " 'And therefore I think I will beg your excuse\\nand take my three turns--my winter walk.\"',\n",
              " '\"You cannot do better, sir.\"',\n",
              " '\"I would ask for the pleasure of your company, Mr. Knightley,\\nbut I am a very slow walker, and my pace would be tedious to you;\\nand, besides, you have another long walk before you, to Donwell Abbey.\"',\n",
              " '\"Thank you, sir, thank you; I am going this moment myself; and I\\nthink the sooner _you_ go the better.',\n",
              " 'I will fetch your greatcoat\\nand open the garden door for you.\"',\n",
              " 'Mr. Woodhouse at last was off; but Mr. Knightley, instead of being\\nimmediately off likewise, sat down again, seemingly inclined\\nfor more chat.',\n",
              " 'He began speaking of Harriet, and speaking\\nof her with more voluntary praise than Emma had ever heard before.',\n",
              " '\"I cannot rate her beauty as you do,\" said he; \"but she is a\\npretty little creature, and I am inclined to think very well of\\nher disposition.',\n",
              " 'Her character depends upon those she is with;\\nbut in good hands she will turn out a valuable woman.\"',\n",
              " '\"I am glad you think so; and the good hands, I hope, may not be wanting.\"',\n",
              " '\"Come,\" said he, \"you are anxious for a compliment, so I will\\ntell you that you have improved her.',\n",
              " 'You have cured her of her\\nschool-girl\\'s giggle; she really does you credit.\"',\n",
              " '\"Thank you.',\n",
              " 'I should be mortified indeed if I did not believe I\\nhad been of some use; but it is not every body who will bestow\\npraise where they may.',\n",
              " '_You_ do not often overpower me with it.\"',\n",
              " '\"You are expecting her again, you say, this morning?\"',\n",
              " '\"Almost every moment.',\n",
              " 'She has been gone longer already than\\nshe intended.\"',\n",
              " '\"Something has happened to delay her; some visitors perhaps.\"',\n",
              " '\"Highbury gossips!--Tiresome wretches!\"',\n",
              " '\"Harriet may not consider every body tiresome that you would.\"',\n",
              " 'Emma knew this was too true for contradiction, and therefore\\nsaid nothing.',\n",
              " 'He presently added, with a smile,\\n\\n\"I do not pretend to fix on times or places, but I must tell you\\nthat I have good reason to believe your little friend will soon\\nhear of something to her advantage.\"',\n",
              " '\"Indeed!',\n",
              " 'how so?',\n",
              " 'of what sort?\"',\n",
              " '\"A very serious sort, I assure you;\" still smiling.',\n",
              " '\"Very serious!',\n",
              " 'I can think of but one thing--Who is in love\\nwith her?',\n",
              " 'Who makes you their confidant?\"',\n",
              " \"Emma was more than half in hopes of Mr. Elton's having dropt a hint.\",\n",
              " 'Mr. Knightley was a sort of general friend and adviser, and she knew\\nMr. Elton looked up to him.',\n",
              " '\"I have reason to think,\" he replied, \"that Harriet Smith will\\nsoon have an offer of marriage, and from a most unexceptionable\\nquarter:--Robert Martin is the man.',\n",
              " 'Her visit to Abbey-Mill,\\nthis summer, seems to have done his business.',\n",
              " 'He is desperately\\nin love and means to marry her.\"',\n",
              " '\"He is very obliging,\" said Emma; \"but is he sure that Harriet\\nmeans to marry him?\"',\n",
              " '\"Well, well, means to make her an offer then.',\n",
              " 'Will that do?',\n",
              " 'He came\\nto the Abbey two evenings ago, on purpose to consult me about it.',\n",
              " 'He knows I have a thorough regard for him and all his family, and,\\nI believe, considers me as one of his best friends.',\n",
              " 'He came to ask\\nme whether I thought it would be imprudent in him to settle so early;\\nwhether I thought her too young: in short, whether I approved his\\nchoice altogether; having some apprehension perhaps of her being\\nconsidered (especially since _your_ making so much of her) as in a line\\nof society above him.',\n",
              " 'I was very much pleased with all that he said.',\n",
              " 'I never hear better sense from any one than Robert Martin.',\n",
              " 'He always speaks to the purpose; open, straightforward, and very\\nwell judging.',\n",
              " 'He told me every thing; his circumstances and plans,\\nand what they all proposed doing in the event of his marriage.',\n",
              " 'He is\\nan excellent young man, both as son and brother.',\n",
              " 'I had no hesitation\\nin advising him to marry.',\n",
              " 'He proved to me that he could afford it;\\nand that being the case, I was convinced he could not do better.',\n",
              " 'I praised the fair lady too, and altogether sent him away very happy.',\n",
              " 'If he had never esteemed my opinion before, he would have thought\\nhighly of me then; and, I dare say, left the house thinking me the\\nbest friend and counsellor man ever had.',\n",
              " 'This happened the night\\nbefore last.',\n",
              " 'Now, as we may fairly suppose, he would not allow\\nmuch time to pass before he spoke to the lady, and as he does not\\nappear to have spoken yesterday, it is not unlikely that he should\\nbe at Mrs. Goddard\\'s to-day; and she may be detained by a visitor,\\nwithout thinking him at all a tiresome wretch.\"',\n",
              " '\"Pray, Mr. Knightley,\" said Emma, who had been smiling to herself\\nthrough a great part of this speech, \"how do you know that Mr. Martin\\ndid not speak yesterday?\"',\n",
              " '\"Certainly,\" replied he, surprized, \"I do not absolutely know it;\\nbut it may be inferred.',\n",
              " 'Was not she the whole day with you?\"',\n",
              " '\"Come,\" said she, \"I will tell you something, in return for what\\nyou have told me.',\n",
              " 'He did speak yesterday--that is, he wrote,\\nand was refused.\"',\n",
              " 'This was obliged to be repeated before it could be believed;\\nand Mr. Knightley actually looked red with surprize and displeasure,\\nas he stood up, in tall indignation, and said,\\n\\n\"Then she is a greater simpleton than I ever believed her.',\n",
              " 'What is the foolish girl about?\"',\n",
              " '\"Oh!',\n",
              " 'to be sure,\" cried Emma, \"it is always incomprehensible\\nto a man that a woman should ever refuse an offer of marriage.',\n",
              " 'A man always imagines a woman to be ready for any body who asks her.\"',\n",
              " '\"Nonsense!',\n",
              " 'a man does not imagine any such thing.',\n",
              " 'But what is\\nthe meaning of this?',\n",
              " 'Harriet Smith refuse Robert Martin?',\n",
              " 'madness,\\nif it is so; but I hope you are mistaken.\"',\n",
              " '\"I saw her answer!--nothing could be clearer.\"',\n",
              " '\"You saw her answer!--you wrote her answer too.',\n",
              " 'Emma, this is\\nyour doing.',\n",
              " 'You persuaded her to refuse him.\"',\n",
              " '\"And if I did, (which, however, I am far from allowing) I should\\nnot feel that I had done wrong.',\n",
              " \"Mr. Martin is a very respectable\\nyoung man, but I cannot admit him to be Harriet's equal; and am\\nrather surprized indeed that he should have ventured to address her.\",\n",
              " 'By your account, he does seem to have had some scruples.',\n",
              " 'It is\\na pity that they were ever got over.\"',\n",
              " '\"Not Harriet\\'s equal!\"',\n",
              " 'exclaimed Mr. Knightley loudly and warmly;\\nand with calmer asperity, added, a few moments afterwards, \"No, he\\nis not her equal indeed, for he is as much her superior in sense\\nas in situation.',\n",
              " 'Emma, your infatuation about that girl blinds you.',\n",
              " \"What are Harriet Smith's claims, either of birth, nature or education,\\nto any connexion higher than Robert Martin?\",\n",
              " 'She is the natural\\ndaughter of nobody knows whom, with probably no settled provision\\nat all, and certainly no respectable relations.',\n",
              " 'She is known only\\nas parlour-boarder at a common school.',\n",
              " 'She is not a sensible girl,\\nnor a girl of any information.',\n",
              " 'She has been taught nothing useful,\\nand is too young and too simple to have acquired any thing herself.',\n",
              " 'At her age she can have no experience, and with her little wit,\\nis not very likely ever to have any that can avail her.',\n",
              " 'She is pretty, and she is good tempered, and that is all.',\n",
              " 'My only scruple in advising the match was on his account, as being\\nbeneath his deserts, and a bad connexion for him.',\n",
              " 'I felt that,\\nas to fortune, in all probability he might do much better; and that as\\nto a rational companion or useful helpmate, he could not do worse.',\n",
              " 'But I could not reason so to a man in love, and was willing\\nto trust to there being no harm in her, to her having that sort\\nof disposition, which, in good hands, like his, might be easily led\\naright and turn out very well.',\n",
              " 'The advantage of the match I felt\\nto be all on her side; and had not the smallest doubt (nor have I now)\\nthat there would be a general cry-out upon her extreme good luck.',\n",
              " 'Even _your_ satisfaction I made sure of.',\n",
              " \"It crossed my mind immediately\\nthat you would not regret your friend's leaving Highbury, for the\\nsake of her being settled so well.\",\n",
              " 'I remember saying to myself,\\n`Even Emma, with all her partiality for Harriet, will think this a\\ngood match.\\'\"',\n",
              " '\"I cannot help wondering at your knowing so little of Emma as to say\\nany such thing.',\n",
              " 'What!',\n",
              " 'think a farmer, (and with all his sense and all\\nhis merit Mr. Martin is nothing more,) a good match for my intimate\\nfriend!',\n",
              " 'Not regret her leaving Highbury for the sake of marrying\\na man whom I could never admit as an acquaintance of my own!',\n",
              " 'I\\nwonder you should think it possible for me to have such feelings.',\n",
              " 'I assure you mine are very different.',\n",
              " 'I must think your statement\\nby no means fair.',\n",
              " \"You are not just to Harriet's claims.\",\n",
              " 'They would be estimated very differently by others as well as myself;\\nMr. Martin may be the richest of the two, but he is undoubtedly\\nher inferior as to rank in society.--The sphere in which she moves\\nis much above his.--It would be a degradation.\"',\n",
              " '\"A degradation to illegitimacy and ignorance, to be married\\nto a respectable, intelligent gentleman-farmer!\"',\n",
              " '\"As to the circumstances of her birth, though in a legal sense\\nshe may be called Nobody, it will not hold in common sense.',\n",
              " 'She is not to pay for the offence of others, by being held below\\nthe level of those with whom she is brought up.--There can scarcely\\nbe a doubt that her father is a gentleman--and a gentleman of\\nfortune.--Her allowance is very liberal; nothing has ever been grudged\\nfor her improvement or comfort.--That she is a gentleman\\'s daughter,\\nis indubitable to me; that she associates with gentlemen\\'s daughters,\\nno one, I apprehend, will deny.--She is superior to Mr. Robert Martin.\"',\n",
              " '\"Whoever might be her parents,\" said Mr. Knightley, \"whoever may\\nhave had the charge of her, it does not appear to have been any part\\nof their plan to introduce her into what you would call good society.',\n",
              " \"After receiving a very indifferent education she is left in\\nMrs. Goddard's hands to shift as she can;--to move, in short,\\nin Mrs. Goddard's line, to have Mrs. Goddard's acquaintance.\",\n",
              " 'Her friends evidently thought this good enough for her; and it _was_\\ngood enough.',\n",
              " 'She desired nothing better herself.',\n",
              " 'Till you chose\\nto turn her into a friend, her mind had no distaste for her own set,\\nnor any ambition beyond it.',\n",
              " 'She was as happy as possible with the\\nMartins in the summer.',\n",
              " 'She had no sense of superiority then.',\n",
              " 'If she has it now, you have given it.',\n",
              " 'You have been no friend to\\nHarriet Smith, Emma.',\n",
              " 'Robert Martin would never have proceeded so far,\\nif he had not felt persuaded of her not being disinclined to him.',\n",
              " 'I know him well.',\n",
              " 'He has too much real feeling to address any\\nwoman on the haphazard of selfish passion.',\n",
              " 'And as to conceit,\\nhe is the farthest from it of any man I know.',\n",
              " 'Depend upon it he\\nhad encouragement.\"',\n",
              " 'It was most convenient to Emma not to make a direct reply to this\\nassertion; she chose rather to take up her own line of the subject again.',\n",
              " '\"You are a very warm friend to Mr. Martin; but, as I said before,\\nare unjust to Harriet.',\n",
              " \"Harriet's claims to marry well are not\\nso contemptible as you represent them.\",\n",
              " 'She is not a clever girl,\\nbut she has better sense than you are aware of, and does not\\ndeserve to have her understanding spoken of so slightingly.',\n",
              " 'Waiving that point, however, and supposing her to be, as you\\ndescribe her, only pretty and good-natured, let me tell you, that in\\nthe degree she possesses them, they are not trivial recommendations\\nto the world in general, for she is, in fact, a beautiful girl,\\nand must be thought so by ninety-nine people out of an hundred;\\nand till it appears that men are much more philosophic on the subject\\nof beauty than they are generally supposed; till they do fall\\nin love with well-informed minds instead of handsome faces, a girl,\\nwith such loveliness as Harriet, has a certainty of being admired\\nand sought after, of having the power of chusing from among many,\\nconsequently a claim to be nice.',\n",
              " 'Her good-nature, too, is not so very\\nslight a claim, comprehending, as it does, real, thorough sweetness\\nof temper and manner, a very humble opinion of herself, and a great\\nreadiness to be pleased with other people.',\n",
              " 'I am very much mistaken\\nif your sex in general would not think such beauty, and such temper,\\nthe highest claims a woman could possess.\"',\n",
              " '\"Upon my word, Emma, to hear you abusing the reason you have,\\nis almost enough to make me think so too.',\n",
              " ...]"
            ]
          },
          "metadata": {},
          "execution_count": 23
        }
      ],
      "source": [
        "# Import the necessary library\n",
        "from nltk.corpus import gutenberg\n",
        "from nltk.tokenize import word_tokenize, sent_tokenize\n",
        "\n",
        "# Load the text of \"Emma\"\n",
        "emma_text = gutenberg.raw('austen-emma.txt')  # Raw text from the book\n",
        "\n",
        "# Tokenize \"Emma\" into words\n",
        "emma_tokens = word_tokenize(emma_text)  # List of words (tokens)\n",
        "\n",
        "emma_tokens\n",
        "\n",
        "# Tokenize \"Emma\" into sentences\n",
        "emma_sents = sent_tokenize(emma_text)  # List of sentences\n",
        "\n",
        "emma_sents\n",
        "\n",
        "# Explanation:\n",
        "# 1. emma_text: This variable contains the complete raw text of \"Emma\" by Jane Austen as a single long string.\n",
        "#    It has no separation into sentences or words, just a plain text string.\n",
        "\n",
        "# 2. emma_tokens: This variable contains a list of all the words (tokens) in the text.\n",
        "#    The `word_tokenize` function splits the text into individual words and punctuation marks.\n",
        "#    For example: ['Emma', 'by', 'Jane', 'Austen', '.', 'Chapter', 'I', ...]\n",
        "\n",
        "# 3. emma_sents: This variable contains a list of all the sentences in the text.\n",
        "#    The `sent_tokenize` function splits the text into individual sentences.\n",
        "#    For example: ['Emma by Jane Austen', 'Chapter I', 'Emma Woodhouse, handsome, clever, and rich, ...']\n",
        "\n",
        "# Summary of Differences:\n",
        "# - `emma_text` is the raw text as a single string.\n",
        "# - `emma_tokens` is a list of words/tokens from the text.\n",
        "# - `emma_sents` is a list of sentences from the text.\n"
      ]
    },
    {
      "cell_type": "markdown",
      "metadata": {
        "id": "OThbZ_Cm0d7K"
      },
      "source": [
        "**Q2.** How many sentences are in the entire Emma text? Print the number of sentences in the book. And how many words are in the book?"
      ]
    },
    {
      "cell_type": "code",
      "execution_count": 24,
      "metadata": {
        "id": "K5PVdqFF0eGS",
        "colab": {
          "base_uri": "https://localhost:8080/"
        },
        "outputId": "d8b7ddde-6cb8-4993-bfab-13773814e83b"
      },
      "outputs": [
        {
          "output_type": "stream",
          "name": "stdout",
          "text": [
            "Number of sentences in 'Emma' by Jane Austen: 7493\n",
            "Number of words in 'Emma' by Jane Austen: 191785\n"
          ]
        }
      ],
      "source": [
        "# Import the necessary library\n",
        "from nltk.corpus import gutenberg\n",
        "from nltk.tokenize import sent_tokenize, word_tokenize\n",
        "\n",
        "# Load the text of \"Emma\"\n",
        "emma_text = gutenberg.raw('austen-emma.txt')  # Raw text from the book\n",
        "\n",
        "# Tokenize the text into sentences\n",
        "emma_sents = sent_tokenize(emma_text)  # List of sentences\n",
        "\n",
        "# Tokenize the text into words\n",
        "emma_tokens = word_tokenize(emma_text)  # List of words\n",
        "\n",
        "# Calculate the number of sentences and words\n",
        "num_sentences = len(emma_sents)\n",
        "num_words = len(emma_tokens)\n",
        "\n",
        "# Print the results\n",
        "print(\"Number of sentences in 'Emma' by Jane Austen:\", num_sentences)\n",
        "print(\"Number of words in 'Emma' by Jane Austen:\", num_words)\n"
      ]
    },
    {
      "cell_type": "markdown",
      "metadata": {
        "id": "dfqdtArP1tG8"
      },
      "source": [
        "**Compare Sentences and Words in Different Texts** Now, let’s compare the number of sentences and words in Emma by Jane Austen and Moby Dick by Herman Melville. This will help you understand how tokenization works across different texts.\n"
      ]
    },
    {
      "cell_type": "code",
      "execution_count": 25,
      "metadata": {
        "colab": {
          "base_uri": "https://localhost:8080/"
        },
        "id": "SVE2W5zo2JWV",
        "outputId": "13306307-5593-4ee1-a4a2-01dd50518d1a"
      },
      "outputs": [
        {
          "output_type": "stream",
          "name": "stdout",
          "text": [
            "\n",
            "Total number of sentences in 'Moby Dick': 9852\n",
            "Total number of words in 'Moby Dick': 255028\n"
          ]
        }
      ],
      "source": [
        "#Load raw text of \"Moby Dick\" by Herman Melville\n",
        "moby_dick_text = gutenberg.raw('melville-moby_dick.txt')\n",
        "\n",
        "# Perform sentence and word tokenization on \"Moby Dick\"\n",
        "moby_sentences = sent_tokenize(moby_dick_text)\n",
        "moby_words = word_tokenize(moby_dick_text)\n",
        "\n",
        "# Print the results for comparison\n",
        "print(f\"\\nTotal number of sentences in 'Moby Dick': {len(moby_sentences)}\")\n",
        "print(f\"Total number of words in 'Moby Dick': {len(moby_words)}\")\n"
      ]
    },
    {
      "cell_type": "markdown",
      "metadata": {
        "id": "5JgF2hBe2P37"
      },
      "source": [
        "**Q3.** Compare the number of sentences and words in Emma and Moby Dick. Which book has more sentences? Which has more words?\n"
      ]
    },
    {
      "cell_type": "code",
      "execution_count": 26,
      "metadata": {
        "id": "fw74-VxR2rIX",
        "colab": {
          "base_uri": "https://localhost:8080/"
        },
        "outputId": "12647342-46cc-412d-a170-16f09c4a3499"
      },
      "outputs": [
        {
          "output_type": "stream",
          "name": "stdout",
          "text": [
            "Total number of sentences in 'Emma': 7493\n",
            "Total number of words in 'Emma': 191785\n",
            "\n",
            "Total number of sentences in 'Moby Dick': 9852\n",
            "Total number of words in 'Moby Dick': 255028\n",
            "\n",
            "'Moby Dick' has more sentences than 'Emma'.\n",
            "'Moby Dick' has more words than 'Emma'.\n"
          ]
        }
      ],
      "source": [
        "# Import the necessary libraries\n",
        "from nltk.corpus import gutenberg\n",
        "from nltk.tokenize import sent_tokenize, word_tokenize\n",
        "\n",
        "# Load the raw text of \"Emma\" and \"Moby Dick\"\n",
        "emma_text = gutenberg.raw('austen-emma.txt')\n",
        "moby_dick_text = gutenberg.raw('melville-moby_dick.txt')\n",
        "\n",
        "# Tokenize the texts into sentences\n",
        "emma_sentences = sent_tokenize(emma_text)\n",
        "moby_sentences = sent_tokenize(moby_dick_text)\n",
        "\n",
        "# Tokenize the texts into words\n",
        "emma_words = word_tokenize(emma_text)\n",
        "moby_words = word_tokenize(moby_dick_text)\n",
        "\n",
        "# Calculate the number of sentences and words in each book\n",
        "num_sentences_emma = len(emma_sentences)\n",
        "num_words_emma = len(emma_words)\n",
        "\n",
        "num_sentences_moby = len(moby_sentences)\n",
        "num_words_moby = len(moby_words)\n",
        "\n",
        "# Print the results for comparison\n",
        "print(f\"Total number of sentences in 'Emma': {num_sentences_emma}\")\n",
        "print(f\"Total number of words in 'Emma': {num_words_emma}\")\n",
        "\n",
        "print(f\"\\nTotal number of sentences in 'Moby Dick': {num_sentences_moby}\")\n",
        "print(f\"Total number of words in 'Moby Dick': {num_words_moby}\")\n",
        "\n",
        "# Compare the number of sentences and words\n",
        "if num_sentences_emma > num_sentences_moby:\n",
        "    print(\"\\n'Emma' has more sentences than 'Moby Dick'.\")\n",
        "else:\n",
        "    print(\"\\n'Moby Dick' has more sentences than 'Emma'.\")\n",
        "\n",
        "if num_words_emma > num_words_moby:\n",
        "    print(\"'Emma' has more words than 'Moby Dick'.\")\n",
        "else:\n",
        "    print(\"'Moby Dick' has more words than 'Emma'.\")\n"
      ]
    },
    {
      "cell_type": "markdown",
      "metadata": {
        "id": "bxUk-_nb2rVF"
      },
      "source": [
        "**Analyze a Specific Section of a Text:** Let’s zoom in on a specific part of the text and tokenize it. This can give students an idea of how tokenization works for smaller sections. You’ll take a sample of text (first 1000 characters) and tokenize it into sentences and words."
      ]
    },
    {
      "cell_type": "code",
      "execution_count": 27,
      "metadata": {
        "colab": {
          "base_uri": "https://localhost:8080/"
        },
        "id": "84Z2xLAN2VKu",
        "outputId": "a7b083ea-df0e-467b-a27c-cbdfb1016f29"
      },
      "outputs": [
        {
          "output_type": "stream",
          "name": "stdout",
          "text": [
            "\n",
            "Sample text (first 500 characters):\n",
            "[Emma by Jane Austen 1816]\n",
            "\n",
            "VOLUME I\n",
            "\n",
            "CHAPTER I\n",
            "\n",
            "\n",
            "Emma Woodhouse, handsome, clever, and rich, with a comfortable home\n",
            "and happy disposition, seemed to unite some of the best blessings\n",
            "of existence; and had lived nearly twenty-one years in the world\n",
            "with very little to distress or vex her.\n",
            "\n",
            "She was the youngest of the two daughters of a most affectionate,\n",
            "indulgent father; and had, in consequence of her sister's marriage,\n",
            "been mistress of his house from a very early period.  Her mother\n",
            "had died too long ago for her to have more than an indistinct\n",
            "remembrance of her caresses; and her place had been supplied\n",
            "by an excellent woman as governess, who had fallen little short\n",
            "of a mother in affection.\n",
            "\n",
            "Sixteen years had Miss Taylor been in Mr. Woodhouse's family,\n",
            "less as a governess than a friend, very fond of both daughters,\n",
            "but particularly of Emma.  Between _them_ it was more the intimacy\n",
            "of sisters.  Even before Miss Taylor had ceased to hold the nominal\n",
            "office of governess, the mildness o\n",
            "\n",
            " END of sample text\n",
            "\n",
            "Tokenized sentences in the sample:\n",
            ">>>> Sentence 1: [Emma by Jane Austen 1816]\n",
            "\n",
            "VOLUME I\n",
            "\n",
            "CHAPTER I\n",
            "\n",
            "\n",
            "Emma Woodhouse, handsome, clever, and rich, with a comfortable home\n",
            "and happy disposition, seemed to unite some of the best blessings\n",
            "of existence; and had lived nearly twenty-one years in the world\n",
            "with very little to distress or vex her.\n",
            ">>>> Sentence 2: She was the youngest of the two daughters of a most affectionate,\n",
            "indulgent father; and had, in consequence of her sister's marriage,\n",
            "been mistress of his house from a very early period.\n",
            ">>>> Sentence 3: Her mother\n",
            "had died too long ago for her to have more than an indistinct\n",
            "remembrance of her caresses; and her place had been supplied\n",
            "by an excellent woman as governess, who had fallen little short\n",
            "of a mother in affection.\n",
            ">>>> Sentence 4: Sixteen years had Miss Taylor been in Mr. Woodhouse's family,\n",
            "less as a governess than a friend, very fond of both daughters,\n",
            "but particularly of Emma.\n",
            ">>>> Sentence 5: Between _them_ it was more the intimacy\n",
            "of sisters.\n",
            ">>>> Sentence 6: Even before Miss Taylor had ceased to hold the nominal\n",
            "office of governess, the mildness o\n",
            "\n",
            "Tokenized words in the sample:\n",
            "['[', 'Emma', 'by', 'Jane', 'Austen', '1816', ']', 'VOLUME', 'I', 'CHAPTER', 'I', 'Emma', 'Woodhouse', ',', 'handsome', ',', 'clever', ',', 'and', 'rich', ',', 'with', 'a', 'comfortable', 'home', 'and', 'happy', 'disposition', ',', 'seemed', 'to', 'unite', 'some', 'of', 'the', 'best', 'blessings', 'of', 'existence', ';', 'and', 'had', 'lived', 'nearly', 'twenty-one', 'years', 'in', 'the', 'world', 'with', 'very', 'little', 'to', 'distress', 'or', 'vex', 'her', '.', 'She', 'was', 'the', 'youngest', 'of', 'the', 'two', 'daughters', 'of', 'a', 'most', 'affectionate', ',', 'indulgent', 'father', ';', 'and', 'had', ',', 'in', 'consequence', 'of', 'her', 'sister', \"'s\", 'marriage', ',', 'been', 'mistress', 'of', 'his', 'house', 'from', 'a', 'very', 'early', 'period', '.', 'Her', 'mother', 'had', 'died', 'too', 'long', 'ago', 'for', 'her', 'to', 'have', 'more', 'than', 'an', 'indistinct', 'remembrance', 'of', 'her', 'caresses', ';', 'and', 'her', 'place', 'had', 'been', 'supplied', 'by', 'an', 'excellent', 'woman', 'as', 'governess', ',', 'who', 'had', 'fallen', 'little', 'short', 'of', 'a', 'mother', 'in', 'affection', '.', 'Sixteen', 'years', 'had', 'Miss', 'Taylor', 'been', 'in', 'Mr.', 'Woodhouse', \"'s\", 'family', ',', 'less', 'as', 'a', 'governess', 'than', 'a', 'friend', ',', 'very', 'fond', 'of', 'both', 'daughters', ',', 'but', 'particularly', 'of', 'Emma', '.', 'Between', '_them_', 'it', 'was', 'more', 'the', 'intimacy', 'of', 'sisters', '.', 'Even', 'before', 'Miss', 'Taylor', 'had', 'ceased', 'to', 'hold', 'the', 'nominal', 'office', 'of', 'governess', ',', 'the', 'mildness', 'o']\n"
          ]
        }
      ],
      "source": [
        "# Extract a sample of the first 500 characters from \"Emma\"\n",
        "sample_text = emma_text[:1000]\n",
        "\n",
        "# Tokenize the sample into sentences\n",
        "sample_sentences = sent_tokenize(sample_text)\n",
        "\n",
        "# Tokenize the sample into words\n",
        "sample_words = word_tokenize(sample_text)\n",
        "\n",
        "# Display the results\n",
        "print(\"\\nSample text (first 500 characters):\")\n",
        "print(sample_text)\n",
        "print(\"\\n END of sample text\")\n",
        "\n",
        "print(\"\\nTokenized sentences in the sample:\")\n",
        "for i, sentence in enumerate(sample_sentences, 1):\n",
        "    print(f\">>>> Sentence {i}: {sentence}\")\n",
        "\n",
        "print(\"\\nTokenized words in the sample:\")\n",
        "print(sample_words)\n"
      ]
    },
    {
      "cell_type": "code",
      "source": [
        "print(sample_sentences[2])\n"
      ],
      "metadata": {
        "colab": {
          "base_uri": "https://localhost:8080/"
        },
        "id": "lx6kqvV_sPV9",
        "outputId": "148d2cb6-d1e9-4c3c-d84f-b00e1f7ab55a"
      },
      "execution_count": 28,
      "outputs": [
        {
          "output_type": "stream",
          "name": "stdout",
          "text": [
            "Her mother\n",
            "had died too long ago for her to have more than an indistinct\n",
            "remembrance of her caresses; and her place had been supplied\n",
            "by an excellent woman as governess, who had fallen little short\n",
            "of a mother in affection.\n"
          ]
        }
      ]
    },
    {
      "cell_type": "markdown",
      "metadata": {
        "id": "dU21hROS2XJq"
      },
      "source": [
        "**Q4:**\n",
        "What are the first 3 sentences and first 10 words in the sample text of Emma?\n",
        "\n"
      ]
    },
    {
      "cell_type": "code",
      "execution_count": 29,
      "metadata": {
        "colab": {
          "base_uri": "https://localhost:8080/"
        },
        "id": "iJghyKxD3HdL",
        "outputId": "3c5d1bfe-63fc-455c-ed46-05fcd5931bc5"
      },
      "outputs": [
        {
          "output_type": "stream",
          "name": "stdout",
          "text": [
            "['[', 'Emma', 'by', 'Jane', 'Austen', '1816', ']', 'VOLUME', 'I', 'CHAPTER', 'I', 'Emma', 'Woodhouse', ',', 'handsome', ',', 'clever', ',', 'and', 'rich', ',', 'with', 'a', 'comfortable', 'home', 'and', 'happy', 'disposition', ',', 'seemed', 'to', 'unite', 'some', 'of', 'the', 'best', 'blessings', 'of', 'existence', ';', 'and', 'had', 'lived', 'nearly', 'twenty-one', 'years', 'in', 'the', 'world', 'with', 'very', 'little', 'to', 'distress', 'or', 'vex', 'her', '.', 'She', 'was', 'the', 'youngest', 'of', 'the', 'two', 'daughters', 'of', 'a', 'most', 'affectionate', ',', 'indulgent', 'father', ';', 'and', 'had', ',', 'in', 'consequence', 'of', 'her', 'sister', \"'s\", 'marriage', ',', 'been', 'mistress', 'of', 'his', 'house', 'from', 'a', 'very', 'early', 'period', '.', 'Her', 'mother', 'had', 'died', 'too', 'long', 'ago', 'for', 'her', 'to', 'have', 'more', 'than', 'an', 'indistinct', 'remembrance', 'of', 'her', 'caresses', ';', 'and', 'her', 'place', 'had', 'been', 'supplied', 'by', 'an', 'excellent', 'woman', 'as', 'governess', ',', 'who', 'had', 'fallen', 'little', 'short', 'of', 'a', 'mother', 'in', 'affection', '.', 'Sixteen', 'years', 'had', 'Miss', 'Taylor', 'been', 'in', 'Mr.', 'Woodhouse', \"'s\", 'family', ',', 'less', 'as', 'a', 'governess', 'than', 'a', 'friend', ',', 'very', 'fond', 'of', 'both', 'daughters', ',', 'but', 'particularly', 'of', 'Emma', '.', 'Between', '_them_', 'it', 'was', 'more', 'the', 'intimacy', 'of', 'sisters', '.', 'Even', 'before', 'Miss', 'Taylor', 'had', 'ceased', 'to', 'hold', 'the', 'nominal', 'office', 'of', 'governess', ',', 'the', 'mildness', 'o']\n",
            "First 3 sentences of 'Emma':\n",
            "1. [Emma by Jane Austen 1816]\n",
            "\n",
            "VOLUME I\n",
            "\n",
            "CHAPTER I\n",
            "\n",
            "\n",
            "Emma Woodhouse, handsome, clever, and rich, with a comfortable home\n",
            "and happy disposition, seemed to unite some of the best blessings\n",
            "of existence; and had lived nearly twenty-one years in the world\n",
            "with very little to distress or vex her.\n",
            "2. She was the youngest of the two daughters of a most affectionate,\n",
            "indulgent father; and had, in consequence of her sister's marriage,\n",
            "been mistress of his house from a very early period.\n",
            "3. Her mother\n",
            "had died too long ago for her to have more than an indistinct\n",
            "remembrance of her caresses; and her place had been supplied\n",
            "by an excellent woman as governess, who had fallen little short\n",
            "of a mother in affection.\n",
            "\n",
            "First 10 words of 'Emma':\n",
            "['[', 'Emma', 'by', 'Jane', 'Austen', '1816', ']', 'VOLUME', 'I', 'CHAPTER']\n"
          ]
        }
      ],
      "source": [
        "# your answer\n",
        "print(sample_words)\n",
        "\n",
        "\n",
        "# Import the necessary libraries\n",
        "from nltk.corpus import gutenberg\n",
        "from nltk.tokenize import sent_tokenize, word_tokenize\n",
        "\n",
        "# Load the raw text of \"Emma\"\n",
        "emma_text = gutenberg.raw('austen-emma.txt')\n",
        "\n",
        "# Tokenize the text into sentences\n",
        "emma_sentences = sent_tokenize(emma_text)\n",
        "\n",
        "# Tokenize the text into words\n",
        "emma_words = word_tokenize(emma_text)\n",
        "\n",
        "# Get the first 3 sentences and first 10 words\n",
        "first_3_sentences = emma_sentences[:3]\n",
        "first_10_words = emma_words[:10]\n",
        "\n",
        "# Print the results\n",
        "print(\"First 3 sentences of 'Emma':\")\n",
        "for i, sentence in enumerate(first_3_sentences, 1):\n",
        "    print(f\"{i}. {sentence}\")\n",
        "\n",
        "print(\"\\nFirst 10 words of 'Emma':\")\n",
        "print(first_10_words)\n"
      ]
    },
    {
      "cell_type": "markdown",
      "metadata": {
        "id": "CYNnyisB3ItA"
      },
      "source": [
        "**Calculate Average Sentence Length** As a final task, we will calculate the average number of words per sentence in Emma and compare it to Moby Dick. This is a first approach to the idea of analyzing text structure quantitatively."
      ]
    },
    {
      "cell_type": "code",
      "execution_count": 30,
      "metadata": {
        "colab": {
          "base_uri": "https://localhost:8080/"
        },
        "id": "XwVp4ajZ2Z-Z",
        "outputId": "c02f432c-60c6-41c7-cb30-d9bb9c088006"
      },
      "outputs": [
        {
          "output_type": "stream",
          "name": "stdout",
          "text": [
            "\n",
            "Average number of words per sentence in 'Emma': 25.60\n",
            "Average number of words per sentence in 'Moby Dick': 25.89\n"
          ]
        }
      ],
      "source": [
        "# Calculate the average number of words per sentence in \"Emma\"\n",
        "# you need to compute the two vaiables missing: emma_words & emma_sentence\n",
        "avg_words_per_sentence_emma = len(emma_words) / len(emma_sentences)\n",
        "\n",
        "# Calculate the average number of words per sentence in \"Moby Dick\"\n",
        "avg_words_per_sentence_moby = len(moby_words) / len(moby_sentences)\n",
        "\n",
        "# Print the results\n",
        "print(f\"\\nAverage number of words per sentence in 'Emma': {avg_words_per_sentence_emma:.2f}\")\n",
        "print(f\"Average number of words per sentence in 'Moby Dick': {avg_words_per_sentence_moby:.2f}\")\n"
      ]
    },
    {
      "cell_type": "markdown",
      "metadata": {
        "id": "eUjpTtba2ccr"
      },
      "source": [
        "**Q5.** Which book, Emma or Moby Dick, has longer sentences on average? Why do you think that is?"
      ]
    },
    {
      "cell_type": "code",
      "execution_count": 31,
      "metadata": {
        "id": "B9330HMP2i9H",
        "colab": {
          "base_uri": "https://localhost:8080/"
        },
        "outputId": "2e762faa-ab0f-4905-d3e3-5dac66b63cc5"
      },
      "outputs": [
        {
          "output_type": "stream",
          "name": "stdout",
          "text": [
            "Average sentence length in 'Emma': 25.60 words\n",
            "Average sentence length in 'Moby Dick': 25.89 words\n",
            "\n",
            "'Moby Dick' has longer sentences on average compared to 'Emma'.\n"
          ]
        }
      ],
      "source": [
        "# Import the necessary libraries\n",
        "from nltk.corpus import gutenberg\n",
        "from nltk.tokenize import sent_tokenize, word_tokenize\n",
        "\n",
        "# Load the raw text of \"Emma\" and \"Moby Dick\"\n",
        "emma_text = gutenberg.raw('austen-emma.txt')\n",
        "moby_dick_text = gutenberg.raw('melville-moby_dick.txt')\n",
        "\n",
        "# Tokenize the texts into sentences\n",
        "emma_sentences = sent_tokenize(emma_text)\n",
        "moby_sentences = sent_tokenize(moby_dick_text)\n",
        "\n",
        "# Tokenize the texts into words\n",
        "emma_words = word_tokenize(emma_text)\n",
        "moby_words = word_tokenize(moby_dick_text)\n",
        "\n",
        "# Calculate the number of sentences and words in each book\n",
        "num_sentences_emma = len(emma_sentences)\n",
        "num_words_emma = len(emma_words)\n",
        "\n",
        "num_sentences_moby = len(moby_sentences)\n",
        "num_words_moby = len(moby_words)\n",
        "\n",
        "# Calculate the average sentence length for each book\n",
        "avg_sentence_length_emma = num_words_emma / num_sentences_emma\n",
        "avg_sentence_length_moby = num_words_moby / num_sentences_moby\n",
        "\n",
        "# Print the results for comparison\n",
        "print(f\"Average sentence length in 'Emma': {avg_sentence_length_emma:.2f} words\")\n",
        "print(f\"Average sentence length in 'Moby Dick': {avg_sentence_length_moby:.2f} words\")\n",
        "\n",
        "# Compare the average sentence lengths\n",
        "if avg_sentence_length_emma > avg_sentence_length_moby:\n",
        "    print(\"\\n'Emma' has longer sentences on average compared to 'Moby Dick'.\")\n",
        "else:\n",
        "    print(\"\\n'Moby Dick' has longer sentences on average compared to 'Emma'.\")\n"
      ]
    },
    {
      "cell_type": "markdown",
      "metadata": {
        "id": "MHPfFDH4yBKU"
      },
      "source": [
        "## **Additional Analyses**\n"
      ]
    },
    {
      "cell_type": "markdown",
      "metadata": {
        "id": "I7fzUJdA4kMW"
      },
      "source": [
        "\n",
        "### **Frequency Analysis**\n",
        "Frequency analysis is a technique used to analyze the frequency of letters or symbols in a given text or dataset.\n",
        "\n",
        "Now, let's find the most frequent words in \"Emma\" by Jane Austen.\n",
        "It is easy and helpful in studying language patterns, such as, identifying the most common words or letters in a text corpus, or studying the distribution of different linguistic elements\n",
        "\n"
      ]
    },
    {
      "cell_type": "code",
      "execution_count": 32,
      "metadata": {
        "id": "BCAwjSrX3a6k",
        "colab": {
          "base_uri": "https://localhost:8080/",
          "height": 665
        },
        "outputId": "9de7e040-4e69-4902-86e9-80255b0b931d"
      },
      "outputs": [
        {
          "output_type": "display_data",
          "data": {
            "text/plain": [
              "<Figure size 640x480 with 1 Axes>"
            ],
            "image/png": "[encoded data removed]"
          },
          "metadata": {}
        },
        {
          "output_type": "execute_result",
          "data": {
            "text/plain": [
              "[(',', 12016),\n",
              " ('.', 6355),\n",
              " ('to', 5125),\n",
              " ('the', 4844),\n",
              " ('and', 4653),\n",
              " ('of', 4272),\n",
              " ('I', 3177),\n",
              " ('--', 3100),\n",
              " ('a', 3001),\n",
              " (\"''\", 2452)]"
            ]
          },
          "metadata": {},
          "execution_count": 32
        }
      ],
      "source": [
        "# Frequency distribution of words in the corpus\n",
        "fdist = FreqDist(emma_tokens)\n",
        "\n",
        "# Plot the 20 most common words\n",
        "fdist.plot(20, cumulative=False, title='Top 20 most frequent words in Emma')\n",
        "\n",
        "# View the most common words\n",
        "fdist.most_common(10)\n"
      ]
    },
    {
      "cell_type": "markdown",
      "metadata": {
        "id": "PfaOX0vz3bIJ"
      },
      "source": [
        "\n",
        "- We counted how many times each word appears in the text. It's useful for identifying common or key words.\n",
        "- Visualizing word frequencies is a good way to introduce patterns in the text.\n",
        "\n"
      ]
    },
    {
      "cell_type": "markdown",
      "metadata": {
        "id": "Dj-9T7lh36D4"
      },
      "source": [
        "### **Concordances: Exploring Words in Context**\n",
        "\n",
        "A concordance shows how a word is used in different contexts. Let's examine the word \"Emma\".\n",
        "\n"
      ]
    },
    {
      "cell_type": "code",
      "execution_count": 33,
      "metadata": {
        "id": "Q25tzys23--B",
        "colab": {
          "base_uri": "https://localhost:8080/"
        },
        "outputId": "77aa1728-81f5-488e-e908-3ac2cf7f4479"
      },
      "outputs": [
        {
          "output_type": "stream",
          "name": "stdout",
          "text": [
            "Displaying 25 of 855 matches:\n",
            "[ Emma by Jane Austen 1816 ] VOLUME I CHAPT\n",
            "ane Austen 1816 ] VOLUME I CHAPTER I Emma Woodhouse , handsome , clever , and \n",
            "both daughters , but particularly of Emma . Between _them_ it was more the int\n",
            " friend very mutually attached , and Emma doing just what she liked ; highly e\n",
            "r own . The real evils , indeed , of Emma 's situation were the power of havin\n",
            "ding-day of this beloved friend that Emma first sat in mournful thought of any\n",
            "ing only half a mile from them ; but Emma was aware that great must be the dif\n",
            "y . It was a melancholy change ; and Emma could not but sigh over it , and wis\n",
            " the rest of her life at Hartfield . Emma smiled and chatted as cheerfully as \n",
            "able to tell her how we all are . '' Emma spared no exertions to maintain this\n",
            " ' I have a great regard for you and Emma ; but when it comes to the question \n",
            "ful , troublesome creature ! '' said Emma playfully . `` That is what you have\n",
            "e few people who could see faults in Emma Woodhouse , and the only one who eve\n",
            "is was not particularly agreeable to Emma herself , she knew it would be so mu\n",
            "g thought perfect by every body . `` Emma knows I never flatter her , '' said \n",
            "t be a gainer . '' `` Well , '' said Emma , willing to let it pass -- '' you w\n",
            "re of meeting every day . '' `` Dear Emma bears every thing so well , '' said \n",
            "ss her more than she thinks for . '' Emma turned away her head , divided betwe\n",
            "nd smiles . `` It is impossible that Emma should not miss such a companion , '\n",
            "en one matter of joy to me , '' said Emma , '' and a very considerable one -- \n",
            "od to them , by interference . '' `` Emma never thinks of herself , if she can\n",
            "etter thing . Invite him to dinner , Emma , and help him to the best of the fi\n",
            " could not think , without pain , of Emma 's losing a single pleasure , or suf\n",
            " of her companionableness : but dear Emma was of no feeble character ; she was\n",
            ", was so just and so apparent , that Emma , well as she knew her father , was \n"
          ]
        }
      ],
      "source": [
        "# We first need to convert the text into a corpus format to run concordance.\n",
        "emma_corpus = nltk.Text(emma_tokens)\n",
        "\n",
        "# Display concordance for the word 'Emma'\n",
        "emma_corpus.concordance(\"Emma\")"
      ]
    },
    {
      "cell_type": "markdown",
      "metadata": {
        "id": "W3pb7Bsd4w_c"
      },
      "source": [
        "- **Concordance**: lists all occurrences of a specific word, showing it in context. This helps understand how a word is used across different instances in the text."
      ]
    },
    {
      "cell_type": "markdown",
      "metadata": {
        "id": "BjPaiWlD39M5"
      },
      "source": [
        "\n",
        "### **Collocations: Finding Commonly Co-occurring Words**\n",
        "\n",
        "Collocations are words that frequently appear together. Let’s find common collocations in the text.\n",
        "\n"
      ]
    },
    {
      "cell_type": "code",
      "execution_count": 34,
      "metadata": {
        "id": "1fJtKqmt48J8",
        "colab": {
          "base_uri": "https://localhost:8080/"
        },
        "outputId": "e87e77e8-b90f-41b9-9410-43a9766f96e9"
      },
      "outputs": [
        {
          "output_type": "stream",
          "name": "stderr",
          "text": [
            "[nltk_data] Downloading package stopwords to /root/nltk_data...\n",
            "[nltk_data]   Unzipping corpora/stopwords.zip.\n"
          ]
        },
        {
          "output_type": "stream",
          "name": "stdout",
          "text": [
            "Emma collocations:\n",
            "Mr. Knightley; Mrs. Weston; Frank Churchill; Mr. Elton; Miss\n",
            "Woodhouse; Miss Bates; Mrs. Elton; Miss Fairfax; Mr. Weston; Jane\n",
            "Fairfax; every thing; Mr. Woodhouse; every body; young man; great\n",
            "deal; dare say; Maple Grove; Mrs. Goddard; John Knightley; Miss Smith\n"
          ]
        }
      ],
      "source": [
        "# Find collocations in the text, we'll need a nltk model\n",
        "nltk.download('stopwords')\n",
        "print('Emma collocations:')\n",
        "emma_corpus.collocations()"
      ]
    },
    {
      "cell_type": "markdown",
      "metadata": {
        "id": "OWzKddyI48yK"
      },
      "source": [
        "\n",
        "- **Collocation**: Words that frequently appear together (e.g., \"strong tea\"). This is important in identifying idiomatic expressions and common phrases.\n",
        "\n",
        "---\n",
        "\n",
        "\n"
      ]
    },
    {
      "cell_type": "markdown",
      "metadata": {
        "id": "c_wJNn72495U"
      },
      "source": [
        "## **Sentence Tokenization and Length Analysis**\n",
        "\n",
        "Let’s explore sentence structure and analyze sentence lengths. This shows with a short examples how corpus linguistics can extend beyond word-level analysis to sentence structure, which can be used to compare writing styles or complexity."
      ]
    },
    {
      "cell_type": "code",
      "source": [
        "# Tokenize the text into sentences\n",
        "emma_sentences = nltk.sent_tokenize(emma_text)\n",
        "\n",
        "# Display the first 5 sentences\n",
        "emma_sentences[:5]\n",
        "\n",
        "# Analyze sentence lengths\n",
        "sentence_lengths = [len(nltk.word_tokenize(sentence)) for sentence in emma_sentences]\n",
        "\n",
        "# Plot the distribution of sentence lengths\n",
        "plt.hist(sentence_lengths, bins=20, edgecolor='black')\n",
        "plt.title('Distribution of Sentence Lengths in \"Emma\"')\n",
        "plt.xlabel('Sentence Length (in words)')\n",
        "plt.ylabel('Frequency')\n",
        "plt.show()"
      ],
      "metadata": {
        "colab": {
          "base_uri": "https://localhost:8080/",
          "height": 472
        },
        "id": "WJYNOD7DuDmO",
        "outputId": "023bd6c2-4e6e-4b98-a1e9-cdbb56210794"
      },
      "execution_count": 35,
      "outputs": [
        {
          "output_type": "display_data",
          "data": {
            "text/plain": [
              "<Figure size 640x480 with 1 Axes>"
            ],
            "image/png": "[encoded data removed]"
          },
          "metadata": {}
        }
      ]
    },
    {
      "cell_type": "markdown",
      "source": [
        "**Q:** What can you infer about Emma, after seeing the previous plot:"
      ],
      "metadata": {
        "id": "yrumohx3v8ie"
      }
    },
    {
      "cell_type": "code",
      "source": [
        "# Inference about \"Emma\" based on the previous analysis:\n",
        "\n",
        "# After analyzing the previous plots, we can make several inferences about \"Emma\" by Jane Austen:\n",
        "\n",
        "# 1. Sentence Length and Complexity:\n",
        "# The average sentence length in \"Emma\" is relatively high, which suggests that Jane Austen employs\n",
        "# complex sentence structures in her writing. This complexity could be attributed to detailed descriptions,\n",
        "# character development, and sophisticated narrative style. Austen's use of lengthy sentences is also\n",
        "# typical of literature from the 19th century, reflecting both the time period and genre conventions.\n",
        "\n",
        "# 2. Writing Style:\n",
        "# Compared to \"Moby Dick\" by Herman Melville, the slightly shorter average sentence length in \"Emma\"\n",
        "# suggests a balance between descriptive prose and dialogue. As \"Emma\" contains significant portions\n",
        "# of character dialogue, the shorter average sentence length may reflect the concise language used\n",
        "# in conversations between characters.\n",
        "\n",
        "# 3. Narrative Structure:\n",
        "# The detailed narrative and frequent character interactions in \"Emma\" are likely the reason for\n",
        "# the high number of words, despite the number of sentences being less than \"Moby Dick.\"\n",
        "# This indicates a rich and descriptive storytelling approach that includes elaborate character\n",
        "# details and social dynamics typical of Jane Austen's work.\n",
        "\n",
        "# 4. Balance Between Description and Dialogue:\n",
        "# The results suggest that while \"Emma\" contains descriptive passages, the narrative also incorporates\n",
        "# dialogue that maintains a lively pace. The number of sentences suggests a balance between descriptive\n",
        "# content and character interactions, making the novel engaging while also allowing for detailed depictions\n",
        "# of the social environment.\n",
        "\n",
        "# 5. Character Development Focus:\n",
        "# The sentence structure and average length of sentences in \"Emma\" imply that Jane Austen focuses\n",
        "# heavily on character development and their relationships. This is evident in the use of descriptive\n",
        "# language and detailed portrayal of characters' thoughts, behaviors, and interactions.\n",
        "\n",
        "# Summary:\n",
        "# Overall, \"Emma\" by Jane Austen is characterized by complex sentences, a blend of descriptive prose\n",
        "# and dialogue, and a strong focus on character development. Compared to \"Moby Dick,\" it may use\n",
        "# slightly shorter sentences due to the conversational aspects of the text, but the overall word count\n",
        "# is still significant, suggesting depth in narrative and descriptive content.\n"
      ],
      "metadata": {
        "id": "-88O6nCQwDYf"
      },
      "execution_count": 36,
      "outputs": []
    },
    {
      "cell_type": "markdown",
      "metadata": {
        "id": "mbL30q7JtADT"
      },
      "source": [
        "### **Building Your Own Corpus**\n",
        "\n",
        "In this part, you will can create a small corpus as a toy example and analyze it.\n",
        "\n",
        "***Q1.** Replace the text of the variable `custom_text` with your own text (you can copy it form somewhere else). You can make it as long as you want, and if you need, you can upload it by reading a `.txt` file. For the purpose of this exercise, 2-4 paragraphs will suffice, but things get more interesining if you chose more complex texts."
      ]
    },
    {
      "cell_type": "code",
      "execution_count": 38,
      "metadata": {
        "id": "N5okcPXmtAtG",
        "colab": {
          "base_uri": "https://localhost:8080/"
        },
        "outputId": "8151d4b6-b4a1-4ea5-9b54-a9136079a589"
      },
      "outputs": [
        {
          "output_type": "stream",
          "name": "stdout",
          "text": [
            "Custom Corpus Analysis:\n",
            "Number of sentences: 6\n",
            "Number of words: 218\n",
            "\n",
            "First 3 sentences of custom text:\n",
            "1. \n",
            "—This paper presents a new feature extraction algorithm called Power Normalized Cepstral Coefficients (PNCC)\n",
            "that is motivated by auditory processing.\n",
            "2. Major new features of\n",
            "PNCC processing include the use of a power-law nonlinearity\n",
            "that replaces the traditional log nonlinearity used in MFCC\n",
            "coefficients, a noise-suppression algorithm based on asymmetric\n",
            "filtering that suppress background excitation, and a module that\n",
            "accomplishes temporal masking.\n",
            "3. We also propose the use of\n",
            "medium-time power analysis, in which environmental parameters are estimated over a longer duration than is commonly\n",
            "used for speech, as well as frequency smoothing.\n",
            "\n",
            "First 10 words of custom text:\n",
            "['—This', 'paper', 'presents', 'a', 'new', 'feature', 'extraction', 'algorithm', 'called', 'Power']\n"
          ]
        }
      ],
      "source": [
        "# \"You can create the corpus from raw text\n",
        "custom_text = \"\"\"\n",
        "Corpus linguistics is a methodology of studying language using large bodies of real-world text, known as corpora.\n",
        "This field has grown significantly due to advances in computational tools and digital resources.\n",
        "It allows researchers to observe language patterns, frequency of words, and more.\n",
        "\"\"\"\n",
        "\n",
        "# Import necessary libraries\n",
        "from nltk.tokenize import sent_tokenize, word_tokenize\n",
        "\n",
        "# Replace the text of the variable 'custom_text' with your own text.\n",
        "custom_text = \"\"\"\n",
        "—This paper presents a new feature extraction algorithm called Power Normalized Cepstral Coefficients (PNCC)\n",
        "that is motivated by auditory processing. Major new features of\n",
        "PNCC processing include the use of a power-law nonlinearity\n",
        "that replaces the traditional log nonlinearity used in MFCC\n",
        "coefficients, a noise-suppression algorithm based on asymmetric\n",
        "filtering that suppress background excitation, and a module that\n",
        "accomplishes temporal masking. We also propose the use of\n",
        "medium-time power analysis, in which environmental parameters are estimated over a longer duration than is commonly\n",
        "used for speech, as well as frequency smoothing. Experimental\n",
        "results demonstrate that PNCC processing provides substantial\n",
        "improvements in recognition accuracy compared to MFCC and\n",
        "PLP processing for speech in the presence of various types of\n",
        "additive noise and in reverberant environments, with only slightly\n",
        "greater computational cost than conventional MFCC processing,\n",
        "and without degrading the recognition accuracy that is observed\n",
        "while training and testing using clean speech. PNCC processing\n",
        "also provides better recognition accuracy in noisy environments\n",
        "than techniques such as Vector Taylor Series (VTS) and the\n",
        "ETSI Advanced Front End (AFE) while requiring much less\n",
        "computation. We describe an implementation of PNCC using\n",
        "“online processing” that does not require future knowledge of\n",
        "the input.\n",
        "\"\"\"\n",
        "\n",
        "# Tokenize the custom text into sentences and words\n",
        "custom_sentences = sent_tokenize(custom_text)\n",
        "custom_words = word_tokenize(custom_text)\n",
        "\n",
        "# Calculate the number of sentences and words in the custom text\n",
        "num_sentences_custom = len(custom_sentences)\n",
        "num_words_custom = len(custom_words)\n",
        "\n",
        "# Print the results\n",
        "print(\"Custom Corpus Analysis:\")\n",
        "print(f\"Number of sentences: {num_sentences_custom}\")\n",
        "print(f\"Number of words: {num_words_custom}\")\n",
        "\n",
        "# Print the first 3 sentences and first 10 words for analysis\n",
        "print(\"\\nFirst 3 sentences of custom text:\")\n",
        "for i, sentence in enumerate(custom_sentences[:3], 1):\n",
        "    print(f\"{i}. {sentence}\")\n",
        "\n",
        "print(\"\\nFirst 10 words of custom text:\")\n",
        "print(custom_words[:10])\n"
      ]
    },
    {
      "cell_type": "markdown",
      "metadata": {
        "id": "STPvj449tJTy"
      },
      "source": [
        "**Q2.** Tokenize the custom text & display the frequency distribution of this custom toy \"corpus\""
      ]
    },
    {
      "cell_type": "code",
      "execution_count": 39,
      "metadata": {
        "colab": {
          "base_uri": "https://localhost:8080/",
          "height": 550
        },
        "id": "VHDCNr3kt7y6",
        "outputId": "87051d04-63ff-42ed-d132-740e86860894"
      },
      "outputs": [
        {
          "output_type": "display_data",
          "data": {
            "text/plain": [
              "<Figure size 640x480 with 1 Axes>"
            ],
            "image/png": "[encoded data removed]"
          },
          "metadata": {}
        },
        {
          "output_type": "execute_result",
          "data": {
            "text/plain": [
              "<Axes: title={'center': 'Word Frequency in Custom Text'}, xlabel='Samples', ylabel='Counts'>"
            ]
          },
          "metadata": {},
          "execution_count": 39
        }
      ],
      "source": [
        "# your code here\n",
        "# Tokenize the custom text\n",
        "custom_tokens = nltk.word_tokenize(custom_text)\n",
        "\n",
        "# Display frequency distribution of your custom corpus\n",
        "custom_fdist = FreqDist(custom_tokens)\n",
        "custom_fdist.plot(10, title=\"Word Frequency in Custom Text\")"
      ]
    },
    {
      "cell_type": "markdown",
      "metadata": {
        "id": "TSPmq82Is6kx"
      },
      "source": [
        "---\n",
        "\n",
        "## **Analyzing Inaugural Speeches**\n",
        "\n",
        "For further exploration, you can compare two inaugural speeches from the `nltk` inaugural corpus, such as those by Abraham Lincoln and Barack Obama, to identify differences in language use over time."
      ]
    },
    {
      "cell_type": "code",
      "execution_count": 42,
      "metadata": {
        "id": "zqDoHufniW51",
        "colab": {
          "base_uri": "https://localhost:8080/",
          "height": 161
        },
        "outputId": "59f3273f-d9b6-42f2-b030-ff891e3cc7f0"
      },
      "outputs": [
        {
          "output_type": "stream",
          "name": "stderr",
          "text": [
            "[nltk_data] Downloading package inaugural to /root/nltk_data...\n",
            "[nltk_data]   Package inaugural is already up-to-date!\n"
          ]
        },
        {
          "output_type": "execute_result",
          "data": {
            "text/plain": [
              "'Fellow-Citizens of the United States: In compliance with a custom as old as the Government itself, I appear before you to address you briefly and to take in your presence the oath prescribed by the Constitution of the United States to be taken by the President \"before he enters on the execution of this office.\"\\n\\nI do not consider it necessary at present for me to discuss those matters of administration about which there is no special anxiety or excitement.\\n\\nApprehension seems to exist among the people of the Southern States that by the accession of a Republican Administration their property and their peace and personal security are to be endangered. There has never been any reasonable cause for such apprehension. Indeed, the most ample evidence to the contrary has all the while existed and been open to their inspection. It is found in nearly all the published speeches of him who now addresses you. I do but quote from one of those speeches when I declare that -- \\n\\nI have no purpose, directly or indirectly, to interfere with the institution of slavery in the States where it exists. I believe I have no lawful right to do so, and I have no inclination to do so.\\n\\nThose who nominated and elected me did so with full knowledge that I had made this and many similar declarations and had never recanted them; and more than this, they placed in the platform for my acceptance, and as a law to themselves and to me, the clear and emphatic resolution which I now read:\\n\\nResolved, That the maintenance inviolate of the rights of the States, and especially the right of each State to order and control its own domestic institutions according to its own judgment exclusively, is essential to that balance of power on which the perfection and endurance of our political fabric depend; and we denounce the lawless invasion by armed force of the soil of any State or Territory, no matter what pretext, as among the gravest of crimes.\\n\\nI now reiterate these sentiments, and in doing so I only press upon the public attention the most conclusive evidence of which the case is susceptible that the property, peace, and security of no section are to be in any wise endangered by the now incoming Administration. I add, too, that all the protection which, consistently with the Constitution and the laws, can be given will be cheerfully given to all the States when lawfully demanded, for whatever cause -- as cheerfully to one section as to another.\\n\\nThere is much controversy about the delivering up of fugitives from service or labor. The clause I now read is as plainly written in the Constitution as any other of its provisions:\\n\\nNo person held to service or labor in one State, under the laws thereof, escaping into another, shall in consequence of any law or regulation therein be discharged from such service or labor, but shall be delivered up on claim of the party to whom such service or labor may be due.\\n\\nIt is scarcely questioned that this provision was intended by those who made it for the reclaiming of what we call fugitive slaves; and the intention of the lawgiver is the law. All members of Congress swear their support to the whole Constitution -- to this provision as much as to any other. To the proposition, then, that slaves whose cases come within the terms of this clause \"shall be delivered up\" their oaths are unanimous. Now, if they would make the effort in good temper, could they not with nearly equal unanimity frame and pass a law by means of which to keep good that unanimous oath?\\n\\nThere is some difference of opinion whether this clause should be enforced by national or by State authority, but surely that difference is not a very material one. If the slave is to be surrendered, it can be of but little consequence to him or to others by which authority it is done. And should anyone in any case be content that his oath shall go unkept on a merely unsubstantial controversy as to how it shall be kept?\\n\\nAgain: In any law upon this subject ought not all the safeguards of liberty known in civilized and humane jurisprudence to be introduced, so that a free man be not in any case surrendered as a slave? And might it not be well at the same time to provide by law for the enforcement of that clause in the Constitution which guarantees that \"the citizens of each State shall be entitled to all privileges and immunities of citizens in the several States\"?\\n\\nI take the official oath to-day with no mental reservations and with no purpose to construe the Constitution or laws by any hypercritical rules; and while I do not choose now to specify particular acts of Congress as proper to be enforced, I do suggest that it will be much safer for all, both in official and private stations, to conform to and abide by all those acts which stand unrepealed than to violate any of them trusting to find impunity in having them held to be unconstitutional.\\n\\nIt is seventy-two years since the first inauguration of a President under our National Constitution. During that period fifteen different and greatly distinguished citizens have in succession administered the executive branch of the Government. They have conducted it through many perils, and generally with great success. Yet, with all this scope of precedent, I now enter upon the same task for the brief constitutional term of four years under great and peculiar difficulty. A disruption of the Federal Union, heretofore only menaced, is now formidably attempted.\\n\\nI hold that in contemplation of universal law and of the Constitution the Union of these States is perpetual. Perpetuity is implied, if not expressed, in the fundamental law of all national governments. It is safe to assert that no government proper ever had a provision in its organic law for its own termination. Continue to execute all the express provisions of our National Constitution, and the Union will endure forever, it being impossible to destroy it except by some action not provided for in the instrument itself.\\n\\nAgain: If the United States be not a government proper, but an association of States in the nature of contract merely, can it, as a contract, be peaceably unmade by less than all the parties who made it? One party to a contract may violate it -- break it, so to speak -- but does it not require all to lawfully rescind it?\\n\\nDescending from these general principles, we find the proposition that in legal contemplation the Union is perpetual confirmed by the history of the Union itself. The Union is much older than the Constitution. It was formed, in fact, by the Articles of Association in 1774. It was matured and continued by the Declaration of Independence in 1776. It was further matured, and the faith of all the then thirteen States expressly plighted and engaged that it should be perpetual, by the Articles of Confederation in 1778. And finally, in 1787, one of the declared objects for ordaining and establishing the Constitution was \"to form a more perfect Union.\"\\n\\nBut if destruction of the Union by one or by a part only of the States be lawfully possible, the Union is less perfect than before the Constitution, having lost the vital element of perpetuity.\\n\\nIt follows from these views that no State upon its own mere motion can lawfully get out of the Union; that resolves and ordinances to that effect are legally void, and that acts of violence within any State or States against the authority of the United States are insurrectionary or revolutionary, according to circumstances.\\n\\nI therefore consider that in view of the Constitution and the laws the Union is unbroken, and to the extent of my ability, I shall take care, as the Constitution itself expressly enjoins upon me, that the laws of the Union be faithfully executed in all the States. Doing this I deem to be only a simple duty on my part, and I shall perform it so far as practicable unless my rightful masters, the American people, shall withhold the requisite means or in some authoritative manner direct the contrary. I trust this will not be regarded as a menace, but only as the declared purpose of the Union that it will constitutionally defend and maintain itself.\\n\\nIn doing this there needs to be no bloodshed or violence, and there shall be none unless it be forced upon the national authority. The power confided to me will be used to hold, occupy, and possess the property and places belonging to the Government and to collect the duties and imposts; but beyond what may be necessary for these objects, there will be no invasion, no using of force against or among the people anywhere. Where hostility to the United States in any interior locality shall be so great and universal as to prevent competent resident citizens from holding the Federal offices, there will be no attempt to force obnoxious strangers among the people for that object. While the strict legal right may exist in the Government to enforce the exercise of these offices, the attempt to do so would be so irritating and so nearly impracticable withal that I deem it better to forego for the time the uses of such offices.\\n\\nThe mails, unless repelled, will continue to be furnished in all parts of the Union. So far as possible the people everywhere shall have that sense of perfect security which is most favorable to calm thought and reflection. The course here indicated will be followed unless current events and experience shall show a modification or change to be proper, and in every case and exigency my best discretion will be exercised, according to circumstances actually existing and with a view and a hope of a peaceful solution of the national troubles and the restoration of fraternal sympathies and affections.\\n\\nThat there are persons in one section or another who seek to destroy the Union at all events and are glad of any pretext to do it I will neither affirm nor deny; but if there be such, I need address no word to them. To those, however, who really love the Union may I not speak?\\n\\nBefore entering upon so grave a matter as the destruction of our national fabric, with all its benefits, its memories, and its hopes, would it not be wise to ascertain precisely why we do it? Will you hazard so desperate a step while there is any possibility that any portion of the ills you fly from have no real existence? Will you, while the certain ills you fly to are greater than all the real ones you fly from, will you risk the commission of so fearful a mistake?\\n\\nAll profess to be content in the Union if all constitutional rights can be maintained. Is it true, then, that any right plainly written in the Constitution has been denied? I think not. Happily, the human mind is so constituted that no party can reach to the audacity of doing this. Think, if you can, of a single instance in which a plainly written provision of the Constitution has ever been denied. If by the mere force of numbers a majority should deprive a minority of any clearly written constitutional right, it might in a moral point of view justify revolution; certainly would if such right were a vital one. But such is not our case. All the vital rights of minorities and of individuals are so plainly assured to them by affirmations and negations, guaranties and prohibitions, in the Constitution that controversies never arise concerning them. But no organic law can ever be framed with a provision specifically applicable to every question which may occur in practical administration. No foresight can anticipate nor any document of reasonable length contain express provisions for all possible questions. Shall fugitives from labor be surrendered by national or by State authority? The Constitution does not expressly say. May Congress prohibit slavery in the Territories? The Constitution does not expressly say. Must Congress protect slavery in the Territories? The Constitution does not expressly say.\\n\\nFrom questions of this class spring all our constitutional controversies, and we divide upon them into majorities and minorities. If the minority will not acquiesce, the majority must, or the Government must cease. There is no other alternative, for continuing the Government is acquiescence on one side or the other. If a minority in such case will secede rather than acquiesce, they make a precedent which in turn will divide and ruin them, for a minority of their own will secede from them whenever a majority refuses to be controlled by such minority. For instance, why may not any portion of a new confederacy a year or two hence arbitrarily secede again, precisely as portions of the present Union now claim to secede from it? All who cherish disunion sentiments are now being educated to the exact temper of doing this.\\n\\nIs there such perfect identity of interests among the States to compose a new union as to produce harmony only and prevent renewed secession?\\n\\nPlainly the central idea of secession is the essence of anarchy. A majority held in restraint by constitutional checks and limitations, and always changing easily with deliberate changes of popular opinions and sentiments, is the only true sovereign of a free people. Whoever rejects it does of necessity fly to anarchy or to despotism. Unanimity is impossible. The rule of a minority, as a permanent arrangement, is wholly inadmissible; so that, rejecting the majority principle, anarchy or despotism in some form is all that is left.\\n\\nI do not forget the position assumed by some that constitutional questions are to be decided by the Supreme Court, nor do I deny that such decisions must be binding in any case upon the parties to a suit as to the object of that suit, while they are also entitled to very high respect and consideration in all parallel cases by all other departments of the Government. And while it is obviously possible that such decision may be erroneous in any given case, still the evil effect following it, being limited to that particular case, with the chance that it may be overruled and never become a precedent for other cases, can better be borne than could the evils of a different practice. At the same time, the candid citizen must confess that if the policy of the Government upon vital questions affecting the whole people is to be irrevocably fixed by decisions of the Supreme Court, the instant they are made in ordinary litigation between parties in personal actions the people will have ceased to be their own rulers, having to that extent practically resigned their Government into the hands of that eminent tribunal. Nor is there in this view any assault upon the court or the judges. It is a duty from which they may not shrink to decide cases properly brought before them, and it is no fault of theirs if others seek to turn their decisions to political purposes.\\n\\nOne section of our country believes slavery is right and ought to be extended, while the other believes it is wrong and ought not to be extended. This is the only substantial dispute. The fugitive-slave clause of the Constitution and the law for the suppression of the foreign slave trade are each as well enforced, perhaps, as any law can ever be in a community where the moral sense of the people imperfectly supports the law itself. The great body of the people abide by the dry legal obligation in both cases, and a few break over in each. This, I think, can not be perfectly cured, and it would be worse in both cases after the separation of the sections than before. The foreign slave trade, now imperfectly suppressed, would be ultimately revived without restriction in one section, while fugitive slaves, now only partially surrendered, would not be surrendered at all by the other.\\n\\nPhysically speaking, we can not separate. We can not remove our respective sections from each other nor build an impassable wall between them. A husband and wife may be divorced and go out of the presence and beyond the reach of each other, but the different parts of our country can not do this. They can not but remain face to face, and intercourse, either amicable or hostile, must continue between them. Is it possible, then, to make that intercourse more advantageous or more satisfactory after separation than before? Can aliens make treaties easier than friends can make laws? Can treaties be more faithfully enforced between aliens than laws can among friends? Suppose you go to war, you can not fight always; and when, after much loss on both sides and no gain on either, you cease fighting, the identical old questions, as to terms of intercourse, are again upon you.\\n\\nThis country, with its institutions, belongs to the people who inhabit it. Whenever they shall grow weary of the existing Government, they can exercise their constitutional right of amending it or their revolutionary right to dismember or overthrow it. I can not be ignorant of the fact that many worthy and patriotic citizens are desirous of having the National Constitution amended. While I make no recommendation of amendments, I fully recognize the rightful authority of the people over the whole subject, to be exercised in either of the modes prescribed in the instrument itself; and I should, under existing circumstances, favor rather than oppose a fair opportunity being afforded the people to act upon it. I will venture to add that to me the convention mode seems preferable, in that it allows amendments to originate with the people themselves, instead of only permitting them to take or reject propositions originated by others, not especially chosen for the purpose, and which might not be precisely such as they would wish to either accept or refuse. I understand a proposed amendment to the Constitution -- which amendment, however, I have not seen--has passed Congress, to the effect that the Federal Government shall never interfere with the domestic institutions of the States, including that of persons held to service. To avoid misconstruction of what I have said, I depart from my purpose not to speak of particular amendments so far as to say that, holding such a provision to now be implied constitutional law, I have no objection to its being made express and irrevocable.\\n\\nThe Chief Magistrate derives all his authority from the people, and they have referred none upon him to fix terms for the separation of the States. The people themselves can do this if also they choose, but the Executive as such has nothing to do with it. His duty is to administer the present Government as it came to his hands and to transmit it unimpaired by him to his successor.\\n\\nWhy should there not be a patient confidence in the ultimate justice of the people? Is there any better or equal hope in the world? In our present differences, is either party without faith of being in the right? If the Almighty Ruler of Nations, with His eternal truth and justice, be on your side of the North, or on yours of the South, that truth and that justice will surely prevail by the judgment of this great tribunal of the American people.\\n\\nBy the frame of the Government under which we live this same people have wisely given their public servants but little power for mischief, and have with equal wisdom provided for the return of that little to their own hands at very short intervals. While the people retain their virtue and vigilance no Administration by any extreme of wickedness or folly can very seriously injure the Government in the short space of four years.\\n\\nMy countrymen, one and all, think calmly and well upon this whole subject. Nothing valuable can be lost by taking time. If there be an object to hurry any of you in hot haste to a step which you would never take deliberately, that object will be frustrated by taking time; but no good object can be frustrated by it. Such of you as are now dissatisfied still have the old Constitution unimpaired, and, on the sensitive point, the laws of your own framing under it; while the new Administration will have no immediate power, if it would, to change either. If it were admitted that you who are dissatisfied hold the right side in the dispute, there still is no single good reason for precipitate action. Intelligence, patriotism, Christianity, and a firm reliance on Him who has never yet forsaken this favored land are still competent to adjust in the best way all our present difficulty.\\n\\nIn your hands, my dissatisfied fellow-countrymen, and not in mine, is the momentous issue of civil war. The Government will not assail you. You can have no conflict without being yourselves the aggressors. You have no oath registered in heaven to destroy the Government, while I shall have the most solemn one to \"preserve, protect, and defend it.\"\\n\\nI am loath to close. We are not enemies, but friends. We must not be enemies. Though passion may have strained it must not break our bonds of affection. The mystic chords of memory, stretching from every battlefield and patriot grave to every living heart and hearthstone all over this broad land, will yet swell the chorus of the Union, when again touched, as surely they will be, by the better angels of our nature.\\n'"
            ],
            "application/vnd.google.colaboratory.intrinsic+json": {
              "type": "string"
            }
          },
          "metadata": {},
          "execution_count": 42
        }
      ],
      "source": [
        "# Load inaugural speeches\n",
        "nltk.download('inaugural')\n",
        "lincoln = inaugural.raw('1861-Lincoln.txt')\n",
        "obama = inaugural.raw('2009-Obama.txt')\n",
        "lincoln\n",
        "\n",
        "# Tokenize and analyze their frequencies or collocations."
      ]
    },
    {
      "cell_type": "code",
      "source": [
        "obama"
      ],
      "metadata": {
        "colab": {
          "base_uri": "https://localhost:8080/",
          "height": 125
        },
        "id": "n6l8SI1k2z_a",
        "outputId": "0bafeb30-0119-4e65-c37a-8e5481d0f053"
      },
      "execution_count": 43,
      "outputs": [
        {
          "output_type": "execute_result",
          "data": {
            "text/plain": [
              "'My fellow citizens:\\n\\nI stand here today humbled by the task before us, grateful for the trust you have bestowed, mindful of the sacrifices borne by our ancestors. I thank President Bush for his service to our nation, as well as the generosity and cooperation he has shown throughout this transition.\\n\\nForty-four Americans have now taken the presidential oath. The words have been spoken during rising tides of prosperity and the still waters of peace. Yet, every so often the oath is taken amidst gathering clouds and raging storms. At these moments, America has carried on not simply because of the skill or vision of those in high office, but because We the People have remained faithful to the ideals of our forbearers, and true to our founding documents.\\n\\nSo it has been. So it must be with this generation of Americans.\\n\\nThat we are in the midst of crisis is now well understood. Our nation is at war, against a far-reaching network of violence and hatred. Our economy is badly weakened, a consequence of greed and irresponsibility on the part of some, but also our collective failure to make hard choices and prepare the nation for a new age. Homes have been lost; jobs shed; businesses shuttered. Our health care is too costly; our schools fail too many; and each day brings further evidence that the ways we use energy strengthen our adversaries and threaten our planet.\\n\\nThese are the indicators of crisis, subject to data and statistics. Less measurable but no less profound is a sapping of confidence across our land -- a nagging fear that America\\'s decline is inevitable, that the next generation must lower its sights.\\n\\nToday I say to you that the challenges we face are real. They are serious and they are many. They will not be met easily or in a short span of time. But know this, America -- they will be met.\\n\\nOn this day, we gather because we have chosen hope over fear, unity of purpose over conflict and discord.\\n\\nOn this day, we come to proclaim an end to the petty grievances and false promises, the recriminations and worn-out dogmas that for far too long have strangled our politics.\\n\\nWe remain a young nation, but in the words of Scripture, the time has come to set aside childish things. The time has come to reaffirm our enduring spirit; to choose our better history; to carry forward that precious gift, that noble idea, passed on from generation to generation: the God-given promise that all are equal, all are free, and all deserve a chance to pursue their full measure of happiness.\\n\\nIn reaffirming the greatness of our nation, we understand that greatness is never a given. It must be earned. Our journey has never been one of shortcuts or settling for less. It has not been the path for the faint-hearted -- for those who prefer leisure over work, or seek only the pleasures of riches and fame. Rather, it has been the risk-takers, the doers, the makers of things\\'some celebrated but more often men and women obscure in their labor, who have carried us up the long, rugged path towards prosperity and freedom.\\n\\nFor us, they packed up their few worldly possessions and traveled across oceans in search of a new life.\\n\\nFor us, they toiled in sweatshops and settled the West; endured the lash of the whip and plowed the hard earth.\\n\\nFor us, they fought and died, in places like Concord and Gettysburg; Normandy and Khe Sahn.\\n\\nTime and again these men and women struggled and sacrificed and worked till their hands were raw so that we might live a better life. They saw America as bigger than the sum of our individual ambitions; greater than all the differences of birth or wealth or faction.\\n\\nThis is the journey we continue today. We remain the most prosperous, powerful nation on Earth. Our workers are no less productive than when this crisis began. Our minds are no less inventive, our goods and services no less needed than they were last week or last month or last year. Our capacity remains undiminished. But our time of standing pat, of protecting narrow interests and putting off unpleasant decisions -- that time has surely passed. Starting today, we must pick ourselves up, dust ourselves off, and begin again the work of remaking America.\\n\\nFor everywhere we look, there is work to be done. The state of our economy calls for action, bold and swift, and we will act -- not only to create new jobs, but to lay a new foundation for growth. We will build the roads and bridges, the electric grids and digital lines that feed our commerce and bind us together. We will restore science to its rightful place, and wield technology\\'s wonders to raise health care\\'s quality and lower its cost. We will harness the sun and the winds and the soil to fuel our cars and run our factories. And we will transform our schools and colleges and universities to meet the demands of a new age. All this we can do. All this we will do.\\n\\nNow, there are some who question the scale of our ambitions -- who suggest that our system cannot tolerate too many big plans. Their memories are short. For they have forgotten what this country has already done; what free men and women can achieve when imagination is joined to common purpose, and necessity to courage.\\n\\nWhat the cynics fail to understand is that the ground has shifted beneath them -- that the stale political arguments that have consumed us for so long no longer apply. The question we ask today is not whether our government is too big or too small, but whether it works -- whether it helps families find jobs at a decent wage, care they can afford, a retirement that is dignified. Where the answer is yes, we intend to move forward. Where the answer is no, programs will end. And those of us who manage the public\\'s dollars will be held to account -- to spend wisely, reform bad habits, and do our business in the light of day -- because only then can we restore the vital trust between a people and their government.\\n\\nNor is the question before us whether the market is a force for good or ill. Its power to generate wealth and expand freedom is unmatched, but this crisis has reminded us that without a watchful eye, the market can spin out of control -- the nation cannot prosper long when it favors only the prosperous. The success of our economy has always depended not just on the size of our Gross Domestic Product, but on the reach of our prosperity; on the ability to extend opportunity to every willing heart -- not out of charity, but because it is the surest route to our common good.\\n\\nAs for our common defense, we reject as false the choice between our safety and our ideals. Our Founding Fathers, faced with perils that we can scarcely imagine, drafted a charter to assure the rule of law and the rights of man, a charter expanded by the blood of generations. Those ideals still light the world, and we will not give them up for expedience\\'s sake. And so to all the other peoples and governments who are watching today, from the grandest capitals to the small village where my father was born: know that America is a friend of each nation and every man, woman, and child who seeks a future of peace and dignity, and we are ready to lead once more.\\n\\nRecall that earlier generations faced down fascism and communism not just with missiles and tanks, but with the sturdy alliances and enduring convictions. They understood that our power alone cannot protect us, nor does it entitle us to do as we please. Instead, they knew that our power grows through its prudent use; our security emanates from the justness of our cause, the force of our example, the tempering qualities of humility and restraint.\\n\\nWe are the keepers of this legacy. Guided by these principles once more, we can meet those new threats that demand even greater effort -- even greater cooperation and understanding between nations. We will begin to responsibly leave Iraq to its people, and forge a hard-earned peace in Afghanistan. With old friends and former foes, we will work tirelessly to lessen the nuclear threat, and roll back the specter of a warming planet. We will not apologize for our way of life, nor will we waver in its defense, and for those who seek to advance their aims by inducing terror and slaughtering innocents, we say to you now that our spirit is stronger and cannot be broken; you cannot outlast us, and we will defeat you.\\n\\nFor we know that our patchwork heritage is a strength, not a weakness. We are a nation of Christians and Muslims, Jews and Hindus -- and non-believers. We are shaped by every language and culture, drawn from every end of this Earth; and because we have tasted the bitter swill of civil war and segregation, and emerged from that dark chapter stronger and more united, we cannot help but believe that the old hatreds shall someday pass; that the lines of tribe shall soon dissolve; that as the world grows smaller, our common humanity shall reveal itself; and that America must play its role in ushering in a new era of peace.\\n\\nTo the Muslim world, we seek a new way forward, based on mutual interest and mutual respect. To those leaders around the globe who seek to sow conflict, or blame their society\\'s ills on the West -- know that your people will judge you on what you can build, not what you destroy. To those who cling to power through corruption and deceit and the silencing of dissent, know that you are on the wrong side of history; but that we will extend a hand if you are willing to unclench your fist.\\n\\nTo the people of poor nations, we pledge to work alongside you to make your farms flourish and let clean waters flow; to nourish starved bodies and feed hungry minds. And to those nations like ours that enjoy relative plenty, we say we can no longer afford indifference to the suffering outside our borders; nor can we consume the world\\'s resources without regard to effect. For the world has changed, and we must change with it.\\n\\nAs we consider the road that unfolds before us, we remember with humble gratitude those brave Americans who, at this very hour, patrol far-off deserts and distant mountains. They have something to tell us, just as the fallen heroes who lie in Arlington whisper through the ages. We honor them not only because they are the guardians of our liberty, but because they embody the spirit of service; a willingness to find meaning in something greater than themselves. And yet, at this moment -- a moment that will define a generation -- it is precisely this spirit that must inhabit us all.\\n\\nFor as much as government can do and must do, it is ultimately the faith and determination of the American people upon which this nation relies. It is the kindness to take in a stranger when the levees break, the selflessness of workers who would rather cut their hours than see a friend lose their job which sees us through our darkest hours. It is the firefighter\\'s courage to storm a stairway filled with smoke, but also a parent\\'s willingness to nurture a child, that finally decides our fate.\\n\\n Our challenges may be new. The instruments with which we meet them may be new. But those values upon which our success depends -- honesty and hard work, courage and fair play, tolerance and curiosity, loyalty and patriotism -- these things are old. These things are true. They have been the quiet force of progress throughout our history. What is demanded then is a return to these truths. What is required of us now is a new era of responsibility -- a recognition, on the part of every American, that we have duties to ourselves, our nation, and the world, duties that we do not grudgingly accept but rather seize gladly, firm in the knowledge that there is nothing so satisfying to the spirit, so defining of our character, than giving our all to a difficult task.\\n\\nThis is the price and the promise of citizenship.\\n\\nThis is the source of our confidence -- the knowledge that God calls on us to shape an uncertain destiny.\\n\\nThis is the meaning of our liberty and our creed -- why men and women and children of every race and every faith can join in celebration across this magnificent mall, and why a man whose father less than sixty years ago might not have been served at a local restaurant can now stand before you to take a most sacred oath.\\n\\nSo let us mark this day with remembrance, of who we are and how far we have traveled. In the year of America\\'s birth, in the coldest of months, a small band of patriots huddled by dying campfires on the shores of an icy river. The capital was abandoned. The enemy was advancing. The snow was stained with blood. At a moment when the outcome of our revolution was most in doubt, the father of our nation ordered these words be read to the people:\\n\\n\"Let it be told to the future world ... that in the depth of winter, when nothing but hope and virtue could survive ... that the city and the country, alarmed at one common danger, came forth to meet ... it.\"\\n\\nAmerica! In the face of our common dangers, in this winter of our hardship, let us remember these timeless words. With hope and virtue, let us brave once more the icy currents, and endure what storms may come. Let it be said by our children\\'s children that when we were tested we refused to let this journey end, that we did not turn back nor did we falter; and with eyes fixed on the horizon and God\\'s grace upon us, we carried forth that great gift of freedom and delivered it safely to future generations.\\n\\nThank you. God bless you. And God bless the United States of America.  \\n'"
            ],
            "application/vnd.google.colaboratory.intrinsic+json": {
              "type": "string"
            }
          },
          "metadata": {},
          "execution_count": 43
        }
      ]
    },
    {
      "cell_type": "markdown",
      "source": [
        "**Q** Write a short conclusion of your findings. What key differences do you perceive about the use of language in these two texts?"
      ],
      "metadata": {
        "id": "cupyqD7CwhhD"
      }
    },
    {
      "cell_type": "code",
      "source": [
        "# Conclusion of Findings\n",
        "\n",
        "# The two texts, Abraham Lincoln's inaugural speech and Barack Obama's inaugural speech, exhibit several differences\n",
        "# in their language use, reflecting the unique historical contexts and rhetorical styles of each president.\n",
        "\n",
        "# 1. Tone and Complexity:\n",
        "# - Lincoln's speech has a formal and solemn tone, which reflects the gravity of the situation—an impending civil war\n",
        "#   and the preservation of the Union. The language is often complex and philosophical, employing legal terminology and rhetorical questions.\n",
        "# - Obama's speech, while also serious, conveys an inspiring and hopeful tone, focusing on unity and progress.\n",
        "#   The sentences are often more direct and less legally oriented, aiming to connect with a broader audience.\n",
        "\n",
        "# 2. Use of Rhetorical Techniques:\n",
        "# - Lincoln employs legalistic and constitutional arguments, demonstrating his strong belief in the perpetuity of the Union.\n",
        "#   His speech is more argumentative, intended to address the concerns of both the Southern and Northern states. He uses\n",
        "#   extended metaphors (e.g., comparing the Union to a contract) to emphasize his points.\n",
        "# - Obama uses inclusive language, addressing \"We the People\" and emphasizing collective responsibility. His speech is rich\n",
        "#   in metaphors and imagery meant to inspire, such as \"pick ourselves up, dust ourselves off,\" which highlights resilience.\n",
        "#   The use of biblical references and historical anecdotes aims to connect emotionally with the audience.\n",
        "\n",
        "# 3. Focus and Structure:\n",
        "# - Lincoln's focus is heavily on legal justification and constitutional arguments about the Union and the illegality of secession.\n",
        "#   The structure is more logically driven, using detailed arguments to convey why secession is unacceptable.\n",
        "# - Obama’s speech emphasizes hope, unity, and the need for collective action in addressing challenges like economic turmoil and global threats.\n",
        "#   It is structured to motivate and energize citizens towards a common goal.\n",
        "\n",
        "# Summary:\n",
        "# The key differences lie in their focus, tone, and intended impact. Lincoln's speech is primarily about preservation and legality,\n",
        "# addressing a divided nation in a formal manner. Obama's speech is about hope, unity, and progress, intended to rally a nation facing\n",
        "# modern challenges. The language of Lincoln is dense, legalistic, and serious, while Obama’s language is more straightforward,\n",
        "# inclusive, and motivational, reflecting the different audiences and goals of the speeches.\n"
      ],
      "metadata": {
        "id": "fTfDA7KkwhtA"
      },
      "execution_count": 44,
      "outputs": []
    },
    {
      "cell_type": "markdown",
      "metadata": {
        "id": "H_xO4R6CtNHx"
      },
      "source": [
        "### **Conclusion**\n",
        "\n",
        "Corpus Linguistics helps us study language quantitatively, focusing on patterns and structures within large collections of texts.\n",
        "With tools like `nltk` in Python, we can easily conduct word frequency analyses, explore word contexts (concordance), and find collocations.\n",
        "\n",
        "**Key takeaways:**\n",
        "- Corpus Linguistics provides insights into real-world language use.\n",
        "- Tokenization is crucial to break down text into analyzable units.\n",
        "- Frequency, concordance, and collocation analyses help in understanding the roles and relationships of words in a text.\n",
        "\n",
        "Further Reading:\n",
        "- McEnery, T., & Hardie, A. (2011). *Corpus Linguistics: Method, Theory and Practice*.\n",
        "- Baker, P. (2006). *Using Corpora in Discourse Analysis*."
      ]
    },
    {
      "cell_type": "code",
      "execution_count": null,
      "metadata": {
        "id": "HFaA4B1ctODL"
      },
      "outputs": [],
      "source": []
    }
  ],
  "metadata": {
    "colab": {
      "toc_visible": true,
      "provenance": []
    },
    "kernelspec": {
      "display_name": "Python 3",
      "name": "python3"
    },
    "language_info": {
      "name": "python"
    }
  },
  "nbformat": 4,
  "nbformat_minor": 0
}